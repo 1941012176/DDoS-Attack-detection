{
  "cells": [
    {
      "cell_type": "markdown",
      "metadata": {
        "id": "view-in-github",
        "colab_type": "text"
      },
      "source": [
        "<a href=\"https://colab.research.google.com/github/1941012176/DDoS-Attack-detection/blob/main/Classification_of_Attacks_on_UNSW_nb15.ipynb\" target=\"_parent\"><img src=\"https://colab.research.google.com/assets/colab-badge.svg\" alt=\"Open In Colab\"/></a>"
      ]
    },
    {
      "cell_type": "code",
      "source": [
        "!pip install prettytable\n",
        "!pip install xgboost"
      ],
      "metadata": {
        "colab": {
          "base_uri": "https://localhost:8080/"
        },
        "id": "9_OMP90yXUl3",
        "outputId": "163b7991-3775-438b-980b-e080cebf327a"
      },
      "execution_count": 8,
      "outputs": [
        {
          "output_type": "stream",
          "name": "stdout",
          "text": [
            "Requirement already satisfied: prettytable in /usr/local/lib/python3.10/dist-packages (3.11.0)\n",
            "Requirement already satisfied: wcwidth in /usr/local/lib/python3.10/dist-packages (from prettytable) (0.2.13)\n",
            "Collecting xgboost\n",
            "  Downloading xgboost-2.1.1-py3-none-manylinux_2_28_x86_64.whl.metadata (2.1 kB)\n",
            "Requirement already satisfied: numpy in /usr/local/lib/python3.10/dist-packages (from xgboost) (1.26.4)\n",
            "Collecting nvidia-nccl-cu12 (from xgboost)\n",
            "  Downloading nvidia_nccl_cu12-2.23.4-py3-none-manylinux2014_x86_64.whl.metadata (1.8 kB)\n",
            "Requirement already satisfied: scipy in /usr/local/lib/python3.10/dist-packages (from xgboost) (1.13.1)\n",
            "Downloading xgboost-2.1.1-py3-none-manylinux_2_28_x86_64.whl (153.9 MB)\n",
            "\u001b[2K   \u001b[90m━━━━━━━━━━━━━━━━━━━━━━━━━━━━━━━━━━━━━━━━\u001b[0m \u001b[32m153.9/153.9 MB\u001b[0m \u001b[31m6.8 MB/s\u001b[0m eta \u001b[36m0:00:00\u001b[0m\n",
            "\u001b[?25hDownloading nvidia_nccl_cu12-2.23.4-py3-none-manylinux2014_x86_64.whl (199.0 MB)\n",
            "\u001b[2K   \u001b[90m━━━━━━━━━━━━━━━━━━━━━━━━━━━━━━━━━━━━━━━━\u001b[0m \u001b[32m199.0/199.0 MB\u001b[0m \u001b[31m5.2 MB/s\u001b[0m eta \u001b[36m0:00:00\u001b[0m\n",
            "\u001b[?25hInstalling collected packages: nvidia-nccl-cu12, xgboost\n",
            "Successfully installed nvidia-nccl-cu12-2.23.4 xgboost-2.1.1\n"
          ]
        }
      ]
    },
    {
      "cell_type": "code",
      "execution_count": 9,
      "metadata": {
        "id": "flv-vX-idqWB"
      },
      "outputs": [],
      "source": [
        "import numpy as np\n",
        "import pandas as pd\n",
        "import matplotlib.pyplot as plt\n",
        "import seaborn as sns\n",
        "\n",
        "from scipy import stats\n",
        "import pickle\n",
        "from prettytable import PrettyTable\n",
        "\n",
        "import warnings\n",
        "warnings.filterwarnings('ignore')\n",
        "\n",
        "from sklearn.preprocessing import StandardScaler\n",
        "from sklearn.model_selection import train_test_split\n",
        "from sklearn.preprocessing import LabelEncoder, OneHotEncoder\n",
        "\n",
        "from sklearn.linear_model import LogisticRegression, SGDClassifier\n",
        "from sklearn.svm import LinearSVC\n",
        "from sklearn.naive_bayes import MultinomialNB\n",
        "from sklearn.tree import DecisionTreeClassifier\n",
        "from sklearn.ensemble import RandomForestClassifier\n",
        "\n",
        "import xgboost as xgb\n",
        "\n",
        "from sklearn.metrics import accuracy_score, confusion_matrix, make_scorer\n",
        "from sklearn.metrics import auc, f1_score, roc_curve\n",
        "from sklearn.model_selection import GridSearchCV, RandomizedSearchCV\n",
        "from sklearn.model_selection import cross_validate, cross_val_predict\n",
        "\n",
        "%matplotlib inline\n"
      ]
    },
    {
      "cell_type": "code",
      "source": [
        "from google.colab import drive\n",
        "drive.mount('/content/drive')"
      ],
      "metadata": {
        "colab": {
          "base_uri": "https://localhost:8080/"
        },
        "id": "AAKIYA43mM36",
        "outputId": "1a9ffabc-78ac-4b33-fcdd-77cc980272af"
      },
      "execution_count": 10,
      "outputs": [
        {
          "output_type": "stream",
          "name": "stdout",
          "text": [
            "Drive already mounted at /content/drive; to attempt to forcibly remount, call drive.mount(\"/content/drive\", force_remount=True).\n"
          ]
        }
      ]
    },
    {
      "cell_type": "code",
      "execution_count": 11,
      "metadata": {
        "id": "QNSg1xFXd14F"
      },
      "outputs": [],
      "source": [
        "saved_dict = {}"
      ]
    },
    {
      "cell_type": "code",
      "execution_count": 12,
      "metadata": {
        "id": "PttaOdGOJD1v"
      },
      "outputs": [],
      "source": [
        "dfs = []\n",
        "for i in range(1,5):\n",
        "  path ='/content/drive/MyDrive/UNSW-NB15/UNSW-NB15_{}.csv'\n",
        "  dfs.append(pd.read_csv(path.format(i), header = None))\n",
        "all_data = pd.concat(dfs).reset_index(drop=True)"
      ]
    },
    {
      "cell_type": "code",
      "execution_count": 13,
      "metadata": {
        "id": "jbdsfJK4KcqZ"
      },
      "outputs": [],
      "source": [
        "\n",
        "\n",
        "df_col = pd.read_csv('/content/drive/MyDrive/UNSW-NB15/NUSW-NB15_features.csv', encoding= 'ISO-8859-1')"
      ]
    },
    {
      "cell_type": "code",
      "execution_count": 14,
      "metadata": {
        "id": "lB_Dxh1uTyIm"
      },
      "outputs": [],
      "source": [
        "df_col['Name'] = df_col['Name'].apply(lambda x:x.strip().replace(' ','').lower())"
      ]
    },
    {
      "cell_type": "code",
      "execution_count": 15,
      "metadata": {
        "id": "Eq4J2Vr6UOn2"
      },
      "outputs": [],
      "source": [
        "all_data.columns = df_col['Name']"
      ]
    },
    {
      "cell_type": "code",
      "execution_count": 16,
      "metadata": {
        "id": "Mja5afNjUiHz"
      },
      "outputs": [],
      "source": [
        "saved_dict['columns']=df_col['Name'][df_col['Name']!='label'].tolist()"
      ]
    },
    {
      "cell_type": "code",
      "execution_count": 17,
      "metadata": {
        "id": "hsA3KA-dUxlt"
      },
      "outputs": [],
      "source": [
        "del df_col"
      ]
    },
    {
      "cell_type": "code",
      "execution_count": 18,
      "metadata": {
        "colab": {
          "base_uri": "https://localhost:8080/"
        },
        "id": "MuscIfKpU0y_",
        "outputId": "66f56cdf-e3ea-4cc3-f745-f2c0a30f6eea"
      },
      "outputs": [
        {
          "output_type": "execute_result",
          "data": {
            "text/plain": [
              "(2540047, 49)"
            ]
          },
          "metadata": {},
          "execution_count": 18
        }
      ],
      "source": [
        "all_data.shape"
      ]
    },
    {
      "cell_type": "markdown",
      "source": [],
      "metadata": {
        "id": "ch8H80ynODFi"
      }
    },
    {
      "cell_type": "code",
      "execution_count": 19,
      "metadata": {
        "colab": {
          "base_uri": "https://localhost:8080/",
          "height": 255
        },
        "id": "-EqEWv9XU2y8",
        "outputId": "f3168fa3-cee2-4bce-dd1b-e5c225c61df8"
      },
      "outputs": [
        {
          "output_type": "execute_result",
          "data": {
            "text/plain": [
              "Name       srcip  sport          dstip dsport proto state       dur  sbytes  \\\n",
              "0     59.166.0.0   1390  149.171.126.6     53   udp   CON  0.001055     132   \n",
              "1     59.166.0.0  33661  149.171.126.9   1024   udp   CON  0.036133     528   \n",
              "2     59.166.0.6   1464  149.171.126.7     53   udp   CON  0.001119     146   \n",
              "3     59.166.0.5   3593  149.171.126.5     53   udp   CON  0.001209     132   \n",
              "4     59.166.0.3  49664  149.171.126.0     53   udp   CON  0.001169     146   \n",
              "\n",
              "Name  dbytes  sttl  ...  ct_ftp_cmd  ct_srv_src  ct_srv_dst ct_dst_ltm  \\\n",
              "0        164    31  ...           0           3           7          1   \n",
              "1        304    31  ...           0           2           4          2   \n",
              "2        178    31  ...           0          12           8          1   \n",
              "3        164    31  ...           0           6           9          1   \n",
              "4        178    31  ...           0           7           9          1   \n",
              "\n",
              "Name  ct_src_ltm  ct_src_dport_ltm  ct_dst_sport_ltm  ct_dst_src_ltm  \\\n",
              "0              3                 1                 1               1   \n",
              "1              3                 1                 1               2   \n",
              "2              2                 2                 1               1   \n",
              "3              1                 1                 1               1   \n",
              "4              1                 1                 1               1   \n",
              "\n",
              "Name  attack_cat  label  \n",
              "0            NaN      0  \n",
              "1            NaN      0  \n",
              "2            NaN      0  \n",
              "3            NaN      0  \n",
              "4            NaN      0  \n",
              "\n",
              "[5 rows x 49 columns]"
            ],
            "text/html": [
              "\n",
              "  <div id=\"df-48e12e5d-30a9-4d99-b93f-a8debd7e18bc\" class=\"colab-df-container\">\n",
              "    <div>\n",
              "<style scoped>\n",
              "    .dataframe tbody tr th:only-of-type {\n",
              "        vertical-align: middle;\n",
              "    }\n",
              "\n",
              "    .dataframe tbody tr th {\n",
              "        vertical-align: top;\n",
              "    }\n",
              "\n",
              "    .dataframe thead th {\n",
              "        text-align: right;\n",
              "    }\n",
              "</style>\n",
              "<table border=\"1\" class=\"dataframe\">\n",
              "  <thead>\n",
              "    <tr style=\"text-align: right;\">\n",
              "      <th>Name</th>\n",
              "      <th>srcip</th>\n",
              "      <th>sport</th>\n",
              "      <th>dstip</th>\n",
              "      <th>dsport</th>\n",
              "      <th>proto</th>\n",
              "      <th>state</th>\n",
              "      <th>dur</th>\n",
              "      <th>sbytes</th>\n",
              "      <th>dbytes</th>\n",
              "      <th>sttl</th>\n",
              "      <th>...</th>\n",
              "      <th>ct_ftp_cmd</th>\n",
              "      <th>ct_srv_src</th>\n",
              "      <th>ct_srv_dst</th>\n",
              "      <th>ct_dst_ltm</th>\n",
              "      <th>ct_src_ltm</th>\n",
              "      <th>ct_src_dport_ltm</th>\n",
              "      <th>ct_dst_sport_ltm</th>\n",
              "      <th>ct_dst_src_ltm</th>\n",
              "      <th>attack_cat</th>\n",
              "      <th>label</th>\n",
              "    </tr>\n",
              "  </thead>\n",
              "  <tbody>\n",
              "    <tr>\n",
              "      <th>0</th>\n",
              "      <td>59.166.0.0</td>\n",
              "      <td>1390</td>\n",
              "      <td>149.171.126.6</td>\n",
              "      <td>53</td>\n",
              "      <td>udp</td>\n",
              "      <td>CON</td>\n",
              "      <td>0.001055</td>\n",
              "      <td>132</td>\n",
              "      <td>164</td>\n",
              "      <td>31</td>\n",
              "      <td>...</td>\n",
              "      <td>0</td>\n",
              "      <td>3</td>\n",
              "      <td>7</td>\n",
              "      <td>1</td>\n",
              "      <td>3</td>\n",
              "      <td>1</td>\n",
              "      <td>1</td>\n",
              "      <td>1</td>\n",
              "      <td>NaN</td>\n",
              "      <td>0</td>\n",
              "    </tr>\n",
              "    <tr>\n",
              "      <th>1</th>\n",
              "      <td>59.166.0.0</td>\n",
              "      <td>33661</td>\n",
              "      <td>149.171.126.9</td>\n",
              "      <td>1024</td>\n",
              "      <td>udp</td>\n",
              "      <td>CON</td>\n",
              "      <td>0.036133</td>\n",
              "      <td>528</td>\n",
              "      <td>304</td>\n",
              "      <td>31</td>\n",
              "      <td>...</td>\n",
              "      <td>0</td>\n",
              "      <td>2</td>\n",
              "      <td>4</td>\n",
              "      <td>2</td>\n",
              "      <td>3</td>\n",
              "      <td>1</td>\n",
              "      <td>1</td>\n",
              "      <td>2</td>\n",
              "      <td>NaN</td>\n",
              "      <td>0</td>\n",
              "    </tr>\n",
              "    <tr>\n",
              "      <th>2</th>\n",
              "      <td>59.166.0.6</td>\n",
              "      <td>1464</td>\n",
              "      <td>149.171.126.7</td>\n",
              "      <td>53</td>\n",
              "      <td>udp</td>\n",
              "      <td>CON</td>\n",
              "      <td>0.001119</td>\n",
              "      <td>146</td>\n",
              "      <td>178</td>\n",
              "      <td>31</td>\n",
              "      <td>...</td>\n",
              "      <td>0</td>\n",
              "      <td>12</td>\n",
              "      <td>8</td>\n",
              "      <td>1</td>\n",
              "      <td>2</td>\n",
              "      <td>2</td>\n",
              "      <td>1</td>\n",
              "      <td>1</td>\n",
              "      <td>NaN</td>\n",
              "      <td>0</td>\n",
              "    </tr>\n",
              "    <tr>\n",
              "      <th>3</th>\n",
              "      <td>59.166.0.5</td>\n",
              "      <td>3593</td>\n",
              "      <td>149.171.126.5</td>\n",
              "      <td>53</td>\n",
              "      <td>udp</td>\n",
              "      <td>CON</td>\n",
              "      <td>0.001209</td>\n",
              "      <td>132</td>\n",
              "      <td>164</td>\n",
              "      <td>31</td>\n",
              "      <td>...</td>\n",
              "      <td>0</td>\n",
              "      <td>6</td>\n",
              "      <td>9</td>\n",
              "      <td>1</td>\n",
              "      <td>1</td>\n",
              "      <td>1</td>\n",
              "      <td>1</td>\n",
              "      <td>1</td>\n",
              "      <td>NaN</td>\n",
              "      <td>0</td>\n",
              "    </tr>\n",
              "    <tr>\n",
              "      <th>4</th>\n",
              "      <td>59.166.0.3</td>\n",
              "      <td>49664</td>\n",
              "      <td>149.171.126.0</td>\n",
              "      <td>53</td>\n",
              "      <td>udp</td>\n",
              "      <td>CON</td>\n",
              "      <td>0.001169</td>\n",
              "      <td>146</td>\n",
              "      <td>178</td>\n",
              "      <td>31</td>\n",
              "      <td>...</td>\n",
              "      <td>0</td>\n",
              "      <td>7</td>\n",
              "      <td>9</td>\n",
              "      <td>1</td>\n",
              "      <td>1</td>\n",
              "      <td>1</td>\n",
              "      <td>1</td>\n",
              "      <td>1</td>\n",
              "      <td>NaN</td>\n",
              "      <td>0</td>\n",
              "    </tr>\n",
              "  </tbody>\n",
              "</table>\n",
              "<p>5 rows × 49 columns</p>\n",
              "</div>\n",
              "    <div class=\"colab-df-buttons\">\n",
              "\n",
              "  <div class=\"colab-df-container\">\n",
              "    <button class=\"colab-df-convert\" onclick=\"convertToInteractive('df-48e12e5d-30a9-4d99-b93f-a8debd7e18bc')\"\n",
              "            title=\"Convert this dataframe to an interactive table.\"\n",
              "            style=\"display:none;\">\n",
              "\n",
              "  <svg xmlns=\"http://www.w3.org/2000/svg\" height=\"24px\" viewBox=\"0 -960 960 960\">\n",
              "    <path d=\"M120-120v-720h720v720H120Zm60-500h600v-160H180v160Zm220 220h160v-160H400v160Zm0 220h160v-160H400v160ZM180-400h160v-160H180v160Zm440 0h160v-160H620v160ZM180-180h160v-160H180v160Zm440 0h160v-160H620v160Z\"/>\n",
              "  </svg>\n",
              "    </button>\n",
              "\n",
              "  <style>\n",
              "    .colab-df-container {\n",
              "      display:flex;\n",
              "      gap: 12px;\n",
              "    }\n",
              "\n",
              "    .colab-df-convert {\n",
              "      background-color: #E8F0FE;\n",
              "      border: none;\n",
              "      border-radius: 50%;\n",
              "      cursor: pointer;\n",
              "      display: none;\n",
              "      fill: #1967D2;\n",
              "      height: 32px;\n",
              "      padding: 0 0 0 0;\n",
              "      width: 32px;\n",
              "    }\n",
              "\n",
              "    .colab-df-convert:hover {\n",
              "      background-color: #E2EBFA;\n",
              "      box-shadow: 0px 1px 2px rgba(60, 64, 67, 0.3), 0px 1px 3px 1px rgba(60, 64, 67, 0.15);\n",
              "      fill: #174EA6;\n",
              "    }\n",
              "\n",
              "    .colab-df-buttons div {\n",
              "      margin-bottom: 4px;\n",
              "    }\n",
              "\n",
              "    [theme=dark] .colab-df-convert {\n",
              "      background-color: #3B4455;\n",
              "      fill: #D2E3FC;\n",
              "    }\n",
              "\n",
              "    [theme=dark] .colab-df-convert:hover {\n",
              "      background-color: #434B5C;\n",
              "      box-shadow: 0px 1px 3px 1px rgba(0, 0, 0, 0.15);\n",
              "      filter: drop-shadow(0px 1px 2px rgba(0, 0, 0, 0.3));\n",
              "      fill: #FFFFFF;\n",
              "    }\n",
              "  </style>\n",
              "\n",
              "    <script>\n",
              "      const buttonEl =\n",
              "        document.querySelector('#df-48e12e5d-30a9-4d99-b93f-a8debd7e18bc button.colab-df-convert');\n",
              "      buttonEl.style.display =\n",
              "        google.colab.kernel.accessAllowed ? 'block' : 'none';\n",
              "\n",
              "      async function convertToInteractive(key) {\n",
              "        const element = document.querySelector('#df-48e12e5d-30a9-4d99-b93f-a8debd7e18bc');\n",
              "        const dataTable =\n",
              "          await google.colab.kernel.invokeFunction('convertToInteractive',\n",
              "                                                    [key], {});\n",
              "        if (!dataTable) return;\n",
              "\n",
              "        const docLinkHtml = 'Like what you see? Visit the ' +\n",
              "          '<a target=\"_blank\" href=https://colab.research.google.com/notebooks/data_table.ipynb>data table notebook</a>'\n",
              "          + ' to learn more about interactive tables.';\n",
              "        element.innerHTML = '';\n",
              "        dataTable['output_type'] = 'display_data';\n",
              "        await google.colab.output.renderOutput(dataTable, element);\n",
              "        const docLink = document.createElement('div');\n",
              "        docLink.innerHTML = docLinkHtml;\n",
              "        element.appendChild(docLink);\n",
              "      }\n",
              "    </script>\n",
              "  </div>\n",
              "\n",
              "\n",
              "<div id=\"df-237fdf77-49e8-4ea8-a2bf-0765f8e0c313\">\n",
              "  <button class=\"colab-df-quickchart\" onclick=\"quickchart('df-237fdf77-49e8-4ea8-a2bf-0765f8e0c313')\"\n",
              "            title=\"Suggest charts\"\n",
              "            style=\"display:none;\">\n",
              "\n",
              "<svg xmlns=\"http://www.w3.org/2000/svg\" height=\"24px\"viewBox=\"0 0 24 24\"\n",
              "     width=\"24px\">\n",
              "    <g>\n",
              "        <path d=\"M19 3H5c-1.1 0-2 .9-2 2v14c0 1.1.9 2 2 2h14c1.1 0 2-.9 2-2V5c0-1.1-.9-2-2-2zM9 17H7v-7h2v7zm4 0h-2V7h2v10zm4 0h-2v-4h2v4z\"/>\n",
              "    </g>\n",
              "</svg>\n",
              "  </button>\n",
              "\n",
              "<style>\n",
              "  .colab-df-quickchart {\n",
              "      --bg-color: #E8F0FE;\n",
              "      --fill-color: #1967D2;\n",
              "      --hover-bg-color: #E2EBFA;\n",
              "      --hover-fill-color: #174EA6;\n",
              "      --disabled-fill-color: #AAA;\n",
              "      --disabled-bg-color: #DDD;\n",
              "  }\n",
              "\n",
              "  [theme=dark] .colab-df-quickchart {\n",
              "      --bg-color: #3B4455;\n",
              "      --fill-color: #D2E3FC;\n",
              "      --hover-bg-color: #434B5C;\n",
              "      --hover-fill-color: #FFFFFF;\n",
              "      --disabled-bg-color: #3B4455;\n",
              "      --disabled-fill-color: #666;\n",
              "  }\n",
              "\n",
              "  .colab-df-quickchart {\n",
              "    background-color: var(--bg-color);\n",
              "    border: none;\n",
              "    border-radius: 50%;\n",
              "    cursor: pointer;\n",
              "    display: none;\n",
              "    fill: var(--fill-color);\n",
              "    height: 32px;\n",
              "    padding: 0;\n",
              "    width: 32px;\n",
              "  }\n",
              "\n",
              "  .colab-df-quickchart:hover {\n",
              "    background-color: var(--hover-bg-color);\n",
              "    box-shadow: 0 1px 2px rgba(60, 64, 67, 0.3), 0 1px 3px 1px rgba(60, 64, 67, 0.15);\n",
              "    fill: var(--button-hover-fill-color);\n",
              "  }\n",
              "\n",
              "  .colab-df-quickchart-complete:disabled,\n",
              "  .colab-df-quickchart-complete:disabled:hover {\n",
              "    background-color: var(--disabled-bg-color);\n",
              "    fill: var(--disabled-fill-color);\n",
              "    box-shadow: none;\n",
              "  }\n",
              "\n",
              "  .colab-df-spinner {\n",
              "    border: 2px solid var(--fill-color);\n",
              "    border-color: transparent;\n",
              "    border-bottom-color: var(--fill-color);\n",
              "    animation:\n",
              "      spin 1s steps(1) infinite;\n",
              "  }\n",
              "\n",
              "  @keyframes spin {\n",
              "    0% {\n",
              "      border-color: transparent;\n",
              "      border-bottom-color: var(--fill-color);\n",
              "      border-left-color: var(--fill-color);\n",
              "    }\n",
              "    20% {\n",
              "      border-color: transparent;\n",
              "      border-left-color: var(--fill-color);\n",
              "      border-top-color: var(--fill-color);\n",
              "    }\n",
              "    30% {\n",
              "      border-color: transparent;\n",
              "      border-left-color: var(--fill-color);\n",
              "      border-top-color: var(--fill-color);\n",
              "      border-right-color: var(--fill-color);\n",
              "    }\n",
              "    40% {\n",
              "      border-color: transparent;\n",
              "      border-right-color: var(--fill-color);\n",
              "      border-top-color: var(--fill-color);\n",
              "    }\n",
              "    60% {\n",
              "      border-color: transparent;\n",
              "      border-right-color: var(--fill-color);\n",
              "    }\n",
              "    80% {\n",
              "      border-color: transparent;\n",
              "      border-right-color: var(--fill-color);\n",
              "      border-bottom-color: var(--fill-color);\n",
              "    }\n",
              "    90% {\n",
              "      border-color: transparent;\n",
              "      border-bottom-color: var(--fill-color);\n",
              "    }\n",
              "  }\n",
              "</style>\n",
              "\n",
              "  <script>\n",
              "    async function quickchart(key) {\n",
              "      const quickchartButtonEl =\n",
              "        document.querySelector('#' + key + ' button');\n",
              "      quickchartButtonEl.disabled = true;  // To prevent multiple clicks.\n",
              "      quickchartButtonEl.classList.add('colab-df-spinner');\n",
              "      try {\n",
              "        const charts = await google.colab.kernel.invokeFunction(\n",
              "            'suggestCharts', [key], {});\n",
              "      } catch (error) {\n",
              "        console.error('Error during call to suggestCharts:', error);\n",
              "      }\n",
              "      quickchartButtonEl.classList.remove('colab-df-spinner');\n",
              "      quickchartButtonEl.classList.add('colab-df-quickchart-complete');\n",
              "    }\n",
              "    (() => {\n",
              "      let quickchartButtonEl =\n",
              "        document.querySelector('#df-237fdf77-49e8-4ea8-a2bf-0765f8e0c313 button');\n",
              "      quickchartButtonEl.style.display =\n",
              "        google.colab.kernel.accessAllowed ? 'block' : 'none';\n",
              "    })();\n",
              "  </script>\n",
              "</div>\n",
              "\n",
              "    </div>\n",
              "  </div>\n"
            ],
            "application/vnd.google.colaboratory.intrinsic+json": {
              "type": "dataframe",
              "variable_name": "all_data"
            }
          },
          "metadata": {},
          "execution_count": 19
        }
      ],
      "source": [
        "all_data.head()"
      ]
    },
    {
      "cell_type": "markdown",
      "metadata": {
        "id": "ZWkwPnBQ_bu2"
      },
      "source": [
        "## **Data Cleaning and Preprocessing:**"
      ]
    },
    {
      "cell_type": "code",
      "execution_count": 20,
      "metadata": {
        "id": "d78TfGL_U8FD"
      },
      "outputs": [],
      "source": [
        "train, test = train_test_split(all_data,test_size=0.3, random_state=16)"
      ]
    },
    {
      "cell_type": "code",
      "execution_count": 21,
      "metadata": {
        "id": "3gHflwC8_ZQd"
      },
      "outputs": [],
      "source": [
        "del all_data"
      ]
    },
    {
      "cell_type": "code",
      "execution_count": 22,
      "metadata": {
        "colab": {
          "base_uri": "https://localhost:8080/"
        },
        "id": "IF9uA3Hl_nUi",
        "outputId": "9fe2d595-e027-41a7-b78f-392ba02b366f"
      },
      "outputs": [
        {
          "output_type": "stream",
          "name": "stdout",
          "text": [
            "(1778032, 49) \n",
            ", (762015, 49)\n"
          ]
        }
      ],
      "source": [
        "\n",
        "\n",
        "print(train.shape,'\\n,', test.shape)"
      ]
    },
    {
      "cell_type": "code",
      "execution_count": 23,
      "metadata": {
        "colab": {
          "base_uri": "https://localhost:8080/",
          "height": 1000
        },
        "id": "ficVZkDN_yNf",
        "outputId": "7f4afb07-9dde-4260-aab5-f7d8e9e07e66"
      },
      "outputs": [
        {
          "output_type": "execute_result",
          "data": {
            "text/plain": [
              "Name\n",
              "srcip                     0\n",
              "sport                     0\n",
              "dstip                     0\n",
              "dsport                    0\n",
              "proto                     0\n",
              "state                     0\n",
              "dur                       0\n",
              "sbytes                    0\n",
              "dbytes                    0\n",
              "sttl                      0\n",
              "dttl                      0\n",
              "sloss                     0\n",
              "dloss                     0\n",
              "service                   0\n",
              "sload                     0\n",
              "dload                     0\n",
              "spkts                     0\n",
              "dpkts                     0\n",
              "swin                      0\n",
              "dwin                      0\n",
              "stcpb                     0\n",
              "dtcpb                     0\n",
              "smeansz                   0\n",
              "dmeansz                   0\n",
              "trans_depth               0\n",
              "res_bdy_len               0\n",
              "sjit                      0\n",
              "djit                      0\n",
              "stime                     0\n",
              "ltime                     0\n",
              "sintpkt                   0\n",
              "dintpkt                   0\n",
              "tcprtt                    0\n",
              "synack                    0\n",
              "ackdat                    0\n",
              "is_sm_ips_ports           0\n",
              "ct_state_ttl              0\n",
              "ct_flw_http_mthd     943876\n",
              "is_ftp_login        1001037\n",
              "ct_ftp_cmd                0\n",
              "ct_srv_src                0\n",
              "ct_srv_dst                0\n",
              "ct_dst_ltm                0\n",
              "ct_src_ltm                0\n",
              "ct_src_dport_ltm          0\n",
              "ct_dst_sport_ltm          0\n",
              "ct_dst_src_ltm            0\n",
              "attack_cat          1552862\n",
              "label                     0\n",
              "dtype: int64"
            ],
            "text/html": [
              "<div>\n",
              "<style scoped>\n",
              "    .dataframe tbody tr th:only-of-type {\n",
              "        vertical-align: middle;\n",
              "    }\n",
              "\n",
              "    .dataframe tbody tr th {\n",
              "        vertical-align: top;\n",
              "    }\n",
              "\n",
              "    .dataframe thead th {\n",
              "        text-align: right;\n",
              "    }\n",
              "</style>\n",
              "<table border=\"1\" class=\"dataframe\">\n",
              "  <thead>\n",
              "    <tr style=\"text-align: right;\">\n",
              "      <th></th>\n",
              "      <th>0</th>\n",
              "    </tr>\n",
              "    <tr>\n",
              "      <th>Name</th>\n",
              "      <th></th>\n",
              "    </tr>\n",
              "  </thead>\n",
              "  <tbody>\n",
              "    <tr>\n",
              "      <th>srcip</th>\n",
              "      <td>0</td>\n",
              "    </tr>\n",
              "    <tr>\n",
              "      <th>sport</th>\n",
              "      <td>0</td>\n",
              "    </tr>\n",
              "    <tr>\n",
              "      <th>dstip</th>\n",
              "      <td>0</td>\n",
              "    </tr>\n",
              "    <tr>\n",
              "      <th>dsport</th>\n",
              "      <td>0</td>\n",
              "    </tr>\n",
              "    <tr>\n",
              "      <th>proto</th>\n",
              "      <td>0</td>\n",
              "    </tr>\n",
              "    <tr>\n",
              "      <th>state</th>\n",
              "      <td>0</td>\n",
              "    </tr>\n",
              "    <tr>\n",
              "      <th>dur</th>\n",
              "      <td>0</td>\n",
              "    </tr>\n",
              "    <tr>\n",
              "      <th>sbytes</th>\n",
              "      <td>0</td>\n",
              "    </tr>\n",
              "    <tr>\n",
              "      <th>dbytes</th>\n",
              "      <td>0</td>\n",
              "    </tr>\n",
              "    <tr>\n",
              "      <th>sttl</th>\n",
              "      <td>0</td>\n",
              "    </tr>\n",
              "    <tr>\n",
              "      <th>dttl</th>\n",
              "      <td>0</td>\n",
              "    </tr>\n",
              "    <tr>\n",
              "      <th>sloss</th>\n",
              "      <td>0</td>\n",
              "    </tr>\n",
              "    <tr>\n",
              "      <th>dloss</th>\n",
              "      <td>0</td>\n",
              "    </tr>\n",
              "    <tr>\n",
              "      <th>service</th>\n",
              "      <td>0</td>\n",
              "    </tr>\n",
              "    <tr>\n",
              "      <th>sload</th>\n",
              "      <td>0</td>\n",
              "    </tr>\n",
              "    <tr>\n",
              "      <th>dload</th>\n",
              "      <td>0</td>\n",
              "    </tr>\n",
              "    <tr>\n",
              "      <th>spkts</th>\n",
              "      <td>0</td>\n",
              "    </tr>\n",
              "    <tr>\n",
              "      <th>dpkts</th>\n",
              "      <td>0</td>\n",
              "    </tr>\n",
              "    <tr>\n",
              "      <th>swin</th>\n",
              "      <td>0</td>\n",
              "    </tr>\n",
              "    <tr>\n",
              "      <th>dwin</th>\n",
              "      <td>0</td>\n",
              "    </tr>\n",
              "    <tr>\n",
              "      <th>stcpb</th>\n",
              "      <td>0</td>\n",
              "    </tr>\n",
              "    <tr>\n",
              "      <th>dtcpb</th>\n",
              "      <td>0</td>\n",
              "    </tr>\n",
              "    <tr>\n",
              "      <th>smeansz</th>\n",
              "      <td>0</td>\n",
              "    </tr>\n",
              "    <tr>\n",
              "      <th>dmeansz</th>\n",
              "      <td>0</td>\n",
              "    </tr>\n",
              "    <tr>\n",
              "      <th>trans_depth</th>\n",
              "      <td>0</td>\n",
              "    </tr>\n",
              "    <tr>\n",
              "      <th>res_bdy_len</th>\n",
              "      <td>0</td>\n",
              "    </tr>\n",
              "    <tr>\n",
              "      <th>sjit</th>\n",
              "      <td>0</td>\n",
              "    </tr>\n",
              "    <tr>\n",
              "      <th>djit</th>\n",
              "      <td>0</td>\n",
              "    </tr>\n",
              "    <tr>\n",
              "      <th>stime</th>\n",
              "      <td>0</td>\n",
              "    </tr>\n",
              "    <tr>\n",
              "      <th>ltime</th>\n",
              "      <td>0</td>\n",
              "    </tr>\n",
              "    <tr>\n",
              "      <th>sintpkt</th>\n",
              "      <td>0</td>\n",
              "    </tr>\n",
              "    <tr>\n",
              "      <th>dintpkt</th>\n",
              "      <td>0</td>\n",
              "    </tr>\n",
              "    <tr>\n",
              "      <th>tcprtt</th>\n",
              "      <td>0</td>\n",
              "    </tr>\n",
              "    <tr>\n",
              "      <th>synack</th>\n",
              "      <td>0</td>\n",
              "    </tr>\n",
              "    <tr>\n",
              "      <th>ackdat</th>\n",
              "      <td>0</td>\n",
              "    </tr>\n",
              "    <tr>\n",
              "      <th>is_sm_ips_ports</th>\n",
              "      <td>0</td>\n",
              "    </tr>\n",
              "    <tr>\n",
              "      <th>ct_state_ttl</th>\n",
              "      <td>0</td>\n",
              "    </tr>\n",
              "    <tr>\n",
              "      <th>ct_flw_http_mthd</th>\n",
              "      <td>943876</td>\n",
              "    </tr>\n",
              "    <tr>\n",
              "      <th>is_ftp_login</th>\n",
              "      <td>1001037</td>\n",
              "    </tr>\n",
              "    <tr>\n",
              "      <th>ct_ftp_cmd</th>\n",
              "      <td>0</td>\n",
              "    </tr>\n",
              "    <tr>\n",
              "      <th>ct_srv_src</th>\n",
              "      <td>0</td>\n",
              "    </tr>\n",
              "    <tr>\n",
              "      <th>ct_srv_dst</th>\n",
              "      <td>0</td>\n",
              "    </tr>\n",
              "    <tr>\n",
              "      <th>ct_dst_ltm</th>\n",
              "      <td>0</td>\n",
              "    </tr>\n",
              "    <tr>\n",
              "      <th>ct_src_ltm</th>\n",
              "      <td>0</td>\n",
              "    </tr>\n",
              "    <tr>\n",
              "      <th>ct_src_dport_ltm</th>\n",
              "      <td>0</td>\n",
              "    </tr>\n",
              "    <tr>\n",
              "      <th>ct_dst_sport_ltm</th>\n",
              "      <td>0</td>\n",
              "    </tr>\n",
              "    <tr>\n",
              "      <th>ct_dst_src_ltm</th>\n",
              "      <td>0</td>\n",
              "    </tr>\n",
              "    <tr>\n",
              "      <th>attack_cat</th>\n",
              "      <td>1552862</td>\n",
              "    </tr>\n",
              "    <tr>\n",
              "      <th>label</th>\n",
              "      <td>0</td>\n",
              "    </tr>\n",
              "  </tbody>\n",
              "</table>\n",
              "</div><br><label><b>dtype:</b> int64</label>"
            ]
          },
          "metadata": {},
          "execution_count": 23
        }
      ],
      "source": [
        "train.isnull().sum()"
      ]
    },
    {
      "cell_type": "code",
      "execution_count": 24,
      "metadata": {
        "id": "zAeBEajPAM6F"
      },
      "outputs": [],
      "source": [
        "train['attack_cat']=train.attack_cat.fillna(value='normal').apply(lambda x: x.strip().lower())"
      ]
    },
    {
      "cell_type": "code",
      "execution_count": 25,
      "metadata": {
        "colab": {
          "base_uri": "https://localhost:8080/",
          "height": 460
        },
        "id": "Kq0VW7aZAS9R",
        "outputId": "2a52c869-60c4-4851-e10a-630af47008f1"
      },
      "outputs": [
        {
          "output_type": "execute_result",
          "data": {
            "text/plain": [
              "attack_cat\n",
              "normal            1552862\n",
              "generic            150906\n",
              "exploits            31507\n",
              "fuzzers             16914\n",
              "dos                 11433\n",
              "reconnaissance       9764\n",
              "analysis             1855\n",
              "backdoor             1242\n",
              "shellcode            1055\n",
              "backdoors             374\n",
              "worms                 120\n",
              "Name: count, dtype: int64"
            ],
            "text/html": [
              "<div>\n",
              "<style scoped>\n",
              "    .dataframe tbody tr th:only-of-type {\n",
              "        vertical-align: middle;\n",
              "    }\n",
              "\n",
              "    .dataframe tbody tr th {\n",
              "        vertical-align: top;\n",
              "    }\n",
              "\n",
              "    .dataframe thead th {\n",
              "        text-align: right;\n",
              "    }\n",
              "</style>\n",
              "<table border=\"1\" class=\"dataframe\">\n",
              "  <thead>\n",
              "    <tr style=\"text-align: right;\">\n",
              "      <th></th>\n",
              "      <th>count</th>\n",
              "    </tr>\n",
              "    <tr>\n",
              "      <th>attack_cat</th>\n",
              "      <th></th>\n",
              "    </tr>\n",
              "  </thead>\n",
              "  <tbody>\n",
              "    <tr>\n",
              "      <th>normal</th>\n",
              "      <td>1552862</td>\n",
              "    </tr>\n",
              "    <tr>\n",
              "      <th>generic</th>\n",
              "      <td>150906</td>\n",
              "    </tr>\n",
              "    <tr>\n",
              "      <th>exploits</th>\n",
              "      <td>31507</td>\n",
              "    </tr>\n",
              "    <tr>\n",
              "      <th>fuzzers</th>\n",
              "      <td>16914</td>\n",
              "    </tr>\n",
              "    <tr>\n",
              "      <th>dos</th>\n",
              "      <td>11433</td>\n",
              "    </tr>\n",
              "    <tr>\n",
              "      <th>reconnaissance</th>\n",
              "      <td>9764</td>\n",
              "    </tr>\n",
              "    <tr>\n",
              "      <th>analysis</th>\n",
              "      <td>1855</td>\n",
              "    </tr>\n",
              "    <tr>\n",
              "      <th>backdoor</th>\n",
              "      <td>1242</td>\n",
              "    </tr>\n",
              "    <tr>\n",
              "      <th>shellcode</th>\n",
              "      <td>1055</td>\n",
              "    </tr>\n",
              "    <tr>\n",
              "      <th>backdoors</th>\n",
              "      <td>374</td>\n",
              "    </tr>\n",
              "    <tr>\n",
              "      <th>worms</th>\n",
              "      <td>120</td>\n",
              "    </tr>\n",
              "  </tbody>\n",
              "</table>\n",
              "</div><br><label><b>dtype:</b> int64</label>"
            ]
          },
          "metadata": {},
          "execution_count": 25
        }
      ],
      "source": [
        "train['attack_cat'].value_counts()"
      ]
    },
    {
      "cell_type": "code",
      "execution_count": 26,
      "metadata": {
        "colab": {
          "base_uri": "https://localhost:8080/",
          "height": 241
        },
        "id": "qM6mbk9vBBmw",
        "outputId": "2f8e355c-de8a-4535-eb1a-31d646c5e75a"
      },
      "outputs": [
        {
          "output_type": "execute_result",
          "data": {
            "text/plain": [
              "is_ftp_login\n",
              "0.0    746536\n",
              "1.0     30329\n",
              "4.0       109\n",
              "2.0        21\n",
              "Name: count, dtype: int64"
            ],
            "text/html": [
              "<div>\n",
              "<style scoped>\n",
              "    .dataframe tbody tr th:only-of-type {\n",
              "        vertical-align: middle;\n",
              "    }\n",
              "\n",
              "    .dataframe tbody tr th {\n",
              "        vertical-align: top;\n",
              "    }\n",
              "\n",
              "    .dataframe thead th {\n",
              "        text-align: right;\n",
              "    }\n",
              "</style>\n",
              "<table border=\"1\" class=\"dataframe\">\n",
              "  <thead>\n",
              "    <tr style=\"text-align: right;\">\n",
              "      <th></th>\n",
              "      <th>count</th>\n",
              "    </tr>\n",
              "    <tr>\n",
              "      <th>is_ftp_login</th>\n",
              "      <th></th>\n",
              "    </tr>\n",
              "  </thead>\n",
              "  <tbody>\n",
              "    <tr>\n",
              "      <th>0.0</th>\n",
              "      <td>746536</td>\n",
              "    </tr>\n",
              "    <tr>\n",
              "      <th>1.0</th>\n",
              "      <td>30329</td>\n",
              "    </tr>\n",
              "    <tr>\n",
              "      <th>4.0</th>\n",
              "      <td>109</td>\n",
              "    </tr>\n",
              "    <tr>\n",
              "      <th>2.0</th>\n",
              "      <td>21</td>\n",
              "    </tr>\n",
              "  </tbody>\n",
              "</table>\n",
              "</div><br><label><b>dtype:</b> int64</label>"
            ]
          },
          "metadata": {},
          "execution_count": 26
        }
      ],
      "source": [
        "train['ct_flw_http_mthd']=train.ct_flw_http_mthd.fillna(value=0)\n",
        "train['is_ftp_login'].value_counts()"
      ]
    },
    {
      "cell_type": "code",
      "execution_count": 27,
      "metadata": {
        "id": "zEQrZky8B5UF"
      },
      "outputs": [],
      "source": [
        "train['is_ftp_login']=(train.is_ftp_login.fillna(value=0)).astype(int)"
      ]
    },
    {
      "cell_type": "code",
      "execution_count": 28,
      "metadata": {
        "colab": {
          "base_uri": "https://localhost:8080/"
        },
        "id": "DhRdQl0kCf1N",
        "outputId": "56c0005e-c420-42f9-e95e-b90e0e127f86"
      },
      "outputs": [
        {
          "output_type": "execute_result",
          "data": {
            "text/plain": [
              "0"
            ]
          },
          "metadata": {},
          "execution_count": 28
        }
      ],
      "source": [
        "train.isnull().sum().sum()"
      ]
    },
    {
      "cell_type": "code",
      "execution_count": 29,
      "metadata": {
        "colab": {
          "base_uri": "https://localhost:8080/"
        },
        "id": "D9tw5qSyCnEg",
        "outputId": "922ae384-00ae-482c-f593-51368b449e3d"
      },
      "outputs": [
        {
          "output_type": "execute_result",
          "data": {
            "text/plain": [
              "Index(['srcip', 'sport', 'dstip', 'dsport', 'proto', 'state', 'dur', 'sbytes',\n",
              "       'dbytes', 'sttl', 'dttl', 'sloss', 'dloss', 'service', 'sload', 'dload',\n",
              "       'spkts', 'dpkts', 'swin', 'dwin', 'stcpb', 'dtcpb', 'smeansz',\n",
              "       'dmeansz', 'trans_depth', 'res_bdy_len', 'sjit', 'djit', 'stime',\n",
              "       'ltime', 'sintpkt', 'dintpkt', 'tcprtt', 'synack', 'ackdat',\n",
              "       'is_sm_ips_ports', 'ct_state_ttl', 'ct_flw_http_mthd', 'is_ftp_login',\n",
              "       'ct_ftp_cmd', 'ct_srv_src', 'ct_srv_dst', 'ct_dst_ltm', 'ct_src_ltm',\n",
              "       'ct_src_dport_ltm', 'ct_dst_sport_ltm', 'ct_dst_src_ltm', 'attack_cat',\n",
              "       'label'],\n",
              "      dtype='object', name='Name')"
            ]
          },
          "metadata": {},
          "execution_count": 29
        }
      ],
      "source": [
        "train.columns"
      ]
    },
    {
      "cell_type": "markdown",
      "metadata": {
        "id": "Q8hafJrqFp20"
      },
      "source": [
        "### **Class Distribution:**"
      ]
    },
    {
      "cell_type": "code",
      "execution_count": 30,
      "metadata": {
        "id": "D9IYetb2ENiy"
      },
      "outputs": [],
      "source": [
        "train_0, train_1 = train['label'].value_counts()[0]/len(train.index), train['label'].value_counts()[1]/len(train.index)\n",
        "test_0, test_1 = test['label'].value_counts()[0]/len(test.index), test['label'].value_counts()[1]/len(test.index)"
      ]
    },
    {
      "cell_type": "code",
      "execution_count": 31,
      "metadata": {
        "colab": {
          "base_uri": "https://localhost:8080/"
        },
        "id": "_vYo2Qj5FOhG",
        "outputId": "25492139-1485-4488-82a5-86b0ee541ed4"
      },
      "outputs": [
        {
          "output_type": "stream",
          "name": "stdout",
          "text": [
            "In Train: there are 0.8733599845222133 % of class 0 and 0.12664001547778667 % of class 1\n",
            "In Test: there are 0.8738699369434985 % of class 0 and 0.1261300630565015 % of class 1\n"
          ]
        }
      ],
      "source": [
        "print(\"In Train: there are {} % of class 0 and {} % of class 1\".format(train_0,train_1))\n",
        "print(\"In Test: there are {} % of class 0 and {} % of class 1\".format(test_0,test_1))"
      ]
    },
    {
      "cell_type": "code",
      "execution_count": 32,
      "metadata": {
        "colab": {
          "base_uri": "https://localhost:8080/",
          "height": 467
        },
        "id": "b2F4ZHhKFnXA",
        "outputId": "5cb52d49-a5e2-4572-d1e8-dd5a8eb65f47"
      },
      "outputs": [
        {
          "output_type": "display_data",
          "data": {
            "text/plain": [
              "<Figure size 640x480 with 1 Axes>"
            ],
            "image/png": "[encoded data removed]"
          },
          "metadata": {}
        }
      ],
      "source": [
        "plt.figure()\n",
        "plt.title(\"class distribution of train and test dataset\")\n",
        "train['label'].value_counts().plot(kind=\"bar\", color='b',label=\"train\")\n",
        "test['label'].value_counts().plot(kind=\"bar\", color='orange',label=\"test\")\n",
        "plt.xlabel(\"Class\")\n",
        "plt.ylabel(\"Count\")\n",
        "plt.legend()\n",
        "plt.show()"
      ]
    },
    {
      "cell_type": "code",
      "execution_count": 33,
      "metadata": {
        "colab": {
          "base_uri": "https://localhost:8080/"
        },
        "id": "U-9SRM0uGcrI",
        "outputId": "ab95efb7-40e9-4685-eb4e-c8e763ab06f6"
      },
      "outputs": [
        {
          "output_type": "execute_result",
          "data": {
            "text/plain": [
              "(0, 1499013)"
            ]
          },
          "metadata": {},
          "execution_count": 33
        }
      ],
      "source": [
        "train.isnull().sum().sum(), test.isnull().sum().sum()"
      ]
    },
    {
      "cell_type": "code",
      "execution_count": 34,
      "metadata": {
        "colab": {
          "base_uri": "https://localhost:8080/"
        },
        "id": "ZZ-b10AeIf_0",
        "outputId": "53c55ff6-62d0-429c-a265-f6247172a41b"
      },
      "outputs": [
        {
          "output_type": "stream",
          "name": "stdout",
          "text": [
            "<class 'pandas.core.frame.DataFrame'>\n",
            "Index: 1778032 entries, 81030 to 2079982\n",
            "Data columns (total 49 columns):\n",
            " #   Column            Dtype  \n",
            "---  ------            -----  \n",
            " 0   srcip             object \n",
            " 1   sport             object \n",
            " 2   dstip             object \n",
            " 3   dsport            object \n",
            " 4   proto             object \n",
            " 5   state             object \n",
            " 6   dur               float64\n",
            " 7   sbytes            int64  \n",
            " 8   dbytes            int64  \n",
            " 9   sttl              int64  \n",
            " 10  dttl              int64  \n",
            " 11  sloss             int64  \n",
            " 12  dloss             int64  \n",
            " 13  service           object \n",
            " 14  sload             float64\n",
            " 15  dload             float64\n",
            " 16  spkts             int64  \n",
            " 17  dpkts             int64  \n",
            " 18  swin              int64  \n",
            " 19  dwin              int64  \n",
            " 20  stcpb             int64  \n",
            " 21  dtcpb             int64  \n",
            " 22  smeansz           int64  \n",
            " 23  dmeansz           int64  \n",
            " 24  trans_depth       int64  \n",
            " 25  res_bdy_len       int64  \n",
            " 26  sjit              float64\n",
            " 27  djit              float64\n",
            " 28  stime             int64  \n",
            " 29  ltime             int64  \n",
            " 30  sintpkt           float64\n",
            " 31  dintpkt           float64\n",
            " 32  tcprtt            float64\n",
            " 33  synack            float64\n",
            " 34  ackdat            float64\n",
            " 35  is_sm_ips_ports   int64  \n",
            " 36  ct_state_ttl      int64  \n",
            " 37  ct_flw_http_mthd  float64\n",
            " 38  is_ftp_login      int64  \n",
            " 39  ct_ftp_cmd        object \n",
            " 40  ct_srv_src        int64  \n",
            " 41  ct_srv_dst        int64  \n",
            " 42  ct_dst_ltm        int64  \n",
            " 43  ct_src_ltm        int64  \n",
            " 44  ct_src_dport_ltm  int64  \n",
            " 45  ct_dst_sport_ltm  int64  \n",
            " 46  ct_dst_src_ltm    int64  \n",
            " 47  attack_cat        object \n",
            " 48  label             int64  \n",
            "dtypes: float64(11), int64(29), object(9)\n",
            "memory usage: 678.3+ MB\n"
          ]
        }
      ],
      "source": [
        "train.info()"
      ]
    },
    {
      "cell_type": "code",
      "execution_count": 35,
      "metadata": {
        "colab": {
          "base_uri": "https://localhost:8080/",
          "height": 178
        },
        "id": "DCyvwiSCIiQq",
        "outputId": "cecd1b1d-51ae-4548-df4a-0ba020fa11d9"
      },
      "outputs": [
        {
          "output_type": "execute_result",
          "data": {
            "text/plain": [
              "int64      29\n",
              "float64    11\n",
              "object      9\n",
              "Name: count, dtype: int64"
            ],
            "text/html": [
              "<div>\n",
              "<style scoped>\n",
              "    .dataframe tbody tr th:only-of-type {\n",
              "        vertical-align: middle;\n",
              "    }\n",
              "\n",
              "    .dataframe tbody tr th {\n",
              "        vertical-align: top;\n",
              "    }\n",
              "\n",
              "    .dataframe thead th {\n",
              "        text-align: right;\n",
              "    }\n",
              "</style>\n",
              "<table border=\"1\" class=\"dataframe\">\n",
              "  <thead>\n",
              "    <tr style=\"text-align: right;\">\n",
              "      <th></th>\n",
              "      <th>count</th>\n",
              "    </tr>\n",
              "  </thead>\n",
              "  <tbody>\n",
              "    <tr>\n",
              "      <th>int64</th>\n",
              "      <td>29</td>\n",
              "    </tr>\n",
              "    <tr>\n",
              "      <th>float64</th>\n",
              "      <td>11</td>\n",
              "    </tr>\n",
              "    <tr>\n",
              "      <th>object</th>\n",
              "      <td>9</td>\n",
              "    </tr>\n",
              "  </tbody>\n",
              "</table>\n",
              "</div><br><label><b>dtype:</b> int64</label>"
            ]
          },
          "metadata": {},
          "execution_count": 35
        }
      ],
      "source": [
        "train.dtypes.value_counts()"
      ]
    },
    {
      "cell_type": "code",
      "execution_count": 36,
      "metadata": {
        "colab": {
          "base_uri": "https://localhost:8080/"
        },
        "id": "VbrsIWFeIp1Z",
        "outputId": "c12c6bf3-edd4-464b-b065-a94608e9d110"
      },
      "outputs": [
        {
          "output_type": "execute_result",
          "data": {
            "text/plain": [
              "Index(['srcip', 'sport', 'dstip', 'dsport', 'proto', 'state', 'service',\n",
              "       'ct_ftp_cmd', 'attack_cat'],\n",
              "      dtype='object', name='Name')"
            ]
          },
          "metadata": {},
          "execution_count": 36
        }
      ],
      "source": [
        "train.select_dtypes(exclude=np.number).columns"
      ]
    },
    {
      "cell_type": "code",
      "execution_count": 37,
      "metadata": {
        "colab": {
          "base_uri": "https://localhost:8080/"
        },
        "id": "ZBXY0kJrI3Iy",
        "outputId": "344e9bc6-021f-417b-f32c-8cba9acc1a73"
      },
      "outputs": [
        {
          "output_type": "execute_result",
          "data": {
            "text/plain": [
              "array([0, ' ', 1, '1', '0', 5, 2, 3, 4, '4', 6, '2', 8], dtype=object)"
            ]
          },
          "metadata": {},
          "execution_count": 37
        }
      ],
      "source": [
        "train['ct_ftp_cmd'].unique()"
      ]
    },
    {
      "cell_type": "code",
      "execution_count": 38,
      "metadata": {
        "colab": {
          "base_uri": "https://localhost:8080/"
        },
        "id": "7Vv_PtHHI-TF",
        "outputId": "73ec63d2-d91c-4046-f153-bfa0c3b0d492"
      },
      "outputs": [
        {
          "output_type": "execute_result",
          "data": {
            "text/plain": [
              "Index(['srcip', 'sport', 'dstip', 'dsport', 'proto', 'state', 'service',\n",
              "       'ct_ftp_cmd', 'attack_cat'],\n",
              "      dtype='object', name='Name')"
            ]
          },
          "metadata": {},
          "execution_count": 38
        }
      ],
      "source": [
        "train.select_dtypes(exclude=np.number).columns"
      ]
    },
    {
      "cell_type": "code",
      "execution_count": 39,
      "metadata": {
        "colab": {
          "base_uri": "https://localhost:8080/"
        },
        "id": "hDNXp7RDJGjK",
        "outputId": "3b726b85-c909-42e3-e82e-149a384aeeb7"
      },
      "outputs": [
        {
          "output_type": "execute_result",
          "data": {
            "text/plain": [
              "Index(['dur', 'sbytes', 'dbytes', 'sttl', 'dttl', 'sloss', 'dloss', 'sload',\n",
              "       'dload', 'spkts', 'dpkts', 'swin', 'dwin', 'stcpb', 'dtcpb', 'smeansz',\n",
              "       'dmeansz', 'trans_depth', 'res_bdy_len', 'sjit', 'djit', 'stime',\n",
              "       'ltime', 'sintpkt', 'dintpkt', 'tcprtt', 'synack', 'ackdat',\n",
              "       'is_sm_ips_ports', 'ct_state_ttl', 'ct_flw_http_mthd', 'is_ftp_login',\n",
              "       'ct_srv_src', 'ct_srv_dst', 'ct_dst_ltm', 'ct_src_ltm',\n",
              "       'ct_src_dport_ltm', 'ct_dst_sport_ltm', 'ct_dst_src_ltm', 'label'],\n",
              "      dtype='object', name='Name')"
            ]
          },
          "metadata": {},
          "execution_count": 39
        }
      ],
      "source": [
        "train.select_dtypes(include=np.number).columns"
      ]
    },
    {
      "cell_type": "code",
      "execution_count": 40,
      "metadata": {
        "id": "nERdVmqvJQ5O"
      },
      "outputs": [],
      "source": [
        "saved_dict['binary_col']=['is_sm_ips_ports' , 'is_ftp_login']"
      ]
    },
    {
      "cell_type": "code",
      "execution_count": 41,
      "metadata": {
        "colab": {
          "base_uri": "https://localhost:8080/"
        },
        "id": "Y-pvbvBgJvmA",
        "outputId": "4a4a27f3-c5d6-4881-b22b-3a46afa03439"
      },
      "outputs": [
        {
          "output_type": "stream",
          "name": "stdout",
          "text": [
            "is_sm_ips_ports\n",
            "0    1775116\n",
            "1       2916\n",
            "Name: count, dtype: int64\n",
            "\n",
            "is_ftp_login\n",
            "0    1747573\n",
            "1      30329\n",
            "4        109\n",
            "2         21\n",
            "Name: count, dtype: int64\n",
            "\n"
          ]
        }
      ],
      "source": [
        "for col in 'is_sm_ips_ports', 'is_ftp_login':\n",
        "  print(train[col].value_counts())\n",
        "  print()"
      ]
    },
    {
      "cell_type": "code",
      "execution_count": 42,
      "metadata": {
        "id": "lbrs48htJ9Iu"
      },
      "outputs": [],
      "source": [
        "train['is_ftp_login']=np.where(train['is_ftp_login']>1, 1, train['is_ftp_login'])\n"
      ]
    },
    {
      "cell_type": "code",
      "execution_count": 43,
      "metadata": {
        "colab": {
          "base_uri": "https://localhost:8080/",
          "height": 178
        },
        "id": "NBPuzh3xMIDV",
        "outputId": "1098c458-6f17-4363-b0b0-950dd2293f25"
      },
      "outputs": [
        {
          "output_type": "execute_result",
          "data": {
            "text/plain": [
              "is_ftp_login\n",
              "0    1747573\n",
              "1      30459\n",
              "Name: count, dtype: int64"
            ],
            "text/html": [
              "<div>\n",
              "<style scoped>\n",
              "    .dataframe tbody tr th:only-of-type {\n",
              "        vertical-align: middle;\n",
              "    }\n",
              "\n",
              "    .dataframe tbody tr th {\n",
              "        vertical-align: top;\n",
              "    }\n",
              "\n",
              "    .dataframe thead th {\n",
              "        text-align: right;\n",
              "    }\n",
              "</style>\n",
              "<table border=\"1\" class=\"dataframe\">\n",
              "  <thead>\n",
              "    <tr style=\"text-align: right;\">\n",
              "      <th></th>\n",
              "      <th>count</th>\n",
              "    </tr>\n",
              "    <tr>\n",
              "      <th>is_ftp_login</th>\n",
              "      <th></th>\n",
              "    </tr>\n",
              "  </thead>\n",
              "  <tbody>\n",
              "    <tr>\n",
              "      <th>0</th>\n",
              "      <td>1747573</td>\n",
              "    </tr>\n",
              "    <tr>\n",
              "      <th>1</th>\n",
              "      <td>30459</td>\n",
              "    </tr>\n",
              "  </tbody>\n",
              "</table>\n",
              "</div><br><label><b>dtype:</b> int64</label>"
            ]
          },
          "metadata": {},
          "execution_count": 43
        }
      ],
      "source": [
        "train['is_ftp_login'].value_counts()"
      ]
    },
    {
      "cell_type": "code",
      "execution_count": 44,
      "metadata": {
        "colab": {
          "base_uri": "https://localhost:8080/",
          "height": 523
        },
        "id": "hGyZCml1MSy7",
        "outputId": "5e0e7e7e-7b89-437f-8446-62defef5efdf"
      },
      "outputs": [
        {
          "output_type": "execute_result",
          "data": {
            "text/plain": [
              "service\n",
              "None        872286\n",
              "dns         547094\n",
              "http        144555\n",
              "ftp-data     88310\n",
              "smtp         57160\n",
              "ftp          34293\n",
              "ssh          32897\n",
              "pop3          1076\n",
              "dhcp           124\n",
              "ssl            109\n",
              "snmp            81\n",
              "radius          27\n",
              "irc             20\n",
              "Name: count, dtype: int64"
            ],
            "text/html": [
              "<div>\n",
              "<style scoped>\n",
              "    .dataframe tbody tr th:only-of-type {\n",
              "        vertical-align: middle;\n",
              "    }\n",
              "\n",
              "    .dataframe tbody tr th {\n",
              "        vertical-align: top;\n",
              "    }\n",
              "\n",
              "    .dataframe thead th {\n",
              "        text-align: right;\n",
              "    }\n",
              "</style>\n",
              "<table border=\"1\" class=\"dataframe\">\n",
              "  <thead>\n",
              "    <tr style=\"text-align: right;\">\n",
              "      <th></th>\n",
              "      <th>count</th>\n",
              "    </tr>\n",
              "    <tr>\n",
              "      <th>service</th>\n",
              "      <th></th>\n",
              "    </tr>\n",
              "  </thead>\n",
              "  <tbody>\n",
              "    <tr>\n",
              "      <th>None</th>\n",
              "      <td>872286</td>\n",
              "    </tr>\n",
              "    <tr>\n",
              "      <th>dns</th>\n",
              "      <td>547094</td>\n",
              "    </tr>\n",
              "    <tr>\n",
              "      <th>http</th>\n",
              "      <td>144555</td>\n",
              "    </tr>\n",
              "    <tr>\n",
              "      <th>ftp-data</th>\n",
              "      <td>88310</td>\n",
              "    </tr>\n",
              "    <tr>\n",
              "      <th>smtp</th>\n",
              "      <td>57160</td>\n",
              "    </tr>\n",
              "    <tr>\n",
              "      <th>ftp</th>\n",
              "      <td>34293</td>\n",
              "    </tr>\n",
              "    <tr>\n",
              "      <th>ssh</th>\n",
              "      <td>32897</td>\n",
              "    </tr>\n",
              "    <tr>\n",
              "      <th>pop3</th>\n",
              "      <td>1076</td>\n",
              "    </tr>\n",
              "    <tr>\n",
              "      <th>dhcp</th>\n",
              "      <td>124</td>\n",
              "    </tr>\n",
              "    <tr>\n",
              "      <th>ssl</th>\n",
              "      <td>109</td>\n",
              "    </tr>\n",
              "    <tr>\n",
              "      <th>snmp</th>\n",
              "      <td>81</td>\n",
              "    </tr>\n",
              "    <tr>\n",
              "      <th>radius</th>\n",
              "      <td>27</td>\n",
              "    </tr>\n",
              "    <tr>\n",
              "      <th>irc</th>\n",
              "      <td>20</td>\n",
              "    </tr>\n",
              "  </tbody>\n",
              "</table>\n",
              "</div><br><label><b>dtype:</b> int64</label>"
            ]
          },
          "metadata": {},
          "execution_count": 44
        }
      ],
      "source": [
        "train['service']=train['service'].apply(lambda x:\"None\" if x==\"-\" else x)\n",
        "train['service'].value_counts()"
      ]
    },
    {
      "cell_type": "code",
      "execution_count": 45,
      "metadata": {
        "colab": {
          "base_uri": "https://localhost:8080/"
        },
        "id": "aqTD4YDaMowL",
        "outputId": "df6756c6-544d-4406-9cf5-5349ebd1698a"
      },
      "outputs": [
        {
          "output_type": "execute_result",
          "data": {
            "text/plain": [
              "11"
            ]
          },
          "metadata": {},
          "execution_count": 45
        }
      ],
      "source": [
        "train['attack_cat'].nunique()"
      ]
    },
    {
      "cell_type": "code",
      "execution_count": 46,
      "metadata": {
        "colab": {
          "base_uri": "https://localhost:8080/",
          "height": 460
        },
        "id": "gt_uAbdbMzuF",
        "outputId": "a1fd6047-af28-41a0-e126-3ebaba2bd6ae"
      },
      "outputs": [
        {
          "output_type": "execute_result",
          "data": {
            "text/plain": [
              "attack_cat\n",
              "normal            1552862\n",
              "generic            150906\n",
              "exploits            31507\n",
              "fuzzers             16914\n",
              "dos                 11433\n",
              "reconnaissance       9764\n",
              "analysis             1855\n",
              "backdoor             1242\n",
              "shellcode            1055\n",
              "backdoors             374\n",
              "worms                 120\n",
              "Name: count, dtype: int64"
            ],
            "text/html": [
              "<div>\n",
              "<style scoped>\n",
              "    .dataframe tbody tr th:only-of-type {\n",
              "        vertical-align: middle;\n",
              "    }\n",
              "\n",
              "    .dataframe tbody tr th {\n",
              "        vertical-align: top;\n",
              "    }\n",
              "\n",
              "    .dataframe thead th {\n",
              "        text-align: right;\n",
              "    }\n",
              "</style>\n",
              "<table border=\"1\" class=\"dataframe\">\n",
              "  <thead>\n",
              "    <tr style=\"text-align: right;\">\n",
              "      <th></th>\n",
              "      <th>count</th>\n",
              "    </tr>\n",
              "    <tr>\n",
              "      <th>attack_cat</th>\n",
              "      <th></th>\n",
              "    </tr>\n",
              "  </thead>\n",
              "  <tbody>\n",
              "    <tr>\n",
              "      <th>normal</th>\n",
              "      <td>1552862</td>\n",
              "    </tr>\n",
              "    <tr>\n",
              "      <th>generic</th>\n",
              "      <td>150906</td>\n",
              "    </tr>\n",
              "    <tr>\n",
              "      <th>exploits</th>\n",
              "      <td>31507</td>\n",
              "    </tr>\n",
              "    <tr>\n",
              "      <th>fuzzers</th>\n",
              "      <td>16914</td>\n",
              "    </tr>\n",
              "    <tr>\n",
              "      <th>dos</th>\n",
              "      <td>11433</td>\n",
              "    </tr>\n",
              "    <tr>\n",
              "      <th>reconnaissance</th>\n",
              "      <td>9764</td>\n",
              "    </tr>\n",
              "    <tr>\n",
              "      <th>analysis</th>\n",
              "      <td>1855</td>\n",
              "    </tr>\n",
              "    <tr>\n",
              "      <th>backdoor</th>\n",
              "      <td>1242</td>\n",
              "    </tr>\n",
              "    <tr>\n",
              "      <th>shellcode</th>\n",
              "      <td>1055</td>\n",
              "    </tr>\n",
              "    <tr>\n",
              "      <th>backdoors</th>\n",
              "      <td>374</td>\n",
              "    </tr>\n",
              "    <tr>\n",
              "      <th>worms</th>\n",
              "      <td>120</td>\n",
              "    </tr>\n",
              "  </tbody>\n",
              "</table>\n",
              "</div><br><label><b>dtype:</b> int64</label>"
            ]
          },
          "metadata": {},
          "execution_count": 46
        }
      ],
      "source": [
        "train['attack_cat'].value_counts()"
      ]
    },
    {
      "cell_type": "code",
      "execution_count": 47,
      "metadata": {
        "id": "aSWr1xk8M-Vd"
      },
      "outputs": [],
      "source": [
        "train['attack_cat'] = train['attack_cat'].replace('backdoors','backdoor',regex=True).apply(lambda x: x.strip().lower())"
      ]
    },
    {
      "cell_type": "code",
      "execution_count": 48,
      "metadata": {
        "colab": {
          "base_uri": "https://localhost:8080/"
        },
        "id": "aE-YMcFWgqLU",
        "outputId": "9e0d7f22-2141-40f4-c891-85a4d520f256"
      },
      "outputs": [
        {
          "output_type": "execute_result",
          "data": {
            "text/plain": [
              "((1778032, 49), (762015, 49))"
            ]
          },
          "metadata": {},
          "execution_count": 48
        }
      ],
      "source": [
        "train.shape, test.shape"
      ]
    },
    {
      "cell_type": "code",
      "execution_count": 49,
      "metadata": {
        "id": "trg3MzzUgt6G"
      },
      "outputs": [],
      "source": [
        "train.to_csv('./train_alldata_EDA.csv', index=False)\n",
        "test.to_csv('./test_alldata_EDA.csv', index=False)"
      ]
    },
    {
      "cell_type": "code",
      "execution_count": 50,
      "metadata": {
        "id": "NjDjd1Dbhtt7"
      },
      "outputs": [],
      "source": [
        "pickle.dump(saved_dict, open('./final_ipynb', 'wb'))"
      ]
    },
    {
      "cell_type": "markdown",
      "metadata": {
        "id": "SiPpUspBkn3M"
      },
      "source": [
        "### **LOADING DATA FROM DISK**"
      ]
    },
    {
      "cell_type": "code",
      "execution_count": 51,
      "metadata": {
        "id": "CVWCGvm1klhN"
      },
      "outputs": [],
      "source": [
        "train=pd.read_csv('./train_alldata_EDA.csv')\n",
        "test=pd.read_csv('./test_alldata_EDA.csv')"
      ]
    },
    {
      "cell_type": "code",
      "execution_count": 52,
      "metadata": {
        "colab": {
          "base_uri": "https://localhost:8080/"
        },
        "id": "EQpv54FHkldp",
        "outputId": "ef96c2c0-9129-4f42-cc25-556c2caf97ee"
      },
      "outputs": [
        {
          "output_type": "execute_result",
          "data": {
            "text/plain": [
              "((1778032, 49), (762015, 49))"
            ]
          },
          "metadata": {},
          "execution_count": 52
        }
      ],
      "source": [
        "train.shape, test.shape"
      ]
    },
    {
      "cell_type": "code",
      "execution_count": 53,
      "metadata": {
        "id": "JBt9QcU2klbL"
      },
      "outputs": [],
      "source": [
        "normal = train[train['label']==0]\n",
        "anomaly = train[train['label']==1]"
      ]
    },
    {
      "cell_type": "code",
      "execution_count": 54,
      "metadata": {
        "id": "kvR0fIA9klXi"
      },
      "outputs": [],
      "source": [
        "def multi_corr(col1, col2=\"label\", df=train):\n",
        "  corr = df[[col1, col2]].corr().iloc[0,1]\n",
        "  log_corr = df[col1].apply(np.log1p).corr(df[col2])\n",
        "\n",
        "  print(\"Correlation: {}\\nlog_Correlation: {}\".format(corr,log_corr))"
      ]
    },
    {
      "cell_type": "code",
      "execution_count": 55,
      "metadata": {
        "id": "SWvczwlUGjkm"
      },
      "outputs": [],
      "source": [
        "def corr(col1, col2=\"label\", df=train):\n",
        "  return df[[col1, col2]].corr.iloc[0,1]"
      ]
    },
    {
      "cell_type": "code",
      "execution_count": 56,
      "metadata": {
        "colab": {
          "base_uri": "https://localhost:8080/",
          "height": 1000
        },
        "id": "PKPNGp-7G06n",
        "outputId": "8802e12f-cad9-44de-aca8-5be05b3c72b1"
      },
      "outputs": [
        {
          "output_type": "stream",
          "name": "stdout",
          "text": [
            "Collecting ipaddress\n",
            "  Downloading ipaddress-1.0.23-py2.py3-none-any.whl.metadata (923 bytes)\n",
            "Downloading ipaddress-1.0.23-py2.py3-none-any.whl (18 kB)\n",
            "Installing collected packages: ipaddress\n",
            "Successfully installed ipaddress-1.0.23\n"
          ]
        },
        {
          "output_type": "display_data",
          "data": {
            "text/plain": [
              "<Figure size 1200x1200 with 2 Axes>"
            ],
            "image/png": "[encoded data removed]"
          },
          "metadata": {}
        }
      ],
      "source": [
        "\n",
        "!pip install ipaddress\n",
        "\n",
        "import ipaddress\n",
        "import pandas as pd\n",
        "\n",
        "def ip_to_int(ip):\n",
        "    try:\n",
        "        return int(ipaddress.ip_address(ip))\n",
        "    except ValueError:\n",
        "        return 0\n",
        "\n",
        "\n",
        "train['srcip'] = train['srcip'].apply(ip_to_int)\n",
        "\n",
        "for col in ['dstip', 'dsport']:\n",
        "    train[col] = pd.to_numeric(train[col], errors='coerce')\n",
        "    train[col] = train[col].apply(lambda x: int(x, 16) if isinstance(x, str) and x.startswith('0x') else x)\n",
        "    train[col] = pd.to_numeric(train[col], errors='coerce')\n",
        "\n",
        "\n",
        "corr_mat = train.apply(pd.to_numeric, errors='coerce').corr(method='pearson')\n",
        "\n",
        "plt.figure(figsize=(12, 12))\n",
        "sns.heatmap(corr_mat, square=True)\n",
        "plt.show()"
      ]
    },
    {
      "cell_type": "code",
      "execution_count": 57,
      "metadata": {
        "colab": {
          "base_uri": "https://localhost:8080/"
        },
        "id": "gIYohISuHSPy",
        "outputId": "bd6abb08-1ee1-4b66-abe4-64bff2b6c8de"
      },
      "outputs": [
        {
          "output_type": "stream",
          "name": "stdout",
          "text": [
            "sbytes              sloss               0.9515464133660682\n",
            "dbytes              dloss               0.9912941785427634\n",
            "dbytes              dpkts               0.9705744719061106\n",
            "sttl                ct_state_ttl        0.9058027624589845\n",
            "sttl                label               0.9043459910087561\n",
            "dloss               dpkts               0.9921743916746946\n",
            "swin                dwin                0.9971933359586712\n",
            "stime               ltime               0.9999999998073185\n",
            "tcprtt              synack              0.9332414134584021\n",
            "tcprtt              ackdat              0.9202047490089745\n",
            "ct_srv_src          ct_srv_dst          0.956721026945663\n",
            "ct_srv_src          ct_dst_src_ltm      0.942148711061324\n",
            "ct_srv_dst          ct_dst_src_ltm      0.9510250540010916\n",
            "ct_dst_ltm          ct_src_ltm          0.9384612565049639\n",
            "ct_dst_ltm          ct_src_dport_ltm    0.9601144948755526\n",
            "ct_src_ltm          ct_src_dport_ltm    0.9453045008443021\n",
            "ct_src_dport_ltm    ct_dst_sport_ltm    0.9214458874161181\n",
            "ct_src_dport_ltm    ct_dst_src_ltm      0.9109191341192471\n"
          ]
        }
      ],
      "source": [
        "limit = 0.9\n",
        "columns = corr_mat.columns\n",
        "for i in range(corr_mat.shape[0]):\n",
        "    for j in range(i+1, corr_mat.shape[0]):\n",
        "      if corr_mat.iloc[i, j] >=0.9:\n",
        "        print(f\"{columns[i]:20s}{columns[j]:20s}{corr_mat.iloc[i,j]}\")\n"
      ]
    },
    {
      "cell_type": "code",
      "execution_count": 58,
      "metadata": {
        "colab": {
          "base_uri": "https://localhost:8080/",
          "height": 36
        },
        "id": "H2CifHldKWuE",
        "outputId": "f3950e4a-a06f-4a62-cd65-5fa5c3e8aa47"
      },
      "outputs": [
        {
          "output_type": "execute_result",
          "data": {
            "text/plain": [
              "'\\nsns.set_style(\"whitegrid\")\\nsns.pairplot(data=train, vars=[\\'sbytes\\', \\'sloss\\'])\\nplt.show()\\n'"
            ],
            "application/vnd.google.colaboratory.intrinsic+json": {
              "type": "string"
            }
          },
          "metadata": {},
          "execution_count": 58
        }
      ],
      "source": [
        "'''\n",
        "sns.set_style(\"whitegrid\")\n",
        "sns.pairplot(data=train, vars=['sbytes', 'sloss'])\n",
        "plt.show()\n",
        "'''"
      ]
    },
    {
      "cell_type": "code",
      "execution_count": 59,
      "metadata": {
        "colab": {
          "base_uri": "https://localhost:8080/",
          "height": 36
        },
        "id": "2snY7DsfKnhY",
        "outputId": "aa47f46b-a3a8-41ba-a4f4-61327ac5db62"
      },
      "outputs": [
        {
          "output_type": "execute_result",
          "data": {
            "text/plain": [
              "\"'\\nsns.set_style('whitegrid')\\nsns.pairplot(train, vars=['dpkts', 'dbytes', 'dloss'])\\nplt.show()\\n\""
            ],
            "application/vnd.google.colaboratory.intrinsic+json": {
              "type": "string"
            }
          },
          "metadata": {},
          "execution_count": 59
        }
      ],
      "source": [
        "''''\n",
        "sns.set_style('whitegrid')\n",
        "sns.pairplot(train, vars=['dpkts', 'dbytes', 'dloss'])\n",
        "plt.show()\n",
        "'''"
      ]
    },
    {
      "cell_type": "code",
      "source": [
        "'''\n",
        "sns.set_style('whitegrid')\n",
        "sns.pairplot(train, vars=['sttl', 'ct_state_ttl', 'label'])\n",
        "plt.show()\n",
        "'''"
      ],
      "metadata": {
        "colab": {
          "base_uri": "https://localhost:8080/",
          "height": 36
        },
        "id": "l1BjsiKLPXbt",
        "outputId": "5938d5f7-a863-4bf0-f29f-1c5c73a19f88"
      },
      "execution_count": 60,
      "outputs": [
        {
          "output_type": "execute_result",
          "data": {
            "text/plain": [
              "\"\\nsns.set_style('whitegrid')\\nsns.pairplot(train, vars=['sttl', 'ct_state_ttl', 'label'])\\nplt.show()\\n\""
            ],
            "application/vnd.google.colaboratory.intrinsic+json": {
              "type": "string"
            }
          },
          "metadata": {},
          "execution_count": 60
        }
      ]
    },
    {
      "cell_type": "code",
      "source": [
        "'''\n",
        "sns.set_style('whitegrid')\n",
        "sns.pairplot(train, vars=['swin', 'dwin'])\n",
        "plt.show()\n",
        "'''"
      ],
      "metadata": {
        "colab": {
          "base_uri": "https://localhost:8080/",
          "height": 36
        },
        "id": "UVq9l8XUPYaV",
        "outputId": "6f6c5ffc-7938-4772-afa0-6efa7a429b6b"
      },
      "execution_count": 61,
      "outputs": [
        {
          "output_type": "execute_result",
          "data": {
            "text/plain": [
              "\"\\nsns.set_style('whitegrid')\\nsns.pairplot(train, vars=['swin', 'dwin'])\\nplt.show()\\n\""
            ],
            "application/vnd.google.colaboratory.intrinsic+json": {
              "type": "string"
            }
          },
          "metadata": {},
          "execution_count": 61
        }
      ]
    },
    {
      "cell_type": "code",
      "source": [],
      "metadata": {
        "id": "_fVC61vnPYXF"
      },
      "execution_count": 61,
      "outputs": []
    },
    {
      "cell_type": "code",
      "source": [],
      "metadata": {
        "id": "-Aksm0zdPYU_"
      },
      "execution_count": 61,
      "outputs": []
    },
    {
      "cell_type": "code",
      "source": [],
      "metadata": {
        "id": "Sc9hYbzUPYSP"
      },
      "execution_count": 61,
      "outputs": []
    },
    {
      "cell_type": "code",
      "source": [
        "def col_countplot(col, train_data=train):\n",
        "    fig, ax = plt.subplots(figsize=(8,4))\n",
        "    sns.set_style('whitegrid')\n",
        "\n",
        "    ax = sns.countplot(x=col, hue='label', data=train_data)\n",
        "    ax.legend(loc=\"upper right\", labels=('normal', 'attack'))\n",
        "    ax.set_title(\"train data\")\n",
        "    plt.xticks(rotation=45)\n",
        "    plt.show()"
      ],
      "metadata": {
        "id": "8SdLb0xkPYPs"
      },
      "execution_count": 62,
      "outputs": []
    },
    {
      "cell_type": "code",
      "source": [
        "def dual_plot(col, data1=normal, data2=anomaly, label1='normal', label2='anomaly', method=None):\n",
        "\n",
        "    if method != None:\n",
        "        sns.set_style('whitegrid')\n",
        "        sns.distplot(data1[col].apply(method), label=label1, hist=False, rug=True)\n",
        "        sns.distplot(data2[col].apply(method), label=label2, hist=False, rug=True)\n",
        "    else:\n",
        "        sns.set_style('whitegrid')\n",
        "        sns.distplot(data1[col], label=label1, hist=False, rug=True)\n",
        "        sns.distplot(data2[col], label=label2, hist=False, rug=True)\n",
        "    plt.legend()"
      ],
      "metadata": {
        "id": "SrP10JxLPYNS"
      },
      "execution_count": 63,
      "outputs": []
    },
    {
      "cell_type": "code",
      "source": [
        "def reduce_column(s, to_keep):\n",
        "\n",
        "    s = s.lower().strip()\n",
        "    if s not in to_keep:\n",
        "        return \"others\"\n",
        "    else:\n",
        "        return s"
      ],
      "metadata": {
        "id": "Auqy3gCRPYKp"
      },
      "execution_count": 64,
      "outputs": []
    },
    {
      "cell_type": "code",
      "source": [
        "col_countplot('attack_cat')"
      ],
      "metadata": {
        "id": "O190At_NPYH2",
        "colab": {
          "base_uri": "https://localhost:8080/",
          "height": 482
        },
        "outputId": "8330bab6-ffee-40c0-fea2-af8b04467bb8"
      },
      "execution_count": 65,
      "outputs": [
        {
          "output_type": "display_data",
          "data": {
            "text/plain": [
              "<Figure size 800x400 with 1 Axes>"
            ],
            "image/png": "[encoded data removed]"
          },
          "metadata": {}
        }
      ]
    },
    {
      "cell_type": "code",
      "source": [
        "train['proto'].nunique()"
      ],
      "metadata": {
        "id": "Ykf8ie-4PX8P",
        "colab": {
          "base_uri": "https://localhost:8080/"
        },
        "outputId": "bae3d765-c3b3-4f50-ed22-ba9517d89bd0"
      },
      "execution_count": 66,
      "outputs": [
        {
          "output_type": "execute_result",
          "data": {
            "text/plain": [
              "135"
            ]
          },
          "metadata": {},
          "execution_count": 66
        }
      ]
    },
    {
      "cell_type": "code",
      "source": [
        "normal['proto'].nunique(), anomaly['proto'].nunique()"
      ],
      "metadata": {
        "id": "Ydn5yFb1QYVf",
        "colab": {
          "base_uri": "https://localhost:8080/"
        },
        "outputId": "1221446b-8a18-441a-842b-d2952cfd94ce"
      },
      "execution_count": 67,
      "outputs": [
        {
          "output_type": "execute_result",
          "data": {
            "text/plain": [
              "(9, 129)"
            ]
          },
          "metadata": {},
          "execution_count": 67
        }
      ]
    },
    {
      "cell_type": "code",
      "source": [
        "train['proto'].value_counts().head(10)*100/train.shape[0]"
      ],
      "metadata": {
        "id": "KVsaIWpbQYRb",
        "colab": {
          "base_uri": "https://localhost:8080/",
          "height": 429
        },
        "outputId": "236f2661-998b-416a-c1f5-4cf48e5e290e"
      },
      "execution_count": 68,
      "outputs": [
        {
          "output_type": "execute_result",
          "data": {
            "text/plain": [
              "proto\n",
              "tcp     58.858108\n",
              "udp     38.983550\n",
              "unas     0.639640\n",
              "arp      0.397631\n",
              "ospf     0.306800\n",
              "sctp     0.061810\n",
              "icmp     0.020303\n",
              "any      0.015916\n",
              "gre      0.013104\n",
              "ipv6     0.011642\n",
              "Name: count, dtype: float64"
            ],
            "text/html": [
              "<div>\n",
              "<style scoped>\n",
              "    .dataframe tbody tr th:only-of-type {\n",
              "        vertical-align: middle;\n",
              "    }\n",
              "\n",
              "    .dataframe tbody tr th {\n",
              "        vertical-align: top;\n",
              "    }\n",
              "\n",
              "    .dataframe thead th {\n",
              "        text-align: right;\n",
              "    }\n",
              "</style>\n",
              "<table border=\"1\" class=\"dataframe\">\n",
              "  <thead>\n",
              "    <tr style=\"text-align: right;\">\n",
              "      <th></th>\n",
              "      <th>count</th>\n",
              "    </tr>\n",
              "    <tr>\n",
              "      <th>proto</th>\n",
              "      <th></th>\n",
              "    </tr>\n",
              "  </thead>\n",
              "  <tbody>\n",
              "    <tr>\n",
              "      <th>tcp</th>\n",
              "      <td>58.858108</td>\n",
              "    </tr>\n",
              "    <tr>\n",
              "      <th>udp</th>\n",
              "      <td>38.983550</td>\n",
              "    </tr>\n",
              "    <tr>\n",
              "      <th>unas</th>\n",
              "      <td>0.639640</td>\n",
              "    </tr>\n",
              "    <tr>\n",
              "      <th>arp</th>\n",
              "      <td>0.397631</td>\n",
              "    </tr>\n",
              "    <tr>\n",
              "      <th>ospf</th>\n",
              "      <td>0.306800</td>\n",
              "    </tr>\n",
              "    <tr>\n",
              "      <th>sctp</th>\n",
              "      <td>0.061810</td>\n",
              "    </tr>\n",
              "    <tr>\n",
              "      <th>icmp</th>\n",
              "      <td>0.020303</td>\n",
              "    </tr>\n",
              "    <tr>\n",
              "      <th>any</th>\n",
              "      <td>0.015916</td>\n",
              "    </tr>\n",
              "    <tr>\n",
              "      <th>gre</th>\n",
              "      <td>0.013104</td>\n",
              "    </tr>\n",
              "    <tr>\n",
              "      <th>ipv6</th>\n",
              "      <td>0.011642</td>\n",
              "    </tr>\n",
              "  </tbody>\n",
              "</table>\n",
              "</div><br><label><b>dtype:</b> float64</label>"
            ]
          },
          "metadata": {},
          "execution_count": 68
        }
      ]
    },
    {
      "cell_type": "code",
      "source": [
        "to_keep = ['tcp', 'udp', 'unas', 'arp', 'ospf']\n",
        "train['proto_reduced'] = train['proto'].apply(reduce_column, args=(to_keep,))"
      ],
      "metadata": {
        "id": "R4KxAlPjQYPn"
      },
      "execution_count": 69,
      "outputs": []
    },
    {
      "cell_type": "code",
      "source": [
        "col_countplot('proto_reduced')"
      ],
      "metadata": {
        "id": "-tpLYR25QYM_",
        "colab": {
          "base_uri": "https://localhost:8080/",
          "height": 437
        },
        "outputId": "445db553-3cc9-4225-bd5b-d2df3c53eae5"
      },
      "execution_count": 70,
      "outputs": [
        {
          "output_type": "display_data",
          "data": {
            "text/plain": [
              "<Figure size 800x400 with 1 Axes>"
            ],
            "image/png": "[encoded data removed]"
          },
          "metadata": {}
        }
      ]
    },
    {
      "cell_type": "code",
      "source": [
        "train['service'].nunique()"
      ],
      "metadata": {
        "id": "sYFPm-FLQYJ_",
        "colab": {
          "base_uri": "https://localhost:8080/"
        },
        "outputId": "8f77b539-72ac-4f62-92f4-251b56bf3230"
      },
      "execution_count": 71,
      "outputs": [
        {
          "output_type": "execute_result",
          "data": {
            "text/plain": [
              "12"
            ]
          },
          "metadata": {},
          "execution_count": 71
        }
      ]
    },
    {
      "cell_type": "code",
      "source": [
        "train['service'].value_counts()"
      ],
      "metadata": {
        "id": "pzsYrfT7QYCr",
        "colab": {
          "base_uri": "https://localhost:8080/",
          "height": 491
        },
        "outputId": "37c0f791-3e98-44e1-d363-0f2628df46f8"
      },
      "execution_count": 72,
      "outputs": [
        {
          "output_type": "execute_result",
          "data": {
            "text/plain": [
              "service\n",
              "dns         547094\n",
              "http        144555\n",
              "ftp-data     88310\n",
              "smtp         57160\n",
              "ftp          34293\n",
              "ssh          32897\n",
              "pop3          1076\n",
              "dhcp           124\n",
              "ssl            109\n",
              "snmp            81\n",
              "radius          27\n",
              "irc             20\n",
              "Name: count, dtype: int64"
            ],
            "text/html": [
              "<div>\n",
              "<style scoped>\n",
              "    .dataframe tbody tr th:only-of-type {\n",
              "        vertical-align: middle;\n",
              "    }\n",
              "\n",
              "    .dataframe tbody tr th {\n",
              "        vertical-align: top;\n",
              "    }\n",
              "\n",
              "    .dataframe thead th {\n",
              "        text-align: right;\n",
              "    }\n",
              "</style>\n",
              "<table border=\"1\" class=\"dataframe\">\n",
              "  <thead>\n",
              "    <tr style=\"text-align: right;\">\n",
              "      <th></th>\n",
              "      <th>count</th>\n",
              "    </tr>\n",
              "    <tr>\n",
              "      <th>service</th>\n",
              "      <th></th>\n",
              "    </tr>\n",
              "  </thead>\n",
              "  <tbody>\n",
              "    <tr>\n",
              "      <th>dns</th>\n",
              "      <td>547094</td>\n",
              "    </tr>\n",
              "    <tr>\n",
              "      <th>http</th>\n",
              "      <td>144555</td>\n",
              "    </tr>\n",
              "    <tr>\n",
              "      <th>ftp-data</th>\n",
              "      <td>88310</td>\n",
              "    </tr>\n",
              "    <tr>\n",
              "      <th>smtp</th>\n",
              "      <td>57160</td>\n",
              "    </tr>\n",
              "    <tr>\n",
              "      <th>ftp</th>\n",
              "      <td>34293</td>\n",
              "    </tr>\n",
              "    <tr>\n",
              "      <th>ssh</th>\n",
              "      <td>32897</td>\n",
              "    </tr>\n",
              "    <tr>\n",
              "      <th>pop3</th>\n",
              "      <td>1076</td>\n",
              "    </tr>\n",
              "    <tr>\n",
              "      <th>dhcp</th>\n",
              "      <td>124</td>\n",
              "    </tr>\n",
              "    <tr>\n",
              "      <th>ssl</th>\n",
              "      <td>109</td>\n",
              "    </tr>\n",
              "    <tr>\n",
              "      <th>snmp</th>\n",
              "      <td>81</td>\n",
              "    </tr>\n",
              "    <tr>\n",
              "      <th>radius</th>\n",
              "      <td>27</td>\n",
              "    </tr>\n",
              "    <tr>\n",
              "      <th>irc</th>\n",
              "      <td>20</td>\n",
              "    </tr>\n",
              "  </tbody>\n",
              "</table>\n",
              "</div><br><label><b>dtype:</b> int64</label>"
            ]
          },
          "metadata": {},
          "execution_count": 72
        }
      ]
    },
    {
      "cell_type": "markdown",
      "source": [
        "**FEATURE ENGINEERING**"
      ],
      "metadata": {
        "id": "gKy6bUch2cTz"
      }
    },
    {
      "cell_type": "code",
      "source": [
        "train = pd.read_csv(\"/content/train_alldata_EDA.csv\")\n",
        "test = pd.read_csv(\"/content/test_alldata_EDA.csv\")"
      ],
      "metadata": {
        "id": "1McNPSNXQX11"
      },
      "execution_count": 73,
      "outputs": []
    },
    {
      "cell_type": "code",
      "source": [
        "def multi_corr(col1, col2=\"label\", df=train):\n",
        "  corr = df[[col1, col2]].corr().iloc[0,1]\n",
        "  log_corr = df[col1].apply(np.log1p).corr(df[col2])\n",
        "\n",
        "  print(\"Correlation: {}\\nlog_Correlation : {}\".format(corr, log_corr))"
      ],
      "metadata": {
        "id": "PVb3S1vcQtcj"
      },
      "execution_count": 74,
      "outputs": []
    },
    {
      "cell_type": "code",
      "source": [
        "def corr(col1, col2=\"label\", df=train):\n",
        "  return df[[col1, col2]].corr().iloc[0,1]"
      ],
      "metadata": {
        "id": "i5JBU7eRQtZO"
      },
      "execution_count": 75,
      "outputs": []
    },
    {
      "cell_type": "code",
      "source": [
        "corr_matrix = train.select_dtypes(include=np.number).corr().abs()\n",
        "upper = corr_matrix.where(np.triu(np.ones(corr_matrix.shape), k=1).astype(bool))\n",
        "to_drop = [column for column in upper.columns if any(upper[column] > 0.95)]"
      ],
      "metadata": {
        "id": "osLggc_HQtXA"
      },
      "execution_count": 76,
      "outputs": []
    },
    {
      "cell_type": "code",
      "source": [
        "print(to_drop)"
      ],
      "metadata": {
        "id": "guk3i-9MQtUd",
        "colab": {
          "base_uri": "https://localhost:8080/"
        },
        "outputId": "e18d94fe-2263-4eb0-b3aa-2dd628e09ac1"
      },
      "execution_count": 77,
      "outputs": [
        {
          "output_type": "stream",
          "name": "stdout",
          "text": [
            "['sloss', 'dloss', 'dpkts', 'dwin', 'ltime', 'ct_srv_dst', 'ct_src_dport_ltm', 'ct_dst_src_ltm']\n"
          ]
        }
      ]
    },
    {
      "cell_type": "code",
      "source": [
        "saved_dict['corr_col'] = to_drop"
      ],
      "metadata": {
        "id": "yYSoQGnUQtSQ"
      },
      "execution_count": 78,
      "outputs": []
    },
    {
      "cell_type": "code",
      "source": [
        "train.drop(to_drop, axis=1, inplace=True)"
      ],
      "metadata": {
        "id": "pLsdCgq4QtPl"
      },
      "execution_count": 79,
      "outputs": []
    },
    {
      "cell_type": "code",
      "source": [
        "train.shape, test.shape"
      ],
      "metadata": {
        "id": "yB_313lzQtGq",
        "colab": {
          "base_uri": "https://localhost:8080/"
        },
        "outputId": "7d999e0d-cf94-4c0a-e9c3-4ea57e8ad3c0"
      },
      "execution_count": 80,
      "outputs": [
        {
          "output_type": "execute_result",
          "data": {
            "text/plain": [
              "((1778032, 41), (762015, 49))"
            ]
          },
          "metadata": {},
          "execution_count": 80
        }
      ]
    },
    {
      "cell_type": "code",
      "source": [
        "train['network_bytes'] = train['sbytes'] + train['dbytes']"
      ],
      "metadata": {
        "id": "PxRcdtrOQtCm"
      },
      "execution_count": 81,
      "outputs": []
    },
    {
      "cell_type": "code",
      "source": [
        "train.shape, test.shape"
      ],
      "metadata": {
        "colab": {
          "base_uri": "https://localhost:8080/"
        },
        "id": "IriQY95zrMOb",
        "outputId": "fd91bdbc-fda6-43f4-9da7-a4d6638a2734"
      },
      "execution_count": 82,
      "outputs": [
        {
          "output_type": "execute_result",
          "data": {
            "text/plain": [
              "((1778032, 42), (762015, 49))"
            ]
          },
          "metadata": {},
          "execution_count": 82
        }
      ]
    },
    {
      "cell_type": "code",
      "source": [
        "train.drop(['srcip', 'sport', 'dstip', 'dsport', 'attack_cat'], axis=1, inplace=True)"
      ],
      "metadata": {
        "id": "OgAc9ckAqV6f"
      },
      "execution_count": 83,
      "outputs": []
    },
    {
      "cell_type": "code",
      "source": [
        "saved_dict['to_drop'] = ['srcip', 'sport', 'dstip', 'dsport', 'attack_cat']"
      ],
      "metadata": {
        "id": "MG7PvI69rKAy"
      },
      "execution_count": 84,
      "outputs": []
    },
    {
      "cell_type": "code",
      "source": [
        "train.shape, test.shape"
      ],
      "metadata": {
        "colab": {
          "base_uri": "https://localhost:8080/"
        },
        "id": "Bf5r2UD2rSNY",
        "outputId": "d1a7c185-02b3-4965-e95f-a529e1502974"
      },
      "execution_count": 85,
      "outputs": [
        {
          "output_type": "execute_result",
          "data": {
            "text/plain": [
              "((1778032, 37), (762015, 49))"
            ]
          },
          "metadata": {},
          "execution_count": 85
        }
      ]
    },
    {
      "cell_type": "code",
      "source": [
        "col_unique_values = train.nunique()"
      ],
      "metadata": {
        "id": "8EwVK7aArWYe"
      },
      "execution_count": 86,
      "outputs": []
    },
    {
      "cell_type": "code",
      "source": [
        "col = col_unique_values[col_unique_values>200].index"
      ],
      "metadata": {
        "id": "i6Cl3-XCrv9W"
      },
      "execution_count": 87,
      "outputs": []
    },
    {
      "cell_type": "code",
      "source": [
        "for column in col:\n",
        "  print(\"{:-^30}\".format(column))\n",
        "  multi_corr(column)"
      ],
      "metadata": {
        "colab": {
          "base_uri": "https://localhost:8080/"
        },
        "id": "DEoAx9y-r3wK",
        "outputId": "8f858260-26c1-4cbb-8823-b3a470a3250f"
      },
      "execution_count": 88,
      "outputs": [
        {
          "output_type": "stream",
          "name": "stdout",
          "text": [
            "-------------dur--------------\n",
            "Correlation: 0.0019274028701131475\n",
            "log_Correlation : -0.032544137564606564\n",
            "------------sbytes------------\n",
            "Correlation: 0.010344749695229565\n",
            "log_Correlation : -0.3561631555898454\n",
            "------------dbytes------------\n",
            "Correlation: -0.07641408324436148\n",
            "log_Correlation : -0.5193868283741543\n",
            "------------sload-------------\n",
            "Correlation: 0.19211948100086756\n",
            "log_Correlation : 0.34746601450349657\n",
            "------------dload-------------\n",
            "Correlation: -0.21978094390126515\n",
            "log_Correlation : -0.6033545881626403\n",
            "------------spkts-------------\n",
            "Correlation: -0.12200425437154418\n",
            "log_Correlation : -0.3163533826967569\n",
            "------------stcpb-------------\n",
            "Correlation: -0.23365153315010911\n",
            "log_Correlation : -0.31355632221428964\n",
            "------------dtcpb-------------\n",
            "Correlation: -0.23346071773809843\n",
            "log_Correlation : -0.31340064798121187\n",
            "-----------smeansz------------\n",
            "Correlation: -0.06517990378993671\n",
            "log_Correlation : -0.15111450989648462\n",
            "-----------dmeansz------------\n",
            "Correlation: -0.27230605607442226\n",
            "log_Correlation : -0.5646402127401765\n",
            "---------res_bdy_len----------\n",
            "Correlation: -0.0268968526601601\n",
            "log_Correlation : -0.06794901821505887\n",
            "-------------sjit-------------\n",
            "Correlation: 0.020974632769798898\n",
            "log_Correlation : -0.18939100046544247\n",
            "-------------djit-------------\n",
            "Correlation: -0.05608646071436526\n",
            "log_Correlation : -0.20487075694129467\n",
            "------------stime-------------\n",
            "Correlation: 0.27571439334451364\n",
            "log_Correlation : 0.27571397507610673\n",
            "-----------sintpkt------------\n",
            "Correlation: -0.018971416506195472\n",
            "log_Correlation : -0.08027556633947559\n",
            "-----------dintpkt------------\n",
            "Correlation: -0.010747058729631331\n",
            "log_Correlation : -0.07938735519639532\n",
            "------------tcprtt------------\n",
            "Correlation: 0.14592508147519564\n",
            "log_Correlation : 0.1860669732331679\n",
            "------------synack------------\n",
            "Correlation: 0.12439627235187588\n",
            "log_Correlation : 0.1552259883602495\n",
            "------------ackdat------------\n",
            "Correlation: 0.14712408841119426\n",
            "log_Correlation : 0.17962040804022583\n",
            "--------network_bytes---------\n",
            "Correlation: -0.06790965631742822\n",
            "log_Correlation : -0.41043328745985624\n"
          ]
        }
      ]
    },
    {
      "cell_type": "code",
      "source": [
        "log1p_col = ['dur', 'sbytes', 'dbytes', 'sload', 'dload', 'spkts', 'stcpb', 'dtcpb', 'smeansz', 'dmeansz', 'sjit', 'djit', 'network_bytes']\n"
      ],
      "metadata": {
        "id": "UIKRBjlqsCH_"
      },
      "execution_count": 89,
      "outputs": []
    },
    {
      "cell_type": "code",
      "source": [
        "saved_dict['log1p_col'] = log1p_col"
      ],
      "metadata": {
        "id": "Bsylc4BYsF_0"
      },
      "execution_count": 90,
      "outputs": []
    },
    {
      "cell_type": "code",
      "source": [
        "mode_dict = train.mode().iloc[0].to_dict()"
      ],
      "metadata": {
        "id": "Ojx0gA6BsIp_"
      },
      "execution_count": 91,
      "outputs": []
    },
    {
      "cell_type": "code",
      "source": [
        "def log1p_transform(col, df=train):\n",
        "\n",
        "    new_col = col+'_log1p'\n",
        "    df[new_col] = df[col].apply(np.log1p)\n",
        "    df.drop(col, axis=1, inplace=True)"
      ],
      "metadata": {
        "id": "adWDMciBsKl0"
      },
      "execution_count": 92,
      "outputs": []
    },
    {
      "cell_type": "code",
      "source": [
        "for col in log1p_col:\n",
        "    log1p_transform(col, df=train)\n"
      ],
      "metadata": {
        "id": "ZqsZQ74qsOJ9"
      },
      "execution_count": 93,
      "outputs": []
    },
    {
      "cell_type": "code",
      "source": [
        "\n",
        "train.shape"
      ],
      "metadata": {
        "colab": {
          "base_uri": "https://localhost:8080/"
        },
        "id": "5kayLbFNsQ-l",
        "outputId": "f419cbdf-2185-47d4-8400-e4b6f9a357dd"
      },
      "execution_count": 94,
      "outputs": [
        {
          "output_type": "execute_result",
          "data": {
            "text/plain": [
              "(1778032, 37)"
            ]
          },
          "metadata": {},
          "execution_count": 94
        }
      ]
    },
    {
      "cell_type": "code",
      "source": [
        "\n",
        "train.columns"
      ],
      "metadata": {
        "colab": {
          "base_uri": "https://localhost:8080/"
        },
        "id": "63On-EplsT3p",
        "outputId": "4bfd591a-50d2-42d4-a1ad-a96529d15b37"
      },
      "execution_count": 95,
      "outputs": [
        {
          "output_type": "execute_result",
          "data": {
            "text/plain": [
              "Index(['proto', 'state', 'sttl', 'dttl', 'service', 'swin', 'trans_depth',\n",
              "       'res_bdy_len', 'stime', 'sintpkt', 'dintpkt', 'tcprtt', 'synack',\n",
              "       'ackdat', 'is_sm_ips_ports', 'ct_state_ttl', 'ct_flw_http_mthd',\n",
              "       'is_ftp_login', 'ct_ftp_cmd', 'ct_srv_src', 'ct_dst_ltm', 'ct_src_ltm',\n",
              "       'ct_dst_sport_ltm', 'label', 'dur_log1p', 'sbytes_log1p',\n",
              "       'dbytes_log1p', 'sload_log1p', 'dload_log1p', 'spkts_log1p',\n",
              "       'stcpb_log1p', 'dtcpb_log1p', 'smeansz_log1p', 'dmeansz_log1p',\n",
              "       'sjit_log1p', 'djit_log1p', 'network_bytes_log1p'],\n",
              "      dtype='object')"
            ]
          },
          "metadata": {},
          "execution_count": 95
        }
      ]
    },
    {
      "cell_type": "code",
      "source": [
        "train.shape, test.shape"
      ],
      "metadata": {
        "colab": {
          "base_uri": "https://localhost:8080/"
        },
        "id": "0APLGIO6sWQa",
        "outputId": "7c250e7b-409a-416e-b47d-a3c970f4068a"
      },
      "execution_count": 96,
      "outputs": [
        {
          "output_type": "execute_result",
          "data": {
            "text/plain": [
              "((1778032, 37), (762015, 49))"
            ]
          },
          "metadata": {},
          "execution_count": 96
        }
      ]
    },
    {
      "cell_type": "code",
      "source": [
        "x_train, y_train = train.drop(columns=['label']), train['label']\n",
        "x_test, y_test = test.drop(columns=['label']), test['label']\n",
        "print(x_train.shape, y_train.shape)\n",
        "print()\n",
        "print(x_test.shape, y_test.shape)"
      ],
      "metadata": {
        "colab": {
          "base_uri": "https://localhost:8080/"
        },
        "id": "k2h8LYHksYhk",
        "outputId": "746fbdff-b319-491b-d777-94a1418c9101"
      },
      "execution_count": 97,
      "outputs": [
        {
          "output_type": "stream",
          "name": "stdout",
          "text": [
            "(1778032, 36) (1778032,)\n",
            "\n",
            "(762015, 48) (762015,)\n"
          ]
        }
      ]
    },
    {
      "cell_type": "code",
      "source": [
        "pickle.dump((x_train, y_train), open('/content/final_ipynb', 'wb'))\n",
        "pickle.dump((x_test, y_test), open('/content/final_ipynb', 'wb'))"
      ],
      "metadata": {
        "id": "A48D-HlTsbm8"
      },
      "execution_count": 98,
      "outputs": []
    },
    {
      "cell_type": "code",
      "source": [
        "cat_col = ['proto', 'service', 'state']\n",
        "num_col = list(set(x_train.columns) - set(cat_col))"
      ],
      "metadata": {
        "id": "bcEpqGV4sfL_"
      },
      "execution_count": 99,
      "outputs": []
    },
    {
      "cell_type": "code",
      "source": [
        "saved_dict['cat_col'] = cat_col\n",
        "saved_dict['num_col'] = num_col"
      ],
      "metadata": {
        "id": "-iG8ah7Ys-pX"
      },
      "execution_count": 100,
      "outputs": []
    },
    {
      "cell_type": "code",
      "source": [
        "x_train.head()"
      ],
      "metadata": {
        "colab": {
          "base_uri": "https://localhost:8080/",
          "height": 255
        },
        "id": "4A880DCptAZ3",
        "outputId": "b054104c-8648-472c-fb39-7dc6422c0be2"
      },
      "execution_count": 101,
      "outputs": [
        {
          "output_type": "execute_result",
          "data": {
            "text/plain": [
              "  proto state  sttl  dttl service  swin  trans_depth  res_bdy_len       stime  \\\n",
              "0   udp   INT   254     0     NaN     0            0            0  1421930643   \n",
              "1   udp   INT    60     0     dns     0            0            0  1424246229   \n",
              "2   tcp   FIN    31    29     NaN   255            0            0  1421948071   \n",
              "3   tcp   FIN    31    29     ftp   255            0            0  1421971944   \n",
              "4   tcp   FIN    31    29     NaN   255            0            0  1421963050   \n",
              "\n",
              "     sintpkt  ...  sload_log1p  dload_log1p  spkts_log1p  stcpb_log1p  \\\n",
              "0  33.479000  ...     9.275600     0.000000     1.609438     0.000000   \n",
              "1   0.008000  ...    18.698312     0.000000     1.098612     0.000000   \n",
              "2   0.372205  ...    14.105347    16.314201     3.713572    20.196135   \n",
              "3  16.144740  ...    10.258074    10.501435     3.970292    21.803017   \n",
              "4   1.218800  ...    13.339317    13.412088     2.833213    20.673269   \n",
              "\n",
              "   dtcpb_log1p  smeansz_log1p  dmeansz_log1p  sjit_log1p djit_log1p  \\\n",
              "0     0.000000       3.828641       0.000000    3.878042   0.000000   \n",
              "1     0.000000       4.890349       0.000000    0.000000   0.000000   \n",
              "2    21.733479       4.174387       6.313548    0.000000   3.012070   \n",
              "3    20.494420       4.043051       4.248495    7.264606   3.984562   \n",
              "4    21.855078       4.574711       4.521789    4.309533   1.138118   \n",
              "\n",
              "   network_bytes_log1p  \n",
              "0             5.187386  \n",
              "1             5.579730  \n",
              "2            10.152883  \n",
              "3             8.806124  \n",
              "4             8.066208  \n",
              "\n",
              "[5 rows x 36 columns]"
            ],
            "text/html": [
              "\n",
              "  <div id=\"df-88026e8c-b935-450b-af97-9e51e30fc77f\" class=\"colab-df-container\">\n",
              "    <div>\n",
              "<style scoped>\n",
              "    .dataframe tbody tr th:only-of-type {\n",
              "        vertical-align: middle;\n",
              "    }\n",
              "\n",
              "    .dataframe tbody tr th {\n",
              "        vertical-align: top;\n",
              "    }\n",
              "\n",
              "    .dataframe thead th {\n",
              "        text-align: right;\n",
              "    }\n",
              "</style>\n",
              "<table border=\"1\" class=\"dataframe\">\n",
              "  <thead>\n",
              "    <tr style=\"text-align: right;\">\n",
              "      <th></th>\n",
              "      <th>proto</th>\n",
              "      <th>state</th>\n",
              "      <th>sttl</th>\n",
              "      <th>dttl</th>\n",
              "      <th>service</th>\n",
              "      <th>swin</th>\n",
              "      <th>trans_depth</th>\n",
              "      <th>res_bdy_len</th>\n",
              "      <th>stime</th>\n",
              "      <th>sintpkt</th>\n",
              "      <th>...</th>\n",
              "      <th>sload_log1p</th>\n",
              "      <th>dload_log1p</th>\n",
              "      <th>spkts_log1p</th>\n",
              "      <th>stcpb_log1p</th>\n",
              "      <th>dtcpb_log1p</th>\n",
              "      <th>smeansz_log1p</th>\n",
              "      <th>dmeansz_log1p</th>\n",
              "      <th>sjit_log1p</th>\n",
              "      <th>djit_log1p</th>\n",
              "      <th>network_bytes_log1p</th>\n",
              "    </tr>\n",
              "  </thead>\n",
              "  <tbody>\n",
              "    <tr>\n",
              "      <th>0</th>\n",
              "      <td>udp</td>\n",
              "      <td>INT</td>\n",
              "      <td>254</td>\n",
              "      <td>0</td>\n",
              "      <td>NaN</td>\n",
              "      <td>0</td>\n",
              "      <td>0</td>\n",
              "      <td>0</td>\n",
              "      <td>1421930643</td>\n",
              "      <td>33.479000</td>\n",
              "      <td>...</td>\n",
              "      <td>9.275600</td>\n",
              "      <td>0.000000</td>\n",
              "      <td>1.609438</td>\n",
              "      <td>0.000000</td>\n",
              "      <td>0.000000</td>\n",
              "      <td>3.828641</td>\n",
              "      <td>0.000000</td>\n",
              "      <td>3.878042</td>\n",
              "      <td>0.000000</td>\n",
              "      <td>5.187386</td>\n",
              "    </tr>\n",
              "    <tr>\n",
              "      <th>1</th>\n",
              "      <td>udp</td>\n",
              "      <td>INT</td>\n",
              "      <td>60</td>\n",
              "      <td>0</td>\n",
              "      <td>dns</td>\n",
              "      <td>0</td>\n",
              "      <td>0</td>\n",
              "      <td>0</td>\n",
              "      <td>1424246229</td>\n",
              "      <td>0.008000</td>\n",
              "      <td>...</td>\n",
              "      <td>18.698312</td>\n",
              "      <td>0.000000</td>\n",
              "      <td>1.098612</td>\n",
              "      <td>0.000000</td>\n",
              "      <td>0.000000</td>\n",
              "      <td>4.890349</td>\n",
              "      <td>0.000000</td>\n",
              "      <td>0.000000</td>\n",
              "      <td>0.000000</td>\n",
              "      <td>5.579730</td>\n",
              "    </tr>\n",
              "    <tr>\n",
              "      <th>2</th>\n",
              "      <td>tcp</td>\n",
              "      <td>FIN</td>\n",
              "      <td>31</td>\n",
              "      <td>29</td>\n",
              "      <td>NaN</td>\n",
              "      <td>255</td>\n",
              "      <td>0</td>\n",
              "      <td>0</td>\n",
              "      <td>1421948071</td>\n",
              "      <td>0.372205</td>\n",
              "      <td>...</td>\n",
              "      <td>14.105347</td>\n",
              "      <td>16.314201</td>\n",
              "      <td>3.713572</td>\n",
              "      <td>20.196135</td>\n",
              "      <td>21.733479</td>\n",
              "      <td>4.174387</td>\n",
              "      <td>6.313548</td>\n",
              "      <td>0.000000</td>\n",
              "      <td>3.012070</td>\n",
              "      <td>10.152883</td>\n",
              "    </tr>\n",
              "    <tr>\n",
              "      <th>3</th>\n",
              "      <td>tcp</td>\n",
              "      <td>FIN</td>\n",
              "      <td>31</td>\n",
              "      <td>29</td>\n",
              "      <td>ftp</td>\n",
              "      <td>255</td>\n",
              "      <td>0</td>\n",
              "      <td>0</td>\n",
              "      <td>1421971944</td>\n",
              "      <td>16.144740</td>\n",
              "      <td>...</td>\n",
              "      <td>10.258074</td>\n",
              "      <td>10.501435</td>\n",
              "      <td>3.970292</td>\n",
              "      <td>21.803017</td>\n",
              "      <td>20.494420</td>\n",
              "      <td>4.043051</td>\n",
              "      <td>4.248495</td>\n",
              "      <td>7.264606</td>\n",
              "      <td>3.984562</td>\n",
              "      <td>8.806124</td>\n",
              "    </tr>\n",
              "    <tr>\n",
              "      <th>4</th>\n",
              "      <td>tcp</td>\n",
              "      <td>FIN</td>\n",
              "      <td>31</td>\n",
              "      <td>29</td>\n",
              "      <td>NaN</td>\n",
              "      <td>255</td>\n",
              "      <td>0</td>\n",
              "      <td>0</td>\n",
              "      <td>1421963050</td>\n",
              "      <td>1.218800</td>\n",
              "      <td>...</td>\n",
              "      <td>13.339317</td>\n",
              "      <td>13.412088</td>\n",
              "      <td>2.833213</td>\n",
              "      <td>20.673269</td>\n",
              "      <td>21.855078</td>\n",
              "      <td>4.574711</td>\n",
              "      <td>4.521789</td>\n",
              "      <td>4.309533</td>\n",
              "      <td>1.138118</td>\n",
              "      <td>8.066208</td>\n",
              "    </tr>\n",
              "  </tbody>\n",
              "</table>\n",
              "<p>5 rows × 36 columns</p>\n",
              "</div>\n",
              "    <div class=\"colab-df-buttons\">\n",
              "\n",
              "  <div class=\"colab-df-container\">\n",
              "    <button class=\"colab-df-convert\" onclick=\"convertToInteractive('df-88026e8c-b935-450b-af97-9e51e30fc77f')\"\n",
              "            title=\"Convert this dataframe to an interactive table.\"\n",
              "            style=\"display:none;\">\n",
              "\n",
              "  <svg xmlns=\"http://www.w3.org/2000/svg\" height=\"24px\" viewBox=\"0 -960 960 960\">\n",
              "    <path d=\"M120-120v-720h720v720H120Zm60-500h600v-160H180v160Zm220 220h160v-160H400v160Zm0 220h160v-160H400v160ZM180-400h160v-160H180v160Zm440 0h160v-160H620v160ZM180-180h160v-160H180v160Zm440 0h160v-160H620v160Z\"/>\n",
              "  </svg>\n",
              "    </button>\n",
              "\n",
              "  <style>\n",
              "    .colab-df-container {\n",
              "      display:flex;\n",
              "      gap: 12px;\n",
              "    }\n",
              "\n",
              "    .colab-df-convert {\n",
              "      background-color: #E8F0FE;\n",
              "      border: none;\n",
              "      border-radius: 50%;\n",
              "      cursor: pointer;\n",
              "      display: none;\n",
              "      fill: #1967D2;\n",
              "      height: 32px;\n",
              "      padding: 0 0 0 0;\n",
              "      width: 32px;\n",
              "    }\n",
              "\n",
              "    .colab-df-convert:hover {\n",
              "      background-color: #E2EBFA;\n",
              "      box-shadow: 0px 1px 2px rgba(60, 64, 67, 0.3), 0px 1px 3px 1px rgba(60, 64, 67, 0.15);\n",
              "      fill: #174EA6;\n",
              "    }\n",
              "\n",
              "    .colab-df-buttons div {\n",
              "      margin-bottom: 4px;\n",
              "    }\n",
              "\n",
              "    [theme=dark] .colab-df-convert {\n",
              "      background-color: #3B4455;\n",
              "      fill: #D2E3FC;\n",
              "    }\n",
              "\n",
              "    [theme=dark] .colab-df-convert:hover {\n",
              "      background-color: #434B5C;\n",
              "      box-shadow: 0px 1px 3px 1px rgba(0, 0, 0, 0.15);\n",
              "      filter: drop-shadow(0px 1px 2px rgba(0, 0, 0, 0.3));\n",
              "      fill: #FFFFFF;\n",
              "    }\n",
              "  </style>\n",
              "\n",
              "    <script>\n",
              "      const buttonEl =\n",
              "        document.querySelector('#df-88026e8c-b935-450b-af97-9e51e30fc77f button.colab-df-convert');\n",
              "      buttonEl.style.display =\n",
              "        google.colab.kernel.accessAllowed ? 'block' : 'none';\n",
              "\n",
              "      async function convertToInteractive(key) {\n",
              "        const element = document.querySelector('#df-88026e8c-b935-450b-af97-9e51e30fc77f');\n",
              "        const dataTable =\n",
              "          await google.colab.kernel.invokeFunction('convertToInteractive',\n",
              "                                                    [key], {});\n",
              "        if (!dataTable) return;\n",
              "\n",
              "        const docLinkHtml = 'Like what you see? Visit the ' +\n",
              "          '<a target=\"_blank\" href=https://colab.research.google.com/notebooks/data_table.ipynb>data table notebook</a>'\n",
              "          + ' to learn more about interactive tables.';\n",
              "        element.innerHTML = '';\n",
              "        dataTable['output_type'] = 'display_data';\n",
              "        await google.colab.output.renderOutput(dataTable, element);\n",
              "        const docLink = document.createElement('div');\n",
              "        docLink.innerHTML = docLinkHtml;\n",
              "        element.appendChild(docLink);\n",
              "      }\n",
              "    </script>\n",
              "  </div>\n",
              "\n",
              "\n",
              "<div id=\"df-6d2225eb-8c0b-44f2-9126-ac409c971c74\">\n",
              "  <button class=\"colab-df-quickchart\" onclick=\"quickchart('df-6d2225eb-8c0b-44f2-9126-ac409c971c74')\"\n",
              "            title=\"Suggest charts\"\n",
              "            style=\"display:none;\">\n",
              "\n",
              "<svg xmlns=\"http://www.w3.org/2000/svg\" height=\"24px\"viewBox=\"0 0 24 24\"\n",
              "     width=\"24px\">\n",
              "    <g>\n",
              "        <path d=\"M19 3H5c-1.1 0-2 .9-2 2v14c0 1.1.9 2 2 2h14c1.1 0 2-.9 2-2V5c0-1.1-.9-2-2-2zM9 17H7v-7h2v7zm4 0h-2V7h2v10zm4 0h-2v-4h2v4z\"/>\n",
              "    </g>\n",
              "</svg>\n",
              "  </button>\n",
              "\n",
              "<style>\n",
              "  .colab-df-quickchart {\n",
              "      --bg-color: #E8F0FE;\n",
              "      --fill-color: #1967D2;\n",
              "      --hover-bg-color: #E2EBFA;\n",
              "      --hover-fill-color: #174EA6;\n",
              "      --disabled-fill-color: #AAA;\n",
              "      --disabled-bg-color: #DDD;\n",
              "  }\n",
              "\n",
              "  [theme=dark] .colab-df-quickchart {\n",
              "      --bg-color: #3B4455;\n",
              "      --fill-color: #D2E3FC;\n",
              "      --hover-bg-color: #434B5C;\n",
              "      --hover-fill-color: #FFFFFF;\n",
              "      --disabled-bg-color: #3B4455;\n",
              "      --disabled-fill-color: #666;\n",
              "  }\n",
              "\n",
              "  .colab-df-quickchart {\n",
              "    background-color: var(--bg-color);\n",
              "    border: none;\n",
              "    border-radius: 50%;\n",
              "    cursor: pointer;\n",
              "    display: none;\n",
              "    fill: var(--fill-color);\n",
              "    height: 32px;\n",
              "    padding: 0;\n",
              "    width: 32px;\n",
              "  }\n",
              "\n",
              "  .colab-df-quickchart:hover {\n",
              "    background-color: var(--hover-bg-color);\n",
              "    box-shadow: 0 1px 2px rgba(60, 64, 67, 0.3), 0 1px 3px 1px rgba(60, 64, 67, 0.15);\n",
              "    fill: var(--button-hover-fill-color);\n",
              "  }\n",
              "\n",
              "  .colab-df-quickchart-complete:disabled,\n",
              "  .colab-df-quickchart-complete:disabled:hover {\n",
              "    background-color: var(--disabled-bg-color);\n",
              "    fill: var(--disabled-fill-color);\n",
              "    box-shadow: none;\n",
              "  }\n",
              "\n",
              "  .colab-df-spinner {\n",
              "    border: 2px solid var(--fill-color);\n",
              "    border-color: transparent;\n",
              "    border-bottom-color: var(--fill-color);\n",
              "    animation:\n",
              "      spin 1s steps(1) infinite;\n",
              "  }\n",
              "\n",
              "  @keyframes spin {\n",
              "    0% {\n",
              "      border-color: transparent;\n",
              "      border-bottom-color: var(--fill-color);\n",
              "      border-left-color: var(--fill-color);\n",
              "    }\n",
              "    20% {\n",
              "      border-color: transparent;\n",
              "      border-left-color: var(--fill-color);\n",
              "      border-top-color: var(--fill-color);\n",
              "    }\n",
              "    30% {\n",
              "      border-color: transparent;\n",
              "      border-left-color: var(--fill-color);\n",
              "      border-top-color: var(--fill-color);\n",
              "      border-right-color: var(--fill-color);\n",
              "    }\n",
              "    40% {\n",
              "      border-color: transparent;\n",
              "      border-right-color: var(--fill-color);\n",
              "      border-top-color: var(--fill-color);\n",
              "    }\n",
              "    60% {\n",
              "      border-color: transparent;\n",
              "      border-right-color: var(--fill-color);\n",
              "    }\n",
              "    80% {\n",
              "      border-color: transparent;\n",
              "      border-right-color: var(--fill-color);\n",
              "      border-bottom-color: var(--fill-color);\n",
              "    }\n",
              "    90% {\n",
              "      border-color: transparent;\n",
              "      border-bottom-color: var(--fill-color);\n",
              "    }\n",
              "  }\n",
              "</style>\n",
              "\n",
              "  <script>\n",
              "    async function quickchart(key) {\n",
              "      const quickchartButtonEl =\n",
              "        document.querySelector('#' + key + ' button');\n",
              "      quickchartButtonEl.disabled = true;  // To prevent multiple clicks.\n",
              "      quickchartButtonEl.classList.add('colab-df-spinner');\n",
              "      try {\n",
              "        const charts = await google.colab.kernel.invokeFunction(\n",
              "            'suggestCharts', [key], {});\n",
              "      } catch (error) {\n",
              "        console.error('Error during call to suggestCharts:', error);\n",
              "      }\n",
              "      quickchartButtonEl.classList.remove('colab-df-spinner');\n",
              "      quickchartButtonEl.classList.add('colab-df-quickchart-complete');\n",
              "    }\n",
              "    (() => {\n",
              "      let quickchartButtonEl =\n",
              "        document.querySelector('#df-6d2225eb-8c0b-44f2-9126-ac409c971c74 button');\n",
              "      quickchartButtonEl.style.display =\n",
              "        google.colab.kernel.accessAllowed ? 'block' : 'none';\n",
              "    })();\n",
              "  </script>\n",
              "</div>\n",
              "\n",
              "    </div>\n",
              "  </div>\n"
            ],
            "application/vnd.google.colaboratory.intrinsic+json": {
              "type": "dataframe",
              "variable_name": "x_train"
            }
          },
          "metadata": {},
          "execution_count": 101
        }
      ]
    },
    {
      "cell_type": "code",
      "source": [
        "# Standardization\n",
        "from sklearn.preprocessing import StandardScaler\n",
        "\n",
        "scaler = StandardScaler()\n",
        "for col in num_col:\n",
        "    x_train[col] = pd.to_numeric(x_train[col], errors='coerce')\n",
        "\n",
        "scaler = scaler.fit(x_train[num_col])"
      ],
      "metadata": {
        "id": "ZlbioRm5WjFB"
      },
      "execution_count": 102,
      "outputs": []
    },
    {
      "cell_type": "code",
      "source": [
        "x_train[num_col]= scaler.transform(x_train[num_col])"
      ],
      "metadata": {
        "id": "lD1yjsGsW_Xv"
      },
      "execution_count": 103,
      "outputs": []
    },
    {
      "cell_type": "code",
      "source": [
        "x_train.head()"
      ],
      "metadata": {
        "colab": {
          "base_uri": "https://localhost:8080/",
          "height": 255
        },
        "id": "WpkUDYsQXP1G",
        "outputId": "aa1f0548-8924-4b35-f57d-98343ef982aa"
      },
      "execution_count": 104,
      "outputs": [
        {
          "output_type": "execute_result",
          "data": {
            "text/plain": [
              "  proto state      sttl      dttl service      swin  trans_depth  res_bdy_len  \\\n",
              "0   udp   INT  2.561444 -0.717760     NaN -1.196045    -0.225343    -0.089113   \n",
              "1   udp   INT -0.037542 -0.717760     dns -1.196045    -0.225343    -0.089113   \n",
              "2   tcp   FIN -0.426051 -0.041365     NaN  0.836096    -0.225343    -0.089113   \n",
              "3   tcp   FIN -0.426051 -0.041365     ftp  0.836096    -0.225343    -0.089113   \n",
              "4   tcp   FIN -0.426051 -0.041365     NaN  0.836096    -0.225343    -0.089113   \n",
              "\n",
              "      stime   sintpkt  ...  sload_log1p  dload_log1p  spkts_log1p  \\\n",
              "0 -1.172764 -0.057567  ...    -1.383776    -1.879995    -0.704801   \n",
              "1  0.868469 -0.069616  ...     1.614925    -1.879995    -1.080734   \n",
              "2 -1.157401 -0.069485  ...     0.153252     0.988351     0.843701   \n",
              "3 -1.136357 -0.063807  ...    -1.071111    -0.033644     1.032630   \n",
              "4 -1.144197 -0.069180  ...    -0.090531     0.478104     0.195816   \n",
              "\n",
              "   stcpb_log1p  dtcpb_log1p  smeansz_log1p  dmeansz_log1p  sjit_log1p  \\\n",
              "0    -1.190007    -1.189697      -1.137341      -1.850553    0.204270   \n",
              "1    -1.190007    -1.189697       0.565988      -1.850553   -0.995343   \n",
              "2     0.741629     0.888925      -0.582651       0.881301   -0.995343   \n",
              "3     0.895318     0.770420      -0.793357      -0.012242    1.251851   \n",
              "4     0.787264     0.900555       0.059601       0.106012    0.337745   \n",
              "\n",
              "   djit_log1p  network_bytes_log1p  \n",
              "0   -0.899657            -1.229918  \n",
              "1   -0.899657            -1.062092  \n",
              "2    0.170283             0.894089  \n",
              "3    0.515730             0.318009  \n",
              "4   -0.495378             0.001507  \n",
              "\n",
              "[5 rows x 36 columns]"
            ],
            "text/html": [
              "\n",
              "  <div id=\"df-333bf45e-c868-44ff-be98-4ecf89fae204\" class=\"colab-df-container\">\n",
              "    <div>\n",
              "<style scoped>\n",
              "    .dataframe tbody tr th:only-of-type {\n",
              "        vertical-align: middle;\n",
              "    }\n",
              "\n",
              "    .dataframe tbody tr th {\n",
              "        vertical-align: top;\n",
              "    }\n",
              "\n",
              "    .dataframe thead th {\n",
              "        text-align: right;\n",
              "    }\n",
              "</style>\n",
              "<table border=\"1\" class=\"dataframe\">\n",
              "  <thead>\n",
              "    <tr style=\"text-align: right;\">\n",
              "      <th></th>\n",
              "      <th>proto</th>\n",
              "      <th>state</th>\n",
              "      <th>sttl</th>\n",
              "      <th>dttl</th>\n",
              "      <th>service</th>\n",
              "      <th>swin</th>\n",
              "      <th>trans_depth</th>\n",
              "      <th>res_bdy_len</th>\n",
              "      <th>stime</th>\n",
              "      <th>sintpkt</th>\n",
              "      <th>...</th>\n",
              "      <th>sload_log1p</th>\n",
              "      <th>dload_log1p</th>\n",
              "      <th>spkts_log1p</th>\n",
              "      <th>stcpb_log1p</th>\n",
              "      <th>dtcpb_log1p</th>\n",
              "      <th>smeansz_log1p</th>\n",
              "      <th>dmeansz_log1p</th>\n",
              "      <th>sjit_log1p</th>\n",
              "      <th>djit_log1p</th>\n",
              "      <th>network_bytes_log1p</th>\n",
              "    </tr>\n",
              "  </thead>\n",
              "  <tbody>\n",
              "    <tr>\n",
              "      <th>0</th>\n",
              "      <td>udp</td>\n",
              "      <td>INT</td>\n",
              "      <td>2.561444</td>\n",
              "      <td>-0.717760</td>\n",
              "      <td>NaN</td>\n",
              "      <td>-1.196045</td>\n",
              "      <td>-0.225343</td>\n",
              "      <td>-0.089113</td>\n",
              "      <td>-1.172764</td>\n",
              "      <td>-0.057567</td>\n",
              "      <td>...</td>\n",
              "      <td>-1.383776</td>\n",
              "      <td>-1.879995</td>\n",
              "      <td>-0.704801</td>\n",
              "      <td>-1.190007</td>\n",
              "      <td>-1.189697</td>\n",
              "      <td>-1.137341</td>\n",
              "      <td>-1.850553</td>\n",
              "      <td>0.204270</td>\n",
              "      <td>-0.899657</td>\n",
              "      <td>-1.229918</td>\n",
              "    </tr>\n",
              "    <tr>\n",
              "      <th>1</th>\n",
              "      <td>udp</td>\n",
              "      <td>INT</td>\n",
              "      <td>-0.037542</td>\n",
              "      <td>-0.717760</td>\n",
              "      <td>dns</td>\n",
              "      <td>-1.196045</td>\n",
              "      <td>-0.225343</td>\n",
              "      <td>-0.089113</td>\n",
              "      <td>0.868469</td>\n",
              "      <td>-0.069616</td>\n",
              "      <td>...</td>\n",
              "      <td>1.614925</td>\n",
              "      <td>-1.879995</td>\n",
              "      <td>-1.080734</td>\n",
              "      <td>-1.190007</td>\n",
              "      <td>-1.189697</td>\n",
              "      <td>0.565988</td>\n",
              "      <td>-1.850553</td>\n",
              "      <td>-0.995343</td>\n",
              "      <td>-0.899657</td>\n",
              "      <td>-1.062092</td>\n",
              "    </tr>\n",
              "    <tr>\n",
              "      <th>2</th>\n",
              "      <td>tcp</td>\n",
              "      <td>FIN</td>\n",
              "      <td>-0.426051</td>\n",
              "      <td>-0.041365</td>\n",
              "      <td>NaN</td>\n",
              "      <td>0.836096</td>\n",
              "      <td>-0.225343</td>\n",
              "      <td>-0.089113</td>\n",
              "      <td>-1.157401</td>\n",
              "      <td>-0.069485</td>\n",
              "      <td>...</td>\n",
              "      <td>0.153252</td>\n",
              "      <td>0.988351</td>\n",
              "      <td>0.843701</td>\n",
              "      <td>0.741629</td>\n",
              "      <td>0.888925</td>\n",
              "      <td>-0.582651</td>\n",
              "      <td>0.881301</td>\n",
              "      <td>-0.995343</td>\n",
              "      <td>0.170283</td>\n",
              "      <td>0.894089</td>\n",
              "    </tr>\n",
              "    <tr>\n",
              "      <th>3</th>\n",
              "      <td>tcp</td>\n",
              "      <td>FIN</td>\n",
              "      <td>-0.426051</td>\n",
              "      <td>-0.041365</td>\n",
              "      <td>ftp</td>\n",
              "      <td>0.836096</td>\n",
              "      <td>-0.225343</td>\n",
              "      <td>-0.089113</td>\n",
              "      <td>-1.136357</td>\n",
              "      <td>-0.063807</td>\n",
              "      <td>...</td>\n",
              "      <td>-1.071111</td>\n",
              "      <td>-0.033644</td>\n",
              "      <td>1.032630</td>\n",
              "      <td>0.895318</td>\n",
              "      <td>0.770420</td>\n",
              "      <td>-0.793357</td>\n",
              "      <td>-0.012242</td>\n",
              "      <td>1.251851</td>\n",
              "      <td>0.515730</td>\n",
              "      <td>0.318009</td>\n",
              "    </tr>\n",
              "    <tr>\n",
              "      <th>4</th>\n",
              "      <td>tcp</td>\n",
              "      <td>FIN</td>\n",
              "      <td>-0.426051</td>\n",
              "      <td>-0.041365</td>\n",
              "      <td>NaN</td>\n",
              "      <td>0.836096</td>\n",
              "      <td>-0.225343</td>\n",
              "      <td>-0.089113</td>\n",
              "      <td>-1.144197</td>\n",
              "      <td>-0.069180</td>\n",
              "      <td>...</td>\n",
              "      <td>-0.090531</td>\n",
              "      <td>0.478104</td>\n",
              "      <td>0.195816</td>\n",
              "      <td>0.787264</td>\n",
              "      <td>0.900555</td>\n",
              "      <td>0.059601</td>\n",
              "      <td>0.106012</td>\n",
              "      <td>0.337745</td>\n",
              "      <td>-0.495378</td>\n",
              "      <td>0.001507</td>\n",
              "    </tr>\n",
              "  </tbody>\n",
              "</table>\n",
              "<p>5 rows × 36 columns</p>\n",
              "</div>\n",
              "    <div class=\"colab-df-buttons\">\n",
              "\n",
              "  <div class=\"colab-df-container\">\n",
              "    <button class=\"colab-df-convert\" onclick=\"convertToInteractive('df-333bf45e-c868-44ff-be98-4ecf89fae204')\"\n",
              "            title=\"Convert this dataframe to an interactive table.\"\n",
              "            style=\"display:none;\">\n",
              "\n",
              "  <svg xmlns=\"http://www.w3.org/2000/svg\" height=\"24px\" viewBox=\"0 -960 960 960\">\n",
              "    <path d=\"M120-120v-720h720v720H120Zm60-500h600v-160H180v160Zm220 220h160v-160H400v160Zm0 220h160v-160H400v160ZM180-400h160v-160H180v160Zm440 0h160v-160H620v160ZM180-180h160v-160H180v160Zm440 0h160v-160H620v160Z\"/>\n",
              "  </svg>\n",
              "    </button>\n",
              "\n",
              "  <style>\n",
              "    .colab-df-container {\n",
              "      display:flex;\n",
              "      gap: 12px;\n",
              "    }\n",
              "\n",
              "    .colab-df-convert {\n",
              "      background-color: #E8F0FE;\n",
              "      border: none;\n",
              "      border-radius: 50%;\n",
              "      cursor: pointer;\n",
              "      display: none;\n",
              "      fill: #1967D2;\n",
              "      height: 32px;\n",
              "      padding: 0 0 0 0;\n",
              "      width: 32px;\n",
              "    }\n",
              "\n",
              "    .colab-df-convert:hover {\n",
              "      background-color: #E2EBFA;\n",
              "      box-shadow: 0px 1px 2px rgba(60, 64, 67, 0.3), 0px 1px 3px 1px rgba(60, 64, 67, 0.15);\n",
              "      fill: #174EA6;\n",
              "    }\n",
              "\n",
              "    .colab-df-buttons div {\n",
              "      margin-bottom: 4px;\n",
              "    }\n",
              "\n",
              "    [theme=dark] .colab-df-convert {\n",
              "      background-color: #3B4455;\n",
              "      fill: #D2E3FC;\n",
              "    }\n",
              "\n",
              "    [theme=dark] .colab-df-convert:hover {\n",
              "      background-color: #434B5C;\n",
              "      box-shadow: 0px 1px 3px 1px rgba(0, 0, 0, 0.15);\n",
              "      filter: drop-shadow(0px 1px 2px rgba(0, 0, 0, 0.3));\n",
              "      fill: #FFFFFF;\n",
              "    }\n",
              "  </style>\n",
              "\n",
              "    <script>\n",
              "      const buttonEl =\n",
              "        document.querySelector('#df-333bf45e-c868-44ff-be98-4ecf89fae204 button.colab-df-convert');\n",
              "      buttonEl.style.display =\n",
              "        google.colab.kernel.accessAllowed ? 'block' : 'none';\n",
              "\n",
              "      async function convertToInteractive(key) {\n",
              "        const element = document.querySelector('#df-333bf45e-c868-44ff-be98-4ecf89fae204');\n",
              "        const dataTable =\n",
              "          await google.colab.kernel.invokeFunction('convertToInteractive',\n",
              "                                                    [key], {});\n",
              "        if (!dataTable) return;\n",
              "\n",
              "        const docLinkHtml = 'Like what you see? Visit the ' +\n",
              "          '<a target=\"_blank\" href=https://colab.research.google.com/notebooks/data_table.ipynb>data table notebook</a>'\n",
              "          + ' to learn more about interactive tables.';\n",
              "        element.innerHTML = '';\n",
              "        dataTable['output_type'] = 'display_data';\n",
              "        await google.colab.output.renderOutput(dataTable, element);\n",
              "        const docLink = document.createElement('div');\n",
              "        docLink.innerHTML = docLinkHtml;\n",
              "        element.appendChild(docLink);\n",
              "      }\n",
              "    </script>\n",
              "  </div>\n",
              "\n",
              "\n",
              "<div id=\"df-7b68ac4f-1383-48bd-adfb-aaffcf961767\">\n",
              "  <button class=\"colab-df-quickchart\" onclick=\"quickchart('df-7b68ac4f-1383-48bd-adfb-aaffcf961767')\"\n",
              "            title=\"Suggest charts\"\n",
              "            style=\"display:none;\">\n",
              "\n",
              "<svg xmlns=\"http://www.w3.org/2000/svg\" height=\"24px\"viewBox=\"0 0 24 24\"\n",
              "     width=\"24px\">\n",
              "    <g>\n",
              "        <path d=\"M19 3H5c-1.1 0-2 .9-2 2v14c0 1.1.9 2 2 2h14c1.1 0 2-.9 2-2V5c0-1.1-.9-2-2-2zM9 17H7v-7h2v7zm4 0h-2V7h2v10zm4 0h-2v-4h2v4z\"/>\n",
              "    </g>\n",
              "</svg>\n",
              "  </button>\n",
              "\n",
              "<style>\n",
              "  .colab-df-quickchart {\n",
              "      --bg-color: #E8F0FE;\n",
              "      --fill-color: #1967D2;\n",
              "      --hover-bg-color: #E2EBFA;\n",
              "      --hover-fill-color: #174EA6;\n",
              "      --disabled-fill-color: #AAA;\n",
              "      --disabled-bg-color: #DDD;\n",
              "  }\n",
              "\n",
              "  [theme=dark] .colab-df-quickchart {\n",
              "      --bg-color: #3B4455;\n",
              "      --fill-color: #D2E3FC;\n",
              "      --hover-bg-color: #434B5C;\n",
              "      --hover-fill-color: #FFFFFF;\n",
              "      --disabled-bg-color: #3B4455;\n",
              "      --disabled-fill-color: #666;\n",
              "  }\n",
              "\n",
              "  .colab-df-quickchart {\n",
              "    background-color: var(--bg-color);\n",
              "    border: none;\n",
              "    border-radius: 50%;\n",
              "    cursor: pointer;\n",
              "    display: none;\n",
              "    fill: var(--fill-color);\n",
              "    height: 32px;\n",
              "    padding: 0;\n",
              "    width: 32px;\n",
              "  }\n",
              "\n",
              "  .colab-df-quickchart:hover {\n",
              "    background-color: var(--hover-bg-color);\n",
              "    box-shadow: 0 1px 2px rgba(60, 64, 67, 0.3), 0 1px 3px 1px rgba(60, 64, 67, 0.15);\n",
              "    fill: var(--button-hover-fill-color);\n",
              "  }\n",
              "\n",
              "  .colab-df-quickchart-complete:disabled,\n",
              "  .colab-df-quickchart-complete:disabled:hover {\n",
              "    background-color: var(--disabled-bg-color);\n",
              "    fill: var(--disabled-fill-color);\n",
              "    box-shadow: none;\n",
              "  }\n",
              "\n",
              "  .colab-df-spinner {\n",
              "    border: 2px solid var(--fill-color);\n",
              "    border-color: transparent;\n",
              "    border-bottom-color: var(--fill-color);\n",
              "    animation:\n",
              "      spin 1s steps(1) infinite;\n",
              "  }\n",
              "\n",
              "  @keyframes spin {\n",
              "    0% {\n",
              "      border-color: transparent;\n",
              "      border-bottom-color: var(--fill-color);\n",
              "      border-left-color: var(--fill-color);\n",
              "    }\n",
              "    20% {\n",
              "      border-color: transparent;\n",
              "      border-left-color: var(--fill-color);\n",
              "      border-top-color: var(--fill-color);\n",
              "    }\n",
              "    30% {\n",
              "      border-color: transparent;\n",
              "      border-left-color: var(--fill-color);\n",
              "      border-top-color: var(--fill-color);\n",
              "      border-right-color: var(--fill-color);\n",
              "    }\n",
              "    40% {\n",
              "      border-color: transparent;\n",
              "      border-right-color: var(--fill-color);\n",
              "      border-top-color: var(--fill-color);\n",
              "    }\n",
              "    60% {\n",
              "      border-color: transparent;\n",
              "      border-right-color: var(--fill-color);\n",
              "    }\n",
              "    80% {\n",
              "      border-color: transparent;\n",
              "      border-right-color: var(--fill-color);\n",
              "      border-bottom-color: var(--fill-color);\n",
              "    }\n",
              "    90% {\n",
              "      border-color: transparent;\n",
              "      border-bottom-color: var(--fill-color);\n",
              "    }\n",
              "  }\n",
              "</style>\n",
              "\n",
              "  <script>\n",
              "    async function quickchart(key) {\n",
              "      const quickchartButtonEl =\n",
              "        document.querySelector('#' + key + ' button');\n",
              "      quickchartButtonEl.disabled = true;  // To prevent multiple clicks.\n",
              "      quickchartButtonEl.classList.add('colab-df-spinner');\n",
              "      try {\n",
              "        const charts = await google.colab.kernel.invokeFunction(\n",
              "            'suggestCharts', [key], {});\n",
              "      } catch (error) {\n",
              "        console.error('Error during call to suggestCharts:', error);\n",
              "      }\n",
              "      quickchartButtonEl.classList.remove('colab-df-spinner');\n",
              "      quickchartButtonEl.classList.add('colab-df-quickchart-complete');\n",
              "    }\n",
              "    (() => {\n",
              "      let quickchartButtonEl =\n",
              "        document.querySelector('#df-7b68ac4f-1383-48bd-adfb-aaffcf961767 button');\n",
              "      quickchartButtonEl.style.display =\n",
              "        google.colab.kernel.accessAllowed ? 'block' : 'none';\n",
              "    })();\n",
              "  </script>\n",
              "</div>\n",
              "\n",
              "    </div>\n",
              "  </div>\n"
            ],
            "application/vnd.google.colaboratory.intrinsic+json": {
              "type": "dataframe",
              "variable_name": "x_train"
            }
          },
          "metadata": {},
          "execution_count": 104
        }
      ]
    },
    {
      "cell_type": "code",
      "source": [
        "\n"
      ],
      "metadata": {
        "id": "F12CYvAsXR4s"
      },
      "execution_count": 96,
      "outputs": []
    },
    {
      "cell_type": "code",
      "source": [
        "from sklearn.preprocessing import OneHotEncoder\n",
        "\n",
        "\n",
        "service_ = OneHotEncoder()\n",
        "proto_ = OneHotEncoder()\n",
        "state_ = OneHotEncoder()\n",
        "\n",
        "# Fit the encoders and transform the data for each column\n",
        "for col, ohe in zip(['service', 'proto', 'state'], [service_, proto_, state_]):\n",
        "    # Fit the encoder on the original data\n",
        "    ohe = ohe.fit(x_train[col].values.reshape(-1,1))\n",
        "    # Transform the data and create a new DataFrame with the encoded columns\n",
        "    x = ohe.transform(x_train[col].values.reshape(-1,1))\n",
        "    # Convert categories to strings\n",
        "    categories = [str(i) for i in ohe.categories_[0]]\n",
        "    tmp_df = pd.DataFrame(x.todense(), columns=[col+'_'+ i for i in categories])\n",
        "    # Concatenate the new DataFrame with the original DataFrame (dropping the original column)\n",
        "    x_train = pd.concat([x_train.drop(col, axis=1), tmp_df], axis=1)\n",
        "\n",
        "# Display the head of the modified DataFrame\n",
        "x_train.head()"
      ],
      "metadata": {
        "colab": {
          "base_uri": "https://localhost:8080/",
          "height": 255
        },
        "id": "nex_L2YDbDLI",
        "outputId": "6feeff48-c6c9-4249-9f4c-1b4ba83b2545"
      },
      "execution_count": 105,
      "outputs": [
        {
          "output_type": "execute_result",
          "data": {
            "text/plain": [
              "       sttl      dttl      swin  trans_depth  res_bdy_len     stime   sintpkt  \\\n",
              "0  2.561444 -0.717760 -1.196045    -0.225343    -0.089113 -1.172764 -0.057567   \n",
              "1 -0.037542 -0.717760 -1.196045    -0.225343    -0.089113  0.868469 -0.069616   \n",
              "2 -0.426051 -0.041365  0.836096    -0.225343    -0.089113 -1.157401 -0.069485   \n",
              "3 -0.426051 -0.041365  0.836096    -0.225343    -0.089113 -1.136357 -0.063807   \n",
              "4 -0.426051 -0.041365  0.836096    -0.225343    -0.089113 -1.144197 -0.069180   \n",
              "\n",
              "    dintpkt    tcprtt    synack  ...  state_INT  state_MAS  state_PAR  \\\n",
              "0 -0.055099 -0.136439 -0.128893  ...        1.0        0.0        0.0   \n",
              "1 -0.055099 -0.136439 -0.128893  ...        1.0        0.0        0.0   \n",
              "2 -0.054857 -0.121383 -0.107394  ...        0.0        0.0        0.0   \n",
              "3 -0.044512 -0.120830 -0.107159  ...        0.0        0.0        0.0   \n",
              "4 -0.054358 -0.123351 -0.110421  ...        0.0        0.0        0.0   \n",
              "\n",
              "   state_REQ  state_RST  state_TST  state_TXD  state_URH  state_URN  state_no  \n",
              "0        0.0        0.0        0.0        0.0        0.0        0.0       0.0  \n",
              "1        0.0        0.0        0.0        0.0        0.0        0.0       0.0  \n",
              "2        0.0        0.0        0.0        0.0        0.0        0.0       0.0  \n",
              "3        0.0        0.0        0.0        0.0        0.0        0.0       0.0  \n",
              "4        0.0        0.0        0.0        0.0        0.0        0.0       0.0  \n",
              "\n",
              "[5 rows x 197 columns]"
            ],
            "text/html": [
              "\n",
              "  <div id=\"df-b4118c4c-302e-4955-b04e-6a4070a2f852\" class=\"colab-df-container\">\n",
              "    <div>\n",
              "<style scoped>\n",
              "    .dataframe tbody tr th:only-of-type {\n",
              "        vertical-align: middle;\n",
              "    }\n",
              "\n",
              "    .dataframe tbody tr th {\n",
              "        vertical-align: top;\n",
              "    }\n",
              "\n",
              "    .dataframe thead th {\n",
              "        text-align: right;\n",
              "    }\n",
              "</style>\n",
              "<table border=\"1\" class=\"dataframe\">\n",
              "  <thead>\n",
              "    <tr style=\"text-align: right;\">\n",
              "      <th></th>\n",
              "      <th>sttl</th>\n",
              "      <th>dttl</th>\n",
              "      <th>swin</th>\n",
              "      <th>trans_depth</th>\n",
              "      <th>res_bdy_len</th>\n",
              "      <th>stime</th>\n",
              "      <th>sintpkt</th>\n",
              "      <th>dintpkt</th>\n",
              "      <th>tcprtt</th>\n",
              "      <th>synack</th>\n",
              "      <th>...</th>\n",
              "      <th>state_INT</th>\n",
              "      <th>state_MAS</th>\n",
              "      <th>state_PAR</th>\n",
              "      <th>state_REQ</th>\n",
              "      <th>state_RST</th>\n",
              "      <th>state_TST</th>\n",
              "      <th>state_TXD</th>\n",
              "      <th>state_URH</th>\n",
              "      <th>state_URN</th>\n",
              "      <th>state_no</th>\n",
              "    </tr>\n",
              "  </thead>\n",
              "  <tbody>\n",
              "    <tr>\n",
              "      <th>0</th>\n",
              "      <td>2.561444</td>\n",
              "      <td>-0.717760</td>\n",
              "      <td>-1.196045</td>\n",
              "      <td>-0.225343</td>\n",
              "      <td>-0.089113</td>\n",
              "      <td>-1.172764</td>\n",
              "      <td>-0.057567</td>\n",
              "      <td>-0.055099</td>\n",
              "      <td>-0.136439</td>\n",
              "      <td>-0.128893</td>\n",
              "      <td>...</td>\n",
              "      <td>1.0</td>\n",
              "      <td>0.0</td>\n",
              "      <td>0.0</td>\n",
              "      <td>0.0</td>\n",
              "      <td>0.0</td>\n",
              "      <td>0.0</td>\n",
              "      <td>0.0</td>\n",
              "      <td>0.0</td>\n",
              "      <td>0.0</td>\n",
              "      <td>0.0</td>\n",
              "    </tr>\n",
              "    <tr>\n",
              "      <th>1</th>\n",
              "      <td>-0.037542</td>\n",
              "      <td>-0.717760</td>\n",
              "      <td>-1.196045</td>\n",
              "      <td>-0.225343</td>\n",
              "      <td>-0.089113</td>\n",
              "      <td>0.868469</td>\n",
              "      <td>-0.069616</td>\n",
              "      <td>-0.055099</td>\n",
              "      <td>-0.136439</td>\n",
              "      <td>-0.128893</td>\n",
              "      <td>...</td>\n",
              "      <td>1.0</td>\n",
              "      <td>0.0</td>\n",
              "      <td>0.0</td>\n",
              "      <td>0.0</td>\n",
              "      <td>0.0</td>\n",
              "      <td>0.0</td>\n",
              "      <td>0.0</td>\n",
              "      <td>0.0</td>\n",
              "      <td>0.0</td>\n",
              "      <td>0.0</td>\n",
              "    </tr>\n",
              "    <tr>\n",
              "      <th>2</th>\n",
              "      <td>-0.426051</td>\n",
              "      <td>-0.041365</td>\n",
              "      <td>0.836096</td>\n",
              "      <td>-0.225343</td>\n",
              "      <td>-0.089113</td>\n",
              "      <td>-1.157401</td>\n",
              "      <td>-0.069485</td>\n",
              "      <td>-0.054857</td>\n",
              "      <td>-0.121383</td>\n",
              "      <td>-0.107394</td>\n",
              "      <td>...</td>\n",
              "      <td>0.0</td>\n",
              "      <td>0.0</td>\n",
              "      <td>0.0</td>\n",
              "      <td>0.0</td>\n",
              "      <td>0.0</td>\n",
              "      <td>0.0</td>\n",
              "      <td>0.0</td>\n",
              "      <td>0.0</td>\n",
              "      <td>0.0</td>\n",
              "      <td>0.0</td>\n",
              "    </tr>\n",
              "    <tr>\n",
              "      <th>3</th>\n",
              "      <td>-0.426051</td>\n",
              "      <td>-0.041365</td>\n",
              "      <td>0.836096</td>\n",
              "      <td>-0.225343</td>\n",
              "      <td>-0.089113</td>\n",
              "      <td>-1.136357</td>\n",
              "      <td>-0.063807</td>\n",
              "      <td>-0.044512</td>\n",
              "      <td>-0.120830</td>\n",
              "      <td>-0.107159</td>\n",
              "      <td>...</td>\n",
              "      <td>0.0</td>\n",
              "      <td>0.0</td>\n",
              "      <td>0.0</td>\n",
              "      <td>0.0</td>\n",
              "      <td>0.0</td>\n",
              "      <td>0.0</td>\n",
              "      <td>0.0</td>\n",
              "      <td>0.0</td>\n",
              "      <td>0.0</td>\n",
              "      <td>0.0</td>\n",
              "    </tr>\n",
              "    <tr>\n",
              "      <th>4</th>\n",
              "      <td>-0.426051</td>\n",
              "      <td>-0.041365</td>\n",
              "      <td>0.836096</td>\n",
              "      <td>-0.225343</td>\n",
              "      <td>-0.089113</td>\n",
              "      <td>-1.144197</td>\n",
              "      <td>-0.069180</td>\n",
              "      <td>-0.054358</td>\n",
              "      <td>-0.123351</td>\n",
              "      <td>-0.110421</td>\n",
              "      <td>...</td>\n",
              "      <td>0.0</td>\n",
              "      <td>0.0</td>\n",
              "      <td>0.0</td>\n",
              "      <td>0.0</td>\n",
              "      <td>0.0</td>\n",
              "      <td>0.0</td>\n",
              "      <td>0.0</td>\n",
              "      <td>0.0</td>\n",
              "      <td>0.0</td>\n",
              "      <td>0.0</td>\n",
              "    </tr>\n",
              "  </tbody>\n",
              "</table>\n",
              "<p>5 rows × 197 columns</p>\n",
              "</div>\n",
              "    <div class=\"colab-df-buttons\">\n",
              "\n",
              "  <div class=\"colab-df-container\">\n",
              "    <button class=\"colab-df-convert\" onclick=\"convertToInteractive('df-b4118c4c-302e-4955-b04e-6a4070a2f852')\"\n",
              "            title=\"Convert this dataframe to an interactive table.\"\n",
              "            style=\"display:none;\">\n",
              "\n",
              "  <svg xmlns=\"http://www.w3.org/2000/svg\" height=\"24px\" viewBox=\"0 -960 960 960\">\n",
              "    <path d=\"M120-120v-720h720v720H120Zm60-500h600v-160H180v160Zm220 220h160v-160H400v160Zm0 220h160v-160H400v160ZM180-400h160v-160H180v160Zm440 0h160v-160H620v160ZM180-180h160v-160H180v160Zm440 0h160v-160H620v160Z\"/>\n",
              "  </svg>\n",
              "    </button>\n",
              "\n",
              "  <style>\n",
              "    .colab-df-container {\n",
              "      display:flex;\n",
              "      gap: 12px;\n",
              "    }\n",
              "\n",
              "    .colab-df-convert {\n",
              "      background-color: #E8F0FE;\n",
              "      border: none;\n",
              "      border-radius: 50%;\n",
              "      cursor: pointer;\n",
              "      display: none;\n",
              "      fill: #1967D2;\n",
              "      height: 32px;\n",
              "      padding: 0 0 0 0;\n",
              "      width: 32px;\n",
              "    }\n",
              "\n",
              "    .colab-df-convert:hover {\n",
              "      background-color: #E2EBFA;\n",
              "      box-shadow: 0px 1px 2px rgba(60, 64, 67, 0.3), 0px 1px 3px 1px rgba(60, 64, 67, 0.15);\n",
              "      fill: #174EA6;\n",
              "    }\n",
              "\n",
              "    .colab-df-buttons div {\n",
              "      margin-bottom: 4px;\n",
              "    }\n",
              "\n",
              "    [theme=dark] .colab-df-convert {\n",
              "      background-color: #3B4455;\n",
              "      fill: #D2E3FC;\n",
              "    }\n",
              "\n",
              "    [theme=dark] .colab-df-convert:hover {\n",
              "      background-color: #434B5C;\n",
              "      box-shadow: 0px 1px 3px 1px rgba(0, 0, 0, 0.15);\n",
              "      filter: drop-shadow(0px 1px 2px rgba(0, 0, 0, 0.3));\n",
              "      fill: #FFFFFF;\n",
              "    }\n",
              "  </style>\n",
              "\n",
              "    <script>\n",
              "      const buttonEl =\n",
              "        document.querySelector('#df-b4118c4c-302e-4955-b04e-6a4070a2f852 button.colab-df-convert');\n",
              "      buttonEl.style.display =\n",
              "        google.colab.kernel.accessAllowed ? 'block' : 'none';\n",
              "\n",
              "      async function convertToInteractive(key) {\n",
              "        const element = document.querySelector('#df-b4118c4c-302e-4955-b04e-6a4070a2f852');\n",
              "        const dataTable =\n",
              "          await google.colab.kernel.invokeFunction('convertToInteractive',\n",
              "                                                    [key], {});\n",
              "        if (!dataTable) return;\n",
              "\n",
              "        const docLinkHtml = 'Like what you see? Visit the ' +\n",
              "          '<a target=\"_blank\" href=https://colab.research.google.com/notebooks/data_table.ipynb>data table notebook</a>'\n",
              "          + ' to learn more about interactive tables.';\n",
              "        element.innerHTML = '';\n",
              "        dataTable['output_type'] = 'display_data';\n",
              "        await google.colab.output.renderOutput(dataTable, element);\n",
              "        const docLink = document.createElement('div');\n",
              "        docLink.innerHTML = docLinkHtml;\n",
              "        element.appendChild(docLink);\n",
              "      }\n",
              "    </script>\n",
              "  </div>\n",
              "\n",
              "\n",
              "<div id=\"df-b69b8174-c0b3-4aac-ae47-f03a943003e5\">\n",
              "  <button class=\"colab-df-quickchart\" onclick=\"quickchart('df-b69b8174-c0b3-4aac-ae47-f03a943003e5')\"\n",
              "            title=\"Suggest charts\"\n",
              "            style=\"display:none;\">\n",
              "\n",
              "<svg xmlns=\"http://www.w3.org/2000/svg\" height=\"24px\"viewBox=\"0 0 24 24\"\n",
              "     width=\"24px\">\n",
              "    <g>\n",
              "        <path d=\"M19 3H5c-1.1 0-2 .9-2 2v14c0 1.1.9 2 2 2h14c1.1 0 2-.9 2-2V5c0-1.1-.9-2-2-2zM9 17H7v-7h2v7zm4 0h-2V7h2v10zm4 0h-2v-4h2v4z\"/>\n",
              "    </g>\n",
              "</svg>\n",
              "  </button>\n",
              "\n",
              "<style>\n",
              "  .colab-df-quickchart {\n",
              "      --bg-color: #E8F0FE;\n",
              "      --fill-color: #1967D2;\n",
              "      --hover-bg-color: #E2EBFA;\n",
              "      --hover-fill-color: #174EA6;\n",
              "      --disabled-fill-color: #AAA;\n",
              "      --disabled-bg-color: #DDD;\n",
              "  }\n",
              "\n",
              "  [theme=dark] .colab-df-quickchart {\n",
              "      --bg-color: #3B4455;\n",
              "      --fill-color: #D2E3FC;\n",
              "      --hover-bg-color: #434B5C;\n",
              "      --hover-fill-color: #FFFFFF;\n",
              "      --disabled-bg-color: #3B4455;\n",
              "      --disabled-fill-color: #666;\n",
              "  }\n",
              "\n",
              "  .colab-df-quickchart {\n",
              "    background-color: var(--bg-color);\n",
              "    border: none;\n",
              "    border-radius: 50%;\n",
              "    cursor: pointer;\n",
              "    display: none;\n",
              "    fill: var(--fill-color);\n",
              "    height: 32px;\n",
              "    padding: 0;\n",
              "    width: 32px;\n",
              "  }\n",
              "\n",
              "  .colab-df-quickchart:hover {\n",
              "    background-color: var(--hover-bg-color);\n",
              "    box-shadow: 0 1px 2px rgba(60, 64, 67, 0.3), 0 1px 3px 1px rgba(60, 64, 67, 0.15);\n",
              "    fill: var(--button-hover-fill-color);\n",
              "  }\n",
              "\n",
              "  .colab-df-quickchart-complete:disabled,\n",
              "  .colab-df-quickchart-complete:disabled:hover {\n",
              "    background-color: var(--disabled-bg-color);\n",
              "    fill: var(--disabled-fill-color);\n",
              "    box-shadow: none;\n",
              "  }\n",
              "\n",
              "  .colab-df-spinner {\n",
              "    border: 2px solid var(--fill-color);\n",
              "    border-color: transparent;\n",
              "    border-bottom-color: var(--fill-color);\n",
              "    animation:\n",
              "      spin 1s steps(1) infinite;\n",
              "  }\n",
              "\n",
              "  @keyframes spin {\n",
              "    0% {\n",
              "      border-color: transparent;\n",
              "      border-bottom-color: var(--fill-color);\n",
              "      border-left-color: var(--fill-color);\n",
              "    }\n",
              "    20% {\n",
              "      border-color: transparent;\n",
              "      border-left-color: var(--fill-color);\n",
              "      border-top-color: var(--fill-color);\n",
              "    }\n",
              "    30% {\n",
              "      border-color: transparent;\n",
              "      border-left-color: var(--fill-color);\n",
              "      border-top-color: var(--fill-color);\n",
              "      border-right-color: var(--fill-color);\n",
              "    }\n",
              "    40% {\n",
              "      border-color: transparent;\n",
              "      border-right-color: var(--fill-color);\n",
              "      border-top-color: var(--fill-color);\n",
              "    }\n",
              "    60% {\n",
              "      border-color: transparent;\n",
              "      border-right-color: var(--fill-color);\n",
              "    }\n",
              "    80% {\n",
              "      border-color: transparent;\n",
              "      border-right-color: var(--fill-color);\n",
              "      border-bottom-color: var(--fill-color);\n",
              "    }\n",
              "    90% {\n",
              "      border-color: transparent;\n",
              "      border-bottom-color: var(--fill-color);\n",
              "    }\n",
              "  }\n",
              "</style>\n",
              "\n",
              "  <script>\n",
              "    async function quickchart(key) {\n",
              "      const quickchartButtonEl =\n",
              "        document.querySelector('#' + key + ' button');\n",
              "      quickchartButtonEl.disabled = true;  // To prevent multiple clicks.\n",
              "      quickchartButtonEl.classList.add('colab-df-spinner');\n",
              "      try {\n",
              "        const charts = await google.colab.kernel.invokeFunction(\n",
              "            'suggestCharts', [key], {});\n",
              "      } catch (error) {\n",
              "        console.error('Error during call to suggestCharts:', error);\n",
              "      }\n",
              "      quickchartButtonEl.classList.remove('colab-df-spinner');\n",
              "      quickchartButtonEl.classList.add('colab-df-quickchart-complete');\n",
              "    }\n",
              "    (() => {\n",
              "      let quickchartButtonEl =\n",
              "        document.querySelector('#df-b69b8174-c0b3-4aac-ae47-f03a943003e5 button');\n",
              "      quickchartButtonEl.style.display =\n",
              "        google.colab.kernel.accessAllowed ? 'block' : 'none';\n",
              "    })();\n",
              "  </script>\n",
              "</div>\n",
              "\n",
              "    </div>\n",
              "  </div>\n"
            ],
            "application/vnd.google.colaboratory.intrinsic+json": {
              "type": "dataframe",
              "variable_name": "x_train"
            }
          },
          "metadata": {},
          "execution_count": 105
        }
      ]
    },
    {
      "cell_type": "code",
      "source": [
        "file_path = '/content/final_ipynb'"
      ],
      "metadata": {
        "id": "KSQUaBOQeVPK"
      },
      "execution_count": 106,
      "outputs": []
    },
    {
      "cell_type": "code",
      "source": [
        "pickle.dump(scaler, open(file_path+'scaler.pkl', 'wb'))\n",
        "pickle.dump(saved_dict, open(file_path+'saved_dict.pkl', 'wb'))\n",
        "pickle.dump(mode_dict, open(file_path+'mode_dict.pkl', 'wb'))"
      ],
      "metadata": {
        "id": "JGBEX16EZ7Gs"
      },
      "execution_count": 108,
      "outputs": []
    },
    {
      "cell_type": "code",
      "source": [
        "pickle.dump(proto_, open(file_path+'ohe_proto.pkl', 'wb'))\n",
        "pickle.dump(service_, open(file_path+'ohe_service.pkl', 'wb'))\n",
        "pickle.dump(state_, open(file_path+'ohe_state.pkl', 'wb'))\n"
      ],
      "metadata": {
        "id": "c6NA2coVaJBr"
      },
      "execution_count": 111,
      "outputs": []
    },
    {
      "cell_type": "code",
      "source": [
        "pickle.dump((x_train, y_train), open(file_path+'final_train.pkl', 'wb'))"
      ],
      "metadata": {
        "id": "zZTXmhsRaPog"
      },
      "execution_count": 112,
      "outputs": []
    },
    {
      "cell_type": "code",
      "source": [
        "def clean_data(data):\n",
        "\n",
        "    numerical_col = data.select_dtypes(include=np.number).columns\n",
        "    categorical_col = data.select_dtypes(exclude=np.number).columns\n",
        "\n",
        "\n",
        "    for col in data.columns:\n",
        "        val = mode_dict[col]\n",
        "        data[col] = data[col].fillna(value=val)\n",
        "        data[col] = data[col].replace(' ', value=val)\n",
        "        data[col] = data[col].apply(lambda x:\"None\" if x==\"-\" else x)\n",
        "\n",
        "\n",
        "        if col in saved_dict['binary_col']:\n",
        "            data[col] = np.where(data[col]>1, val, data[col])\n",
        "\n",
        "\n",
        "    bad_dtypes = list(set(categorical_col) - set(saved_dict['cat_col']))\n",
        "    for bad_col in bad_dtypes:\n",
        "        data[col] = data[col].astype(float)\n",
        "\n",
        "    return data"
      ],
      "metadata": {
        "id": "SrGlFO_satLW"
      },
      "execution_count": 113,
      "outputs": []
    },
    {
      "cell_type": "code",
      "source": [
        "def apply_log1p(data):\n",
        "\n",
        "    for col in saved_dict['log1p_col']:\n",
        "        new_col = col + '_log1p'  # New col name\n",
        "        data[new_col] = data[col].apply(np.log1p)  # Creating new column on transformed data\n",
        "        data.drop(col, axis=1, inplace=True)  # Removing old columns\n",
        "    return data"
      ],
      "metadata": {
        "id": "lUV52bv3bbTL"
      },
      "execution_count": 114,
      "outputs": []
    },
    {
      "cell_type": "code",
      "source": [
        "def standardize(data):\n",
        "\n",
        "    data[saved_dict['num_col']] = scaler.transform(data[saved_dict['num_col']])\n",
        "    return data"
      ],
      "metadata": {
        "id": "xsXiAcvVblVK"
      },
      "execution_count": 115,
      "outputs": []
    },
    {
      "cell_type": "code",
      "source": [
        "def ohencoding(data):\n",
        "    X = ohe_service.transform(data['service'].values.reshape(-1, 1))\n",
        "    Xm = ohe_proto.transform(data['proto'].values.reshape(-1, 1))\n",
        "    Xmm = ohe_state.transform(data['state'].values.reshape(-1, 1))\n",
        "\n",
        "\n",
        "    data = pd.concat([data,\n",
        "                      pd.DataFrame(Xm.toarray(), columns=['proto_'+i for i in ohe_proto.categories_[0]]),\n",
        "                      pd.DataFrame(X.toarray(), columns=['service_'+i for i in ohe_service.categories_[0]]),\n",
        "                      pd.DataFrame(Xmm.toarray(), columns=['state_'+i for i in ohe_state.categories_[0]])],\n",
        "                      axis=1)\n",
        "\n",
        "\n",
        "    data.drop(['proto', 'service', 'state'], axis=1, inplace=True)\n",
        "\n",
        "    return data"
      ],
      "metadata": {
        "id": "M4X2CN2cbph8"
      },
      "execution_count": 168,
      "outputs": []
    },
    {
      "cell_type": "code",
      "source": [
        "saved_dict = pickle.load(open(file_path+'saved_dict.pkl', 'rb'))\n",
        "# Mode value of all the columns\n",
        "mode_dict = pickle.load(open(file_path+'mode_dict.pkl', 'rb'))\n",
        "# Stanardscaler object\n",
        "scaler = pickle.load(open(file_path+'scaler.pkl', 'rb'))"
      ],
      "metadata": {
        "id": "y581my37bxTv"
      },
      "execution_count": 169,
      "outputs": []
    },
    {
      "cell_type": "code",
      "source": [
        "print(f'Shape of the dataframe: {x_test.shape}')\n",
        "print(f'Length of new columns: {len(saved_dict[\"columns\"])}')\n",
        "\n",
        "if x_test.shape[1] != len(saved_dict['columns']):\n",
        "  # Find missing columns in x_test compared to saved_dict['columns']\n",
        "  missing_cols = set(saved_dict['columns']) - set(x_test.columns)\n",
        "  print(f'Missing columns in x_test: {missing_cols}')\n",
        "\n",
        "  # Add missing columns to x_test with default value 0\n",
        "  for col in missing_cols:\n",
        "    x_test[col] = 0\n",
        "\n",
        "  # Ensure the order of columns in x_test matches saved_dict['columns']\n",
        "  x_test = x_test[saved_dict['columns']]\n",
        "\n",
        "x_test.columns = saved_dict['columns']"
      ],
      "metadata": {
        "colab": {
          "base_uri": "https://localhost:8080/"
        },
        "id": "mL2YFKh2d9DH",
        "outputId": "4cdfd305-666b-4486-a986-57646aae1a59"
      },
      "execution_count": 170,
      "outputs": [
        {
          "output_type": "stream",
          "name": "stdout",
          "text": [
            "Shape of the dataframe: (762015, 23)\n",
            "Length of new columns: 48\n",
            "Missing columns in x_test: {'dloss', 'dpkts', 'sload', 'sjit', 'sbytes', 'dstip', 'ct_src_dport_ltm', 'dmeansz', 'sloss', 'ltime', 'dtcpb', 'attack_cat', 'sport', 'dur', 'srcip', 'dsport', 'djit', 'dwin', 'stcpb', 'spkts', 'smeansz', 'ct_srv_dst', 'ct_dst_src_ltm', 'dload', 'dbytes'}\n"
          ]
        }
      ]
    },
    {
      "cell_type": "code",
      "source": [
        "ohe_proto = pickle.load(open(file_path+'ohe_proto.pkl', 'rb'))\n",
        "ohe_service = pickle.load(open(file_path+'ohe_service.pkl', 'rb'))\n",
        "ohe_state = pickle.load(open(file_path+'ohe_state.pkl', 'rb'))\n",
        "x_test.shape\n",
        "\n",
        "x_test.reset_index(drop=True, inplace=True)\n",
        "x_test.shape\n",
        "\n",
        "x_test.columns\n",
        "\n",
        "x_test.columns = saved_dict['columns']"
      ],
      "metadata": {
        "id": "Hv-Af2kpb1JC"
      },
      "execution_count": 171,
      "outputs": []
    },
    {
      "cell_type": "code",
      "source": [
        "if 'dbytes' in x_test.columns and 'sbytes' in x_test.columns:\n",
        "  x_test['network_bytes'] = x_test['dbytes'] + x_test['sbytes']\n",
        "else:\n",
        "\n",
        "  print(\"Error: 'dbytes' or 'sbytes' column not found in DataFrame.\")"
      ],
      "metadata": {
        "id": "3zSURJlne8VI"
      },
      "execution_count": 172,
      "outputs": []
    },
    {
      "cell_type": "code",
      "source": [
        "dropable_col = saved_dict['to_drop'] + saved_dict['corr_col']\n",
        "\n",
        "# Check if columns exist before dropping\n",
        "existing_cols = set(x_test.columns)\n",
        "cols_to_drop = set(dropable_col)\n",
        "\n",
        "# Find columns that exist in both lists\n",
        "common_cols = existing_cols.intersection(cols_to_drop)\n",
        "\n",
        "# Drop only the common columns\n",
        "x_test.drop(columns=list(common_cols), inplace=True)"
      ],
      "metadata": {
        "id": "H6GaMhxBb-yk"
      },
      "execution_count": 173,
      "outputs": []
    },
    {
      "cell_type": "code",
      "source": [
        "x_test.shape"
      ],
      "metadata": {
        "colab": {
          "base_uri": "https://localhost:8080/"
        },
        "id": "Ni3s1JPRcVNm",
        "outputId": "09c450d6-0843-4cd5-8778-f32af6434f36"
      },
      "execution_count": 174,
      "outputs": [
        {
          "output_type": "execute_result",
          "data": {
            "text/plain": [
              "(762015, 36)"
            ]
          },
          "metadata": {},
          "execution_count": 174
        }
      ]
    },
    {
      "cell_type": "code",
      "source": [
        "x_test = clean_data(x_test)"
      ],
      "metadata": {
        "id": "ttLdZ8u_cW1Z"
      },
      "execution_count": 175,
      "outputs": []
    },
    {
      "cell_type": "code",
      "source": [
        "x_test.shape"
      ],
      "metadata": {
        "colab": {
          "base_uri": "https://localhost:8080/"
        },
        "id": "dyMbpTmAcqF2",
        "outputId": "aafedba8-6ccb-4ed2-dfb2-eb862904e4e1"
      },
      "execution_count": 176,
      "outputs": [
        {
          "output_type": "execute_result",
          "data": {
            "text/plain": [
              "(762015, 36)"
            ]
          },
          "metadata": {},
          "execution_count": 176
        }
      ]
    },
    {
      "cell_type": "code",
      "source": [
        "def apply_log1p(data):\n",
        "    for col in saved_dict['log1p_col']:\n",
        "        if col in data.columns: #Check if the column exists before proceeding\n",
        "            new_col = col + '_log1p'\n",
        "            data[new_col] = data[col].apply(np.log1p)\n",
        "            data.drop(col, axis=1, inplace=True)\n",
        "    return data"
      ],
      "metadata": {
        "id": "qcHOqzUGfmfs"
      },
      "execution_count": 177,
      "outputs": []
    },
    {
      "cell_type": "code",
      "source": [
        "x_test = apply_log1p(x_test)"
      ],
      "metadata": {
        "id": "OmbpxkWYcsVv"
      },
      "execution_count": 178,
      "outputs": []
    },
    {
      "cell_type": "code",
      "source": [
        "x_test.shape"
      ],
      "metadata": {
        "colab": {
          "base_uri": "https://localhost:8080/"
        },
        "id": "qSGaorLDcxlN",
        "outputId": "e2753590-283b-4470-dab6-fa8ec8cb5e57"
      },
      "execution_count": 179,
      "outputs": [
        {
          "output_type": "execute_result",
          "data": {
            "text/plain": [
              "(762015, 36)"
            ]
          },
          "metadata": {},
          "execution_count": 179
        }
      ]
    },
    {
      "cell_type": "code",
      "source": [
        "x_test.columns"
      ],
      "metadata": {
        "colab": {
          "base_uri": "https://localhost:8080/"
        },
        "id": "M5vmhnJKczM9",
        "outputId": "60863c8a-3365-477a-8f9c-840c74a49a84"
      },
      "execution_count": 180,
      "outputs": [
        {
          "output_type": "execute_result",
          "data": {
            "text/plain": [
              "Index(['proto', 'state', 'sttl', 'dttl', 'service', 'swin', 'trans_depth',\n",
              "       'res_bdy_len', 'stime', 'sintpkt', 'dintpkt', 'tcprtt', 'synack',\n",
              "       'ackdat', 'is_sm_ips_ports', 'ct_state_ttl', 'ct_flw_http_mthd',\n",
              "       'is_ftp_login', 'ct_ftp_cmd', 'ct_srv_src', 'ct_dst_ltm', 'ct_src_ltm',\n",
              "       'ct_dst_sport_ltm', 'dur_log1p', 'sbytes_log1p', 'dbytes_log1p',\n",
              "       'sload_log1p', 'dload_log1p', 'spkts_log1p', 'stcpb_log1p',\n",
              "       'dtcpb_log1p', 'smeansz_log1p', 'dmeansz_log1p', 'sjit_log1p',\n",
              "       'djit_log1p', 'network_bytes_log1p'],\n",
              "      dtype='object')"
            ]
          },
          "metadata": {},
          "execution_count": 180
        }
      ]
    },
    {
      "cell_type": "code",
      "source": [
        "def apply_log1p(data):\n",
        "    for col in saved_dict['log1p_col']:\n",
        "        if col in data.columns:\n",
        "            new_col = col + '_log1p'\n",
        "            data[new_col] = data[col].apply(np.log1p)\n",
        "            data.drop(col, axis=1, inplace=True)\n",
        "            saved_dict['num_col'].remove(col)\n",
        "            saved_dict['num_col'].append(new_col)\n",
        "    return data"
      ],
      "metadata": {
        "id": "_NBn86RMfw96"
      },
      "execution_count": 181,
      "outputs": []
    },
    {
      "cell_type": "code",
      "source": [
        "'''x_test.replace(' ', np.nan, inplace=True)\n",
        "\n",
        "\n",
        "x_test = standardize(x_test)'''"
      ],
      "metadata": {
        "colab": {
          "base_uri": "https://localhost:8080/",
          "height": 36
        },
        "id": "xgir3r2hc2F7",
        "outputId": "29185c26-1b27-4fe9-bf5d-4db3d171a03c"
      },
      "execution_count": 182,
      "outputs": [
        {
          "output_type": "execute_result",
          "data": {
            "text/plain": [
              "\"x_test.replace(' ', np.nan, inplace=True)\\n\\n\\nx_test = standardize(x_test)\""
            ],
            "application/vnd.google.colaboratory.intrinsic+json": {
              "type": "string"
            }
          },
          "metadata": {},
          "execution_count": 182
        }
      ]
    },
    {
      "cell_type": "code",
      "source": [
        "\n",
        "x_test.head()"
      ],
      "metadata": {
        "colab": {
          "base_uri": "https://localhost:8080/",
          "height": 255
        },
        "id": "w7sHZmdRc3xE",
        "outputId": "00e913cb-f539-441d-c60b-a0c890ea6c38"
      },
      "execution_count": 183,
      "outputs": [
        {
          "output_type": "execute_result",
          "data": {
            "text/plain": [
              "  proto state      sttl      dttl service      swin  trans_depth  res_bdy_len  \\\n",
              "0   udp   CON -0.847060 -0.718724     dns -1.205576     -0.83437    -0.089115   \n",
              "1   udp   CON -0.847060 -0.718724     dns -1.205576     -0.83437    -0.089115   \n",
              "2   udp   INT -0.841856 -0.734501     dns -1.205576     -0.83437    -0.089115   \n",
              "3   tcp   FIN -0.847060 -0.718724     dns -1.189382     -0.83437    -0.089115   \n",
              "4   udp   CON -0.847060 -0.718724     dns -1.205576     -0.83437    -0.089115   \n",
              "\n",
              "         stime   sintpkt  ...  sload_log1p  dload_log1p  spkts_log1p  \\\n",
              "0 -1254.632023 -0.069644  ...          0.0          0.0          0.0   \n",
              "1 -1254.632023 -0.069644  ...          0.0          0.0          0.0   \n",
              "2 -1254.632021 -0.069644  ...          0.0          0.0          0.0   \n",
              "3 -1254.632023 -0.069644  ...          0.0          0.0          0.0   \n",
              "4 -1254.632021 -0.069644  ...          0.0          0.0          0.0   \n",
              "\n",
              "   stcpb_log1p  dtcpb_log1p  smeansz_log1p  dmeansz_log1p  sjit_log1p  \\\n",
              "0          0.0          0.0            0.0            0.0         0.0   \n",
              "1          0.0          0.0            0.0            0.0         0.0   \n",
              "2          0.0          0.0            0.0            0.0         0.0   \n",
              "3          0.0          0.0            0.0            0.0         0.0   \n",
              "4          0.0          0.0            0.0            0.0         0.0   \n",
              "\n",
              "  djit_log1p  network_bytes_log1p  \n",
              "0        0.0                  0.0  \n",
              "1        0.0                  0.0  \n",
              "2        0.0                  0.0  \n",
              "3        0.0                  0.0  \n",
              "4        0.0                  0.0  \n",
              "\n",
              "[5 rows x 36 columns]"
            ],
            "text/html": [
              "\n",
              "  <div id=\"df-b92e6db0-955b-4afc-93a7-0a27f2627b18\" class=\"colab-df-container\">\n",
              "    <div>\n",
              "<style scoped>\n",
              "    .dataframe tbody tr th:only-of-type {\n",
              "        vertical-align: middle;\n",
              "    }\n",
              "\n",
              "    .dataframe tbody tr th {\n",
              "        vertical-align: top;\n",
              "    }\n",
              "\n",
              "    .dataframe thead th {\n",
              "        text-align: right;\n",
              "    }\n",
              "</style>\n",
              "<table border=\"1\" class=\"dataframe\">\n",
              "  <thead>\n",
              "    <tr style=\"text-align: right;\">\n",
              "      <th></th>\n",
              "      <th>proto</th>\n",
              "      <th>state</th>\n",
              "      <th>sttl</th>\n",
              "      <th>dttl</th>\n",
              "      <th>service</th>\n",
              "      <th>swin</th>\n",
              "      <th>trans_depth</th>\n",
              "      <th>res_bdy_len</th>\n",
              "      <th>stime</th>\n",
              "      <th>sintpkt</th>\n",
              "      <th>...</th>\n",
              "      <th>sload_log1p</th>\n",
              "      <th>dload_log1p</th>\n",
              "      <th>spkts_log1p</th>\n",
              "      <th>stcpb_log1p</th>\n",
              "      <th>dtcpb_log1p</th>\n",
              "      <th>smeansz_log1p</th>\n",
              "      <th>dmeansz_log1p</th>\n",
              "      <th>sjit_log1p</th>\n",
              "      <th>djit_log1p</th>\n",
              "      <th>network_bytes_log1p</th>\n",
              "    </tr>\n",
              "  </thead>\n",
              "  <tbody>\n",
              "    <tr>\n",
              "      <th>0</th>\n",
              "      <td>udp</td>\n",
              "      <td>CON</td>\n",
              "      <td>-0.847060</td>\n",
              "      <td>-0.718724</td>\n",
              "      <td>dns</td>\n",
              "      <td>-1.205576</td>\n",
              "      <td>-0.83437</td>\n",
              "      <td>-0.089115</td>\n",
              "      <td>-1254.632023</td>\n",
              "      <td>-0.069644</td>\n",
              "      <td>...</td>\n",
              "      <td>0.0</td>\n",
              "      <td>0.0</td>\n",
              "      <td>0.0</td>\n",
              "      <td>0.0</td>\n",
              "      <td>0.0</td>\n",
              "      <td>0.0</td>\n",
              "      <td>0.0</td>\n",
              "      <td>0.0</td>\n",
              "      <td>0.0</td>\n",
              "      <td>0.0</td>\n",
              "    </tr>\n",
              "    <tr>\n",
              "      <th>1</th>\n",
              "      <td>udp</td>\n",
              "      <td>CON</td>\n",
              "      <td>-0.847060</td>\n",
              "      <td>-0.718724</td>\n",
              "      <td>dns</td>\n",
              "      <td>-1.205576</td>\n",
              "      <td>-0.83437</td>\n",
              "      <td>-0.089115</td>\n",
              "      <td>-1254.632023</td>\n",
              "      <td>-0.069644</td>\n",
              "      <td>...</td>\n",
              "      <td>0.0</td>\n",
              "      <td>0.0</td>\n",
              "      <td>0.0</td>\n",
              "      <td>0.0</td>\n",
              "      <td>0.0</td>\n",
              "      <td>0.0</td>\n",
              "      <td>0.0</td>\n",
              "      <td>0.0</td>\n",
              "      <td>0.0</td>\n",
              "      <td>0.0</td>\n",
              "    </tr>\n",
              "    <tr>\n",
              "      <th>2</th>\n",
              "      <td>udp</td>\n",
              "      <td>INT</td>\n",
              "      <td>-0.841856</td>\n",
              "      <td>-0.734501</td>\n",
              "      <td>dns</td>\n",
              "      <td>-1.205576</td>\n",
              "      <td>-0.83437</td>\n",
              "      <td>-0.089115</td>\n",
              "      <td>-1254.632021</td>\n",
              "      <td>-0.069644</td>\n",
              "      <td>...</td>\n",
              "      <td>0.0</td>\n",
              "      <td>0.0</td>\n",
              "      <td>0.0</td>\n",
              "      <td>0.0</td>\n",
              "      <td>0.0</td>\n",
              "      <td>0.0</td>\n",
              "      <td>0.0</td>\n",
              "      <td>0.0</td>\n",
              "      <td>0.0</td>\n",
              "      <td>0.0</td>\n",
              "    </tr>\n",
              "    <tr>\n",
              "      <th>3</th>\n",
              "      <td>tcp</td>\n",
              "      <td>FIN</td>\n",
              "      <td>-0.847060</td>\n",
              "      <td>-0.718724</td>\n",
              "      <td>dns</td>\n",
              "      <td>-1.189382</td>\n",
              "      <td>-0.83437</td>\n",
              "      <td>-0.089115</td>\n",
              "      <td>-1254.632023</td>\n",
              "      <td>-0.069644</td>\n",
              "      <td>...</td>\n",
              "      <td>0.0</td>\n",
              "      <td>0.0</td>\n",
              "      <td>0.0</td>\n",
              "      <td>0.0</td>\n",
              "      <td>0.0</td>\n",
              "      <td>0.0</td>\n",
              "      <td>0.0</td>\n",
              "      <td>0.0</td>\n",
              "      <td>0.0</td>\n",
              "      <td>0.0</td>\n",
              "    </tr>\n",
              "    <tr>\n",
              "      <th>4</th>\n",
              "      <td>udp</td>\n",
              "      <td>CON</td>\n",
              "      <td>-0.847060</td>\n",
              "      <td>-0.718724</td>\n",
              "      <td>dns</td>\n",
              "      <td>-1.205576</td>\n",
              "      <td>-0.83437</td>\n",
              "      <td>-0.089115</td>\n",
              "      <td>-1254.632021</td>\n",
              "      <td>-0.069644</td>\n",
              "      <td>...</td>\n",
              "      <td>0.0</td>\n",
              "      <td>0.0</td>\n",
              "      <td>0.0</td>\n",
              "      <td>0.0</td>\n",
              "      <td>0.0</td>\n",
              "      <td>0.0</td>\n",
              "      <td>0.0</td>\n",
              "      <td>0.0</td>\n",
              "      <td>0.0</td>\n",
              "      <td>0.0</td>\n",
              "    </tr>\n",
              "  </tbody>\n",
              "</table>\n",
              "<p>5 rows × 36 columns</p>\n",
              "</div>\n",
              "    <div class=\"colab-df-buttons\">\n",
              "\n",
              "  <div class=\"colab-df-container\">\n",
              "    <button class=\"colab-df-convert\" onclick=\"convertToInteractive('df-b92e6db0-955b-4afc-93a7-0a27f2627b18')\"\n",
              "            title=\"Convert this dataframe to an interactive table.\"\n",
              "            style=\"display:none;\">\n",
              "\n",
              "  <svg xmlns=\"http://www.w3.org/2000/svg\" height=\"24px\" viewBox=\"0 -960 960 960\">\n",
              "    <path d=\"M120-120v-720h720v720H120Zm60-500h600v-160H180v160Zm220 220h160v-160H400v160Zm0 220h160v-160H400v160ZM180-400h160v-160H180v160Zm440 0h160v-160H620v160ZM180-180h160v-160H180v160Zm440 0h160v-160H620v160Z\"/>\n",
              "  </svg>\n",
              "    </button>\n",
              "\n",
              "  <style>\n",
              "    .colab-df-container {\n",
              "      display:flex;\n",
              "      gap: 12px;\n",
              "    }\n",
              "\n",
              "    .colab-df-convert {\n",
              "      background-color: #E8F0FE;\n",
              "      border: none;\n",
              "      border-radius: 50%;\n",
              "      cursor: pointer;\n",
              "      display: none;\n",
              "      fill: #1967D2;\n",
              "      height: 32px;\n",
              "      padding: 0 0 0 0;\n",
              "      width: 32px;\n",
              "    }\n",
              "\n",
              "    .colab-df-convert:hover {\n",
              "      background-color: #E2EBFA;\n",
              "      box-shadow: 0px 1px 2px rgba(60, 64, 67, 0.3), 0px 1px 3px 1px rgba(60, 64, 67, 0.15);\n",
              "      fill: #174EA6;\n",
              "    }\n",
              "\n",
              "    .colab-df-buttons div {\n",
              "      margin-bottom: 4px;\n",
              "    }\n",
              "\n",
              "    [theme=dark] .colab-df-convert {\n",
              "      background-color: #3B4455;\n",
              "      fill: #D2E3FC;\n",
              "    }\n",
              "\n",
              "    [theme=dark] .colab-df-convert:hover {\n",
              "      background-color: #434B5C;\n",
              "      box-shadow: 0px 1px 3px 1px rgba(0, 0, 0, 0.15);\n",
              "      filter: drop-shadow(0px 1px 2px rgba(0, 0, 0, 0.3));\n",
              "      fill: #FFFFFF;\n",
              "    }\n",
              "  </style>\n",
              "\n",
              "    <script>\n",
              "      const buttonEl =\n",
              "        document.querySelector('#df-b92e6db0-955b-4afc-93a7-0a27f2627b18 button.colab-df-convert');\n",
              "      buttonEl.style.display =\n",
              "        google.colab.kernel.accessAllowed ? 'block' : 'none';\n",
              "\n",
              "      async function convertToInteractive(key) {\n",
              "        const element = document.querySelector('#df-b92e6db0-955b-4afc-93a7-0a27f2627b18');\n",
              "        const dataTable =\n",
              "          await google.colab.kernel.invokeFunction('convertToInteractive',\n",
              "                                                    [key], {});\n",
              "        if (!dataTable) return;\n",
              "\n",
              "        const docLinkHtml = 'Like what you see? Visit the ' +\n",
              "          '<a target=\"_blank\" href=https://colab.research.google.com/notebooks/data_table.ipynb>data table notebook</a>'\n",
              "          + ' to learn more about interactive tables.';\n",
              "        element.innerHTML = '';\n",
              "        dataTable['output_type'] = 'display_data';\n",
              "        await google.colab.output.renderOutput(dataTable, element);\n",
              "        const docLink = document.createElement('div');\n",
              "        docLink.innerHTML = docLinkHtml;\n",
              "        element.appendChild(docLink);\n",
              "      }\n",
              "    </script>\n",
              "  </div>\n",
              "\n",
              "\n",
              "<div id=\"df-50261f36-b6ab-40cc-9acd-9eb7bc0a65d9\">\n",
              "  <button class=\"colab-df-quickchart\" onclick=\"quickchart('df-50261f36-b6ab-40cc-9acd-9eb7bc0a65d9')\"\n",
              "            title=\"Suggest charts\"\n",
              "            style=\"display:none;\">\n",
              "\n",
              "<svg xmlns=\"http://www.w3.org/2000/svg\" height=\"24px\"viewBox=\"0 0 24 24\"\n",
              "     width=\"24px\">\n",
              "    <g>\n",
              "        <path d=\"M19 3H5c-1.1 0-2 .9-2 2v14c0 1.1.9 2 2 2h14c1.1 0 2-.9 2-2V5c0-1.1-.9-2-2-2zM9 17H7v-7h2v7zm4 0h-2V7h2v10zm4 0h-2v-4h2v4z\"/>\n",
              "    </g>\n",
              "</svg>\n",
              "  </button>\n",
              "\n",
              "<style>\n",
              "  .colab-df-quickchart {\n",
              "      --bg-color: #E8F0FE;\n",
              "      --fill-color: #1967D2;\n",
              "      --hover-bg-color: #E2EBFA;\n",
              "      --hover-fill-color: #174EA6;\n",
              "      --disabled-fill-color: #AAA;\n",
              "      --disabled-bg-color: #DDD;\n",
              "  }\n",
              "\n",
              "  [theme=dark] .colab-df-quickchart {\n",
              "      --bg-color: #3B4455;\n",
              "      --fill-color: #D2E3FC;\n",
              "      --hover-bg-color: #434B5C;\n",
              "      --hover-fill-color: #FFFFFF;\n",
              "      --disabled-bg-color: #3B4455;\n",
              "      --disabled-fill-color: #666;\n",
              "  }\n",
              "\n",
              "  .colab-df-quickchart {\n",
              "    background-color: var(--bg-color);\n",
              "    border: none;\n",
              "    border-radius: 50%;\n",
              "    cursor: pointer;\n",
              "    display: none;\n",
              "    fill: var(--fill-color);\n",
              "    height: 32px;\n",
              "    padding: 0;\n",
              "    width: 32px;\n",
              "  }\n",
              "\n",
              "  .colab-df-quickchart:hover {\n",
              "    background-color: var(--hover-bg-color);\n",
              "    box-shadow: 0 1px 2px rgba(60, 64, 67, 0.3), 0 1px 3px 1px rgba(60, 64, 67, 0.15);\n",
              "    fill: var(--button-hover-fill-color);\n",
              "  }\n",
              "\n",
              "  .colab-df-quickchart-complete:disabled,\n",
              "  .colab-df-quickchart-complete:disabled:hover {\n",
              "    background-color: var(--disabled-bg-color);\n",
              "    fill: var(--disabled-fill-color);\n",
              "    box-shadow: none;\n",
              "  }\n",
              "\n",
              "  .colab-df-spinner {\n",
              "    border: 2px solid var(--fill-color);\n",
              "    border-color: transparent;\n",
              "    border-bottom-color: var(--fill-color);\n",
              "    animation:\n",
              "      spin 1s steps(1) infinite;\n",
              "  }\n",
              "\n",
              "  @keyframes spin {\n",
              "    0% {\n",
              "      border-color: transparent;\n",
              "      border-bottom-color: var(--fill-color);\n",
              "      border-left-color: var(--fill-color);\n",
              "    }\n",
              "    20% {\n",
              "      border-color: transparent;\n",
              "      border-left-color: var(--fill-color);\n",
              "      border-top-color: var(--fill-color);\n",
              "    }\n",
              "    30% {\n",
              "      border-color: transparent;\n",
              "      border-left-color: var(--fill-color);\n",
              "      border-top-color: var(--fill-color);\n",
              "      border-right-color: var(--fill-color);\n",
              "    }\n",
              "    40% {\n",
              "      border-color: transparent;\n",
              "      border-right-color: var(--fill-color);\n",
              "      border-top-color: var(--fill-color);\n",
              "    }\n",
              "    60% {\n",
              "      border-color: transparent;\n",
              "      border-right-color: var(--fill-color);\n",
              "    }\n",
              "    80% {\n",
              "      border-color: transparent;\n",
              "      border-right-color: var(--fill-color);\n",
              "      border-bottom-color: var(--fill-color);\n",
              "    }\n",
              "    90% {\n",
              "      border-color: transparent;\n",
              "      border-bottom-color: var(--fill-color);\n",
              "    }\n",
              "  }\n",
              "</style>\n",
              "\n",
              "  <script>\n",
              "    async function quickchart(key) {\n",
              "      const quickchartButtonEl =\n",
              "        document.querySelector('#' + key + ' button');\n",
              "      quickchartButtonEl.disabled = true;  // To prevent multiple clicks.\n",
              "      quickchartButtonEl.classList.add('colab-df-spinner');\n",
              "      try {\n",
              "        const charts = await google.colab.kernel.invokeFunction(\n",
              "            'suggestCharts', [key], {});\n",
              "      } catch (error) {\n",
              "        console.error('Error during call to suggestCharts:', error);\n",
              "      }\n",
              "      quickchartButtonEl.classList.remove('colab-df-spinner');\n",
              "      quickchartButtonEl.classList.add('colab-df-quickchart-complete');\n",
              "    }\n",
              "    (() => {\n",
              "      let quickchartButtonEl =\n",
              "        document.querySelector('#df-50261f36-b6ab-40cc-9acd-9eb7bc0a65d9 button');\n",
              "      quickchartButtonEl.style.display =\n",
              "        google.colab.kernel.accessAllowed ? 'block' : 'none';\n",
              "    })();\n",
              "  </script>\n",
              "</div>\n",
              "\n",
              "    </div>\n",
              "  </div>\n"
            ],
            "application/vnd.google.colaboratory.intrinsic+json": {
              "type": "dataframe",
              "variable_name": "x_test"
            }
          },
          "metadata": {},
          "execution_count": 183
        }
      ]
    },
    {
      "cell_type": "code",
      "source": [
        "def ohencoding(data):\n",
        "    saved_dict = load_obj('saved_dict')\n",
        "\n",
        "    ohe_proto = ColumnTransformer([('ohe_proto',OneHotEncoder(handle_unknown='ignore',sparse_output=False),['proto'])],\n",
        "                                remainder='passthrough')\n",
        "    ohe_service = ColumnTransformer([('ohe_service',OneHotEncoder(handle_unknown='ignore',sparse_output=False),['service'])],\n",
        "                                remainder='passthrough')\n",
        "    ohe_state = ColumnTransformer([('ohe_state',OneHotEncoder(handle_unknown='ignore',sparse_output=False),['state'])],\n",
        "                                remainder='passthrough')\n",
        "\n",
        "\n",
        "    Xm = ohe_proto.fit_transform(data)\n",
        "    X = ohe_service.fit_transform(data)\n",
        "    Xmm = ohe_state.fit_transform(data)\n",
        "\n",
        "    data = pd.concat([data,\n",
        "                      pd.DataFrame(Xm.toarray(), columns=['proto_'+str(i) for i in ohe_proto.categories_[0]]), # Cast i to string type\n",
        "                      pd.DataFrame(X.toarray(), columns=['service_'+str(i) for i in ohe_service.categories_[0]]), # Cast i to string type\n",
        "                      pd.DataFrame(Xmm.toarray(), columns=['state_'+str(i) for i in ohe_state.categories_[0]])], # Cast i to string type\n",
        "                      axis=1)\n",
        "\n",
        "    data.drop(['proto','service','state'], axis=1, inplace=True)\n",
        "    return data"
      ],
      "metadata": {
        "id": "s_GlHdUDga1o"
      },
      "execution_count": 187,
      "outputs": []
    },
    {
      "cell_type": "code",
      "source": [
        "def get_final_data(data, saved_dict=saved_dict, mode_dict=mode_dict):\n",
        "\n",
        "    if len(data.columns) != len(saved_dict['columns']):\n",
        "        print(f\"Warning: Mismatch in number of columns. Existing: {len(data.columns)}, Expected: {len(saved_dict['columns'])}\")\n",
        "        # Handle the mismatch (e.g., return the DataFrame as is or raise an error)\n",
        "        return data\n",
        "    data.columns = saved_dict['columns']\n",
        "\n",
        "    data['network_bytes'] = data['dbytes'] + data['sbytes']\n",
        "\n",
        "    dropable_col = saved_dict['to_drop'] + saved_dict['corr_col']\n",
        "    data.drop(columns=dropable_col, inplace=True)\n",
        "\n",
        "    data = clean_data(data)\n",
        "    data = apply_log1p(data)\n",
        "    data = standardize(data)\n",
        "    data = ohencoding(data)"
      ],
      "metadata": {
        "id": "glmqSAfQhLpm"
      },
      "execution_count": 192,
      "outputs": []
    },
    {
      "cell_type": "code",
      "source": [
        "x_test = get_final_data(x_test)\n"
      ],
      "metadata": {
        "colab": {
          "base_uri": "https://localhost:8080/"
        },
        "id": "XmY_dyR-dVvI",
        "outputId": "059c5d7b-e57a-4740-cf50-eb2e6ff28f53"
      },
      "execution_count": 193,
      "outputs": [
        {
          "output_type": "stream",
          "name": "stdout",
          "text": [
            "Warning: Mismatch in number of columns. Existing: 36, Expected: 48\n"
          ]
        }
      ]
    },
    {
      "cell_type": "code",
      "source": [
        "!pip install scipy\n",
        "\n",
        "from scipy.sparse import csr_matrix\n",
        "\n",
        "x_test = x_test.apply(pd.to_numeric, errors='coerce')\n",
        "\n",
        "x_test_csr = csr_matrix(x_test.values)\n",
        "col = x_test.columns\n",
        "\n",
        "x_test = pd.DataFrame.sparse.from_spmatrix(x_test_csr, columns=col)"
      ],
      "metadata": {
        "colab": {
          "base_uri": "https://localhost:8080/"
        },
        "id": "O2gjanKLhHwd",
        "outputId": "91138176-ef7e-4f09-9dfc-c89bfed0c36e"
      },
      "execution_count": 196,
      "outputs": [
        {
          "output_type": "stream",
          "name": "stdout",
          "text": [
            "Requirement already satisfied: scipy in /usr/local/lib/python3.10/dist-packages (1.13.1)\n",
            "Requirement already satisfied: numpy<2.3,>=1.22.4 in /usr/local/lib/python3.10/dist-packages (from scipy) (1.26.4)\n"
          ]
        }
      ]
    },
    {
      "cell_type": "code",
      "source": [
        "x_train.shape, y_train.shape"
      ],
      "metadata": {
        "colab": {
          "base_uri": "https://localhost:8080/"
        },
        "id": "0IRETuElhjxS",
        "outputId": "4b0f166d-f314-43e9-9815-ccb49e8877cd"
      },
      "execution_count": 197,
      "outputs": [
        {
          "output_type": "execute_result",
          "data": {
            "text/plain": [
              "((1778032, 197), (1778032,))"
            ]
          },
          "metadata": {},
          "execution_count": 197
        }
      ]
    },
    {
      "cell_type": "code",
      "source": [
        "\n",
        "x_test.shape, y_test.shape"
      ],
      "metadata": {
        "colab": {
          "base_uri": "https://localhost:8080/"
        },
        "id": "MSgIiPq0iBc0",
        "outputId": "42d23d5b-a006-4279-dcf8-9d6686ebc56d"
      },
      "execution_count": 198,
      "outputs": [
        {
          "output_type": "execute_result",
          "data": {
            "text/plain": [
              "((762015, 36), (762015,))"
            ]
          },
          "metadata": {},
          "execution_count": 198
        }
      ]
    },
    {
      "cell_type": "code",
      "source": [
        "print(x_train.columns)\n",
        "print(x_test.columns)"
      ],
      "metadata": {
        "colab": {
          "base_uri": "https://localhost:8080/"
        },
        "id": "K4Ej6bgQiETw",
        "outputId": "2b488585-a430-4370-93cb-132587abe70d"
      },
      "execution_count": 200,
      "outputs": [
        {
          "output_type": "stream",
          "name": "stdout",
          "text": [
            "Index(['sttl', 'dttl', 'swin', 'trans_depth', 'res_bdy_len', 'stime',\n",
            "       'sintpkt', 'dintpkt', 'tcprtt', 'synack',\n",
            "       ...\n",
            "       'state_INT', 'state_MAS', 'state_PAR', 'state_REQ', 'state_RST',\n",
            "       'state_TST', 'state_TXD', 'state_URH', 'state_URN', 'state_no'],\n",
            "      dtype='object', length=197)\n",
            "Index(['proto', 'state', 'sttl', 'dttl', 'service', 'swin', 'trans_depth',\n",
            "       'res_bdy_len', 'stime', 'sintpkt', 'dintpkt', 'tcprtt', 'synack',\n",
            "       'ackdat', 'is_sm_ips_ports', 'ct_state_ttl', 'ct_flw_http_mthd',\n",
            "       'is_ftp_login', 'ct_ftp_cmd', 'ct_srv_src', 'ct_dst_ltm', 'ct_src_ltm',\n",
            "       'ct_dst_sport_ltm', 'dur_log1p', 'sbytes_log1p', 'dbytes_log1p',\n",
            "       'sload_log1p', 'dload_log1p', 'spkts_log1p', 'stcpb_log1p',\n",
            "       'dtcpb_log1p', 'smeansz_log1p', 'dmeansz_log1p', 'sjit_log1p',\n",
            "       'djit_log1p', 'network_bytes_log1p'],\n",
            "      dtype='object')\n"
          ]
        }
      ]
    },
    {
      "cell_type": "code",
      "source": [
        "def false_alarm_rate(y_true, y_pred):\n",
        "\n",
        "    tn, fp, fn, tp = confusion_matrix(y_true, y_pred).ravel()\n",
        "    FPR = fp / (fp + tn)  # False positive rate\n",
        "    FNR = fn / (fn + tp)  # False negetive rate\n",
        "    return (FPR+FNR)/2  # False alarm rate"
      ],
      "metadata": {
        "id": "GwWrJbQziItq"
      },
      "execution_count": 202,
      "outputs": []
    },
    {
      "cell_type": "code",
      "source": [
        "def hyperparam_tuning(clf, parameters, x, y, method='gridsearch', cv=None):\n",
        "\n",
        "    # initialization\n",
        "    scoring = {'auc':'roc_auc',\n",
        "               'f1':'f1',\n",
        "               'FAR':make_scorer(false_alarm_rate, greater_is_better=False)}  # using custom scoring function FAR.\n",
        "\n",
        "    # param tuning\n",
        "    if method=='gridsearch':\n",
        "        # As we are using multi scoring, So we need to point refit to scoring function with which we want to evaluate score\n",
        "        tuning_clf = GridSearchCV(clf, parameters, scoring=scoring, refit='auc',\n",
        "                                  cv=cv, verbose=3, return_train_score=True)\n",
        "        result = tuning_clf.fit(x, y)\n",
        "\n",
        "    elif method=='randomsearch':\n",
        "        tuning_clf = RandomizedSearchCV(clf, parameters, scoring=scoring, refit='auc',\n",
        "                                        cv=cv, verbose=3, return_train_score=True)\n",
        "        result = tuning_clf.fit(x, y)\n",
        "\n",
        "    return result"
      ],
      "metadata": {
        "id": "GfJCvKZ3iZQG"
      },
      "execution_count": 203,
      "outputs": []
    },
    {
      "cell_type": "code",
      "source": [
        "def result_visualization(tuned_clf, parameters, param1=None, param2=None):\n",
        "    \"\"\"\n",
        "    Utility function to plot the results obtained after hyper parameter tuning\n",
        "    \"\"\"\n",
        "    # getting train and test scores to plot\n",
        "    train_score = tuned_clf.cv_results_['mean_train_auc']\n",
        "    test_score = tuned_clf.cv_results_['mean_test_auc']\n",
        "\n",
        "    # print results\n",
        "    print(\"Best Score: {}\".format(tuned_clf.best_score_))\n",
        "    print(\"Best Parameters: {}\".format(tuned_clf.best_params_))\n",
        "\n",
        "    # Want to visualize score with 2 params, plot heatmap of the 3 variables\n",
        "    if param2 is not None:\n",
        "        # heatmap\n",
        "        train_cmap=sns.light_palette(\"green\")\n",
        "        test_cmap=sns.light_palette(\"blue\")\n",
        "\n",
        "        # Figure and axis\n",
        "        fig = plt.figure(figsize=(20,5))\n",
        "        train_ax = fig.add_subplot(1,2,1)\n",
        "        test_ax = fig.add_subplot(1,2,2)\n",
        "\n",
        "        # train heatmap\n",
        "        sns.heatmap(train_score.reshape(len(parameters[param1]), len(parameters[param2])),\n",
        "                    cmap=train_cmap, annot=True, fmt='.4f', ax=train_ax,\n",
        "                    xticklabels=parameters[param2], yticklabels=parameters[param1])\n",
        "\n",
        "        # test heapmap\n",
        "        sns.heatmap(test_score.reshape(len(parameters[param1]), len(parameters[param2])),\n",
        "                    cmap=test_cmap, annot=True, fmt='.6f', ax=test_ax,\n",
        "                    xticklabels=parameters[param2], yticklabels=parameters[param1])\n",
        "\n",
        "        # axis labels and plot title\n",
        "        train_ax.set_title(\"Train hyperparam heatmap\")\n",
        "        train_ax.set_xlabel(param2)\n",
        "        train_ax.set_ylabel(param1)\n",
        "\n",
        "        test_ax.set_title(\"Test hyperparam heatmap\")\n",
        "        test_ax.set_xlabel(param2)\n",
        "        test_ax.set_ylabel(param1)\n",
        "        plt.show()\n",
        "\n",
        "    # Want to visualize score with one param, simply plot score and param\n",
        "    else:\n",
        "        plt.figure(figsize=(10,5))\n",
        "        plt.plot(np.log10(parameters[param1]), train_score, label=\"train\")\n",
        "        plt.plot(np.log10(parameters[param1]), test_score, label=\"test\")\n",
        "\n",
        "        # Plot for train data\n",
        "        for i, txt in enumerate(train_score):\n",
        "            plt.annotate((parameters[param1][i], np.round(txt, 3)), (np.log10(parameters[param1])[i], train_score[i]))\n",
        "\n",
        "        # Plot for test data\n",
        "        for i, txt in enumerate(test_score):\n",
        "            plt.annotate((parameters[param1][i], np.round(txt, 3)), (np.log10(parameters[param1])[i], test_score[i]))\n",
        "\n",
        "        plt.xlabel(param1)\n",
        "        plt.ylabel('performance')\n",
        "        plt.grid()\n",
        "        plt.legend()\n",
        "        plt.show()"
      ],
      "metadata": {
        "id": "VqVcg7AOid-W"
      },
      "execution_count": 204,
      "outputs": []
    },
    {
      "cell_type": "code",
      "source": [
        "def evaluate_result(clf, x_train, y_train, x_test, y_test, model_name):\n",
        "    \"\"\"\n",
        "    Utility function to get result on test data from best found classifier using hyper parameter tuning.\n",
        "    Print the accuracy and False Alarm Rate for both train and test.\n",
        "    Plot confusion matrix of train and test.\n",
        "    \"\"\"\n",
        "    cmap=sns.light_palette(\"blue\")\n",
        "    labels= ['non-attack', 'attack']\n",
        "\n",
        "    # Training te best model\n",
        "    clf.fit(x_train, y_train)\n",
        "    y_train_pred = clf.predict(x_train)  # prediction on train data\n",
        "    y_test_pred = clf.predict(x_test)  # prediction on test data\n",
        "\n",
        "    # auc curve\n",
        "    train_fpr, train_tpr, tr_thresholds = roc_curve(y_train, y_train_pred)\n",
        "    test_fpr, test_tpr, te_thresholds = roc_curve(y_test, y_test_pred)\n",
        "\n",
        "    # Scores of train dataset\n",
        "    train_auc = auc(train_fpr, train_tpr)\n",
        "    train_f1 = f1_score(y_train, y_train_pred)\n",
        "    train_far = false_alarm_rate(y_train, y_train_pred)\n",
        "\n",
        "    # Scores of test dataset\n",
        "    test_auc = auc(test_fpr, test_tpr)\n",
        "    test_f1 = f1_score(y_test, y_test_pred)\n",
        "    test_far = false_alarm_rate(y_test, y_test_pred)\n",
        "\n",
        "    # Printing the result as a table\n",
        "    x = PrettyTable()\n",
        "    x.field_names = ['Dataset', 'Model', 'AUC', 'F1-score', 'False Alarm Rate']\n",
        "    x.add_row(['Train', model_name, train_auc, train_f1, train_far])\n",
        "    x.add_row(['Test', model_name, test_auc, test_f1, test_far])\n",
        "    print(x)\n",
        "\n",
        "    # Plot AUC curve\n",
        "    plt.figure()\n",
        "    plt.plot(train_fpr, train_tpr, label=f\"Train AUC: {train_auc}\")\n",
        "    plt.plot(test_fpr, test_tpr, label=f\"Test AUC: {test_auc}\")\n",
        "    plt.grid()\n",
        "    plt.legend()\n",
        "    plt.show()\n",
        "\n",
        "    # Confusion martix of train and test\n",
        "    # Train confusion matrix\n",
        "    plt.figure(figsize=(16,5))\n",
        "    plt.subplot(1,2,1)\n",
        "    sns.heatmap(confusion_matrix(y_train, y_train_pred),\n",
        "                annot=True, cmap=cmap, fmt='d',\n",
        "                xticklabels=labels, yticklabels=labels)\n",
        "    plt.xlabel(\"Predicted\")\n",
        "    plt.ylabel(\"Actual\")\n",
        "    plt.title(\"Train Confusion Matrix\")\n",
        "\n",
        "    # Test confusion matrix\n",
        "    plt.subplot(1,2,2)\n",
        "    sns.heatmap(confusion_matrix(y_test, y_test_pred),\n",
        "                annot=True, cmap=cmap, fmt='d',\n",
        "                xticklabels=labels, yticklabels=labels)\n",
        "    plt.xlabel(\"Predicted\")\n",
        "    plt.ylabel(\"Actual\")\n",
        "    plt.title(\"Test Confusion Matrix\")\n",
        "    plt.show()\n",
        "\n",
        "    # Returning scores of test data\n",
        "    return clf, test_auc, test_f1, test_far"
      ],
      "metadata": {
        "id": "ieVgqqIRikaI"
      },
      "execution_count": 205,
      "outputs": []
    },
    {
      "cell_type": "code",
      "source": [
        "!pip install scikit-learn\n",
        "import pandas as pd\n",
        "from scipy.sparse import csr_matrix\n",
        "from sklearn.linear_model import SGDClassifier\n",
        "from sklearn.impute import SimpleImputer\n",
        "\n",
        "# Assuming x_train is a pandas DataFrame\n",
        "x_train = x_train.fillna(0) # Replace NaN values with 0\n",
        "\n",
        "x_train_csr = csr_matrix(x_train)\n",
        "\n",
        "# 'log' is not a valid value for the loss parameter. Use 'log_loss' instead.\n",
        "clf = SGDClassifier(loss='log_loss', penalty='l2')\n",
        "param = {'alpha':np.logspace(-6, 1, 8)}  # Values of alpha\n",
        "\n",
        "lr_clf = hyperparam_tuning(clf, param, x_train_csr, y_train, cv=3)\n"
      ],
      "metadata": {
        "colab": {
          "base_uri": "https://localhost:8080/"
        },
        "id": "OMUng_ZWiq_U",
        "outputId": "8972adcf-3a1d-4b39-bac7-853ba6eaa7d0"
      },
      "execution_count": 212,
      "outputs": [
        {
          "output_type": "stream",
          "name": "stdout",
          "text": [
            "Requirement already satisfied: scikit-learn in /usr/local/lib/python3.10/dist-packages (1.3.2)\n",
            "Requirement already satisfied: numpy<2.0,>=1.17.3 in /usr/local/lib/python3.10/dist-packages (from scikit-learn) (1.26.4)\n",
            "Requirement already satisfied: scipy>=1.5.0 in /usr/local/lib/python3.10/dist-packages (from scikit-learn) (1.13.1)\n",
            "Requirement already satisfied: joblib>=1.1.1 in /usr/local/lib/python3.10/dist-packages (from scikit-learn) (1.4.2)\n",
            "Requirement already satisfied: threadpoolctl>=2.0.0 in /usr/local/lib/python3.10/dist-packages (from scikit-learn) (3.5.0)\n",
            "Fitting 3 folds for each of 8 candidates, totalling 24 fits\n",
            "[CV 1/3] END alpha=1e-06; FAR: (train=-0.016, test=-0.016) auc: (train=0.999, test=0.999) f1: (train=0.958, test=0.957) total time=  18.9s\n",
            "[CV 2/3] END alpha=1e-06; FAR: (train=-0.010, test=-0.010) auc: (train=0.999, test=0.999) f1: (train=0.955, test=0.955) total time=  14.8s\n",
            "[CV 3/3] END alpha=1e-06; FAR: (train=-0.009, test=-0.009) auc: (train=0.999, test=0.999) f1: (train=0.954, test=0.955) total time=  12.6s\n",
            "[CV 1/3] END alpha=9.999999999999999e-06; FAR: (train=-0.021, test=-0.021) auc: (train=0.999, test=0.999) f1: (train=0.959, test=0.958) total time=   6.5s\n",
            "[CV 2/3] END alpha=9.999999999999999e-06; FAR: (train=-0.022, test=-0.022) auc: (train=0.999, test=0.999) f1: (train=0.958, test=0.958) total time=   5.9s\n",
            "[CV 3/3] END alpha=9.999999999999999e-06; FAR: (train=-0.011, test=-0.011) auc: (train=0.999, test=0.999) f1: (train=0.955, test=0.956) total time=   6.8s\n",
            "[CV 1/3] END alpha=9.999999999999999e-05; FAR: (train=-0.021, test=-0.021) auc: (train=0.999, test=0.999) f1: (train=0.958, test=0.957) total time=   4.5s\n",
            "[CV 2/3] END alpha=9.999999999999999e-05; FAR: (train=-0.016, test=-0.017) auc: (train=0.999, test=0.999) f1: (train=0.957, test=0.957) total time=   4.8s\n",
            "[CV 3/3] END alpha=9.999999999999999e-05; FAR: (train=-0.018, test=-0.017) auc: (train=0.999, test=0.999) f1: (train=0.957, test=0.958) total time=   4.5s\n",
            "[CV 1/3] END alpha=0.001; FAR: (train=-0.020, test=-0.020) auc: (train=0.999, test=0.999) f1: (train=0.945, test=0.944) total time=   4.7s\n",
            "[CV 2/3] END alpha=0.001; FAR: (train=-0.019, test=-0.019) auc: (train=0.999, test=0.999) f1: (train=0.945, test=0.945) total time=   4.5s\n",
            "[CV 3/3] END alpha=0.001; FAR: (train=-0.017, test=-0.016) auc: (train=0.998, test=0.998) f1: (train=0.945, test=0.946) total time=   4.7s\n",
            "[CV 1/3] END alpha=0.01; FAR: (train=-0.026, test=-0.026) auc: (train=0.997, test=0.997) f1: (train=0.932, test=0.931) total time=   4.1s\n",
            "[CV 2/3] END alpha=0.01; FAR: (train=-0.027, test=-0.028) auc: (train=0.997, test=0.997) f1: (train=0.931, test=0.931) total time=   4.7s\n",
            "[CV 3/3] END alpha=0.01; FAR: (train=-0.026, test=-0.026) auc: (train=0.997, test=0.997) f1: (train=0.932, test=0.932) total time=   4.1s\n",
            "[CV 1/3] END alpha=0.09999999999999999; FAR: (train=-0.024, test=-0.024) auc: (train=0.997, test=0.996) f1: (train=0.929, test=0.929) total time=   4.2s\n",
            "[CV 2/3] END alpha=0.09999999999999999; FAR: (train=-0.025, test=-0.025) auc: (train=0.996, test=0.997) f1: (train=0.928, test=0.929) total time=   4.1s\n",
            "[CV 3/3] END alpha=0.09999999999999999; FAR: (train=-0.025, test=-0.025) auc: (train=0.997, test=0.996) f1: (train=0.928, test=0.928) total time=   4.1s\n",
            "[CV 1/3] END alpha=1.0; FAR: (train=-0.074, test=-0.075) auc: (train=0.988, test=0.988) f1: (train=0.702, test=0.702) total time=   4.4s\n",
            "[CV 2/3] END alpha=1.0; FAR: (train=-0.075, test=-0.075) auc: (train=0.988, test=0.988) f1: (train=0.701, test=0.701) total time=   4.1s\n",
            "[CV 3/3] END alpha=1.0; FAR: (train=-0.075, test=-0.076) auc: (train=0.988, test=0.988) f1: (train=0.701, test=0.702) total time=   4.2s\n",
            "[CV 1/3] END alpha=10.0; FAR: (train=-0.099, test=-0.099) auc: (train=0.960, test=0.961) f1: (train=0.671, test=0.672) total time=   4.1s\n",
            "[CV 2/3] END alpha=10.0; FAR: (train=-0.099, test=-0.100) auc: (train=0.960, test=0.960) f1: (train=0.671, test=0.670) total time=   4.2s\n",
            "[CV 3/3] END alpha=10.0; FAR: (train=-0.099, test=-0.099) auc: (train=0.960, test=0.960) f1: (train=0.671, test=0.671) total time=   4.1s\n"
          ]
        }
      ]
    },
    {
      "cell_type": "code",
      "source": [
        "result_visualization(lr_clf, param, param1='alpha')"
      ],
      "metadata": {
        "colab": {
          "base_uri": "https://localhost:8080/",
          "height": 500
        },
        "id": "mYk2ZvOBiu74",
        "outputId": "a5e9cf9e-82cb-45e7-b0e0-424927ab4d63"
      },
      "execution_count": 213,
      "outputs": [
        {
          "output_type": "stream",
          "name": "stdout",
          "text": [
            "Best Score: 0.9991867017099758\n",
            "Best Parameters: {'alpha': 9.999999999999999e-06}\n"
          ]
        },
        {
          "output_type": "display_data",
          "data": {
            "text/plain": [
              "<Figure size 1000x500 with 1 Axes>"
            ],
            "image/png": "[encoded data removed]"
          },
          "metadata": {}
        }
      ]
    },
    {
      "cell_type": "code",
      "source": [
        "clf = SGDClassifier(loss='log_loss', penalty='l1') # Changed loss parameter to 'log_loss'\n",
        "param = {'alpha':np.logspace(-6, 1, 8)}  # Values of alpha\n",
        "\n",
        "lr_clf = hyperparam_tuning(clf, param, x_train_csr, y_train)"
      ],
      "metadata": {
        "colab": {
          "base_uri": "https://localhost:8080/"
        },
        "id": "gUPzhWNUjTA0",
        "outputId": "71318baa-0b7a-463b-f5db-24397cdd1d87"
      },
      "execution_count": 215,
      "outputs": [
        {
          "output_type": "stream",
          "name": "stdout",
          "text": [
            "Fitting 5 folds for each of 8 candidates, totalling 40 fits\n",
            "[CV 1/5] END alpha=1e-06; FAR: (train=-0.013, test=-0.013) auc: (train=0.999, test=0.999) f1: (train=0.958, test=0.956) total time=  20.2s\n",
            "[CV 2/5] END alpha=1e-06; FAR: (train=-0.033, test=-0.034) auc: (train=0.999, test=0.999) f1: (train=0.952, test=0.952) total time=  20.6s\n",
            "[CV 3/5] END alpha=1e-06; FAR: (train=-0.034, test=-0.034) auc: (train=0.999, test=0.999) f1: (train=0.953, test=0.952) total time=  20.4s\n",
            "[CV 4/5] END alpha=1e-06; FAR: (train=-0.017, test=-0.016) auc: (train=0.999, test=0.999) f1: (train=0.957, test=0.958) total time=  19.9s\n",
            "[CV 5/5] END alpha=1e-06; FAR: (train=-0.042, test=-0.041) auc: (train=0.999, test=0.999) f1: (train=0.948, test=0.949) total time=  18.9s\n",
            "[CV 1/5] END alpha=9.999999999999999e-06; FAR: (train=-0.025, test=-0.026) auc: (train=0.999, test=0.999) f1: (train=0.957, test=0.955) total time=   9.8s\n",
            "[CV 2/5] END alpha=9.999999999999999e-06; FAR: (train=-0.022, test=-0.023) auc: (train=0.999, test=0.999) f1: (train=0.959, test=0.957) total time=  10.6s\n",
            "[CV 3/5] END alpha=9.999999999999999e-06; FAR: (train=-0.021, test=-0.021) auc: (train=0.999, test=0.999) f1: (train=0.958, test=0.959) total time=   9.3s\n",
            "[CV 4/5] END alpha=9.999999999999999e-06; FAR: (train=-0.024, test=-0.024) auc: (train=0.999, test=0.999) f1: (train=0.958, test=0.958) total time=  11.4s\n",
            "[CV 5/5] END alpha=9.999999999999999e-06; FAR: (train=-0.027, test=-0.025) auc: (train=0.999, test=0.999) f1: (train=0.956, test=0.958) total time=  12.1s\n",
            "[CV 1/5] END alpha=9.999999999999999e-05; FAR: (train=-0.026, test=-0.026) auc: (train=0.998, test=0.997) f1: (train=0.954, test=0.953) total time=  15.0s\n",
            "[CV 2/5] END alpha=9.999999999999999e-05; FAR: (train=-0.026, test=-0.027) auc: (train=0.999, test=0.999) f1: (train=0.954, test=0.952) total time=  11.3s\n",
            "[CV 3/5] END alpha=9.999999999999999e-05; FAR: (train=-0.025, test=-0.025) auc: (train=0.999, test=0.999) f1: (train=0.952, test=0.952) total time=  12.0s\n",
            "[CV 4/5] END alpha=9.999999999999999e-05; FAR: (train=-0.026, test=-0.026) auc: (train=0.997, test=0.997) f1: (train=0.951, test=0.952) total time=  33.3s\n",
            "[CV 5/5] END alpha=9.999999999999999e-05; FAR: (train=-0.026, test=-0.025) auc: (train=0.998, test=0.998) f1: (train=0.951, test=0.953) total time=  29.6s\n",
            "[CV 1/5] END alpha=0.001; FAR: (train=-0.026, test=-0.026) auc: (train=0.996, test=0.996) f1: (train=0.949, test=0.948) total time=  16.3s\n",
            "[CV 2/5] END alpha=0.001; FAR: (train=-0.024, test=-0.024) auc: (train=0.993, test=0.993) f1: (train=0.949, test=0.948) total time=  11.8s\n",
            "[CV 3/5] END alpha=0.001; FAR: (train=-0.028, test=-0.029) auc: (train=0.994, test=0.994) f1: (train=0.946, test=0.946) total time=  13.0s\n",
            "[CV 4/5] END alpha=0.001; FAR: (train=-0.022, test=-0.022) auc: (train=0.998, test=0.997) f1: (train=0.947, test=0.948) total time=   7.2s\n",
            "[CV 5/5] END alpha=0.001; FAR: (train=-0.027, test=-0.026) auc: (train=0.993, test=0.993) f1: (train=0.944, test=0.946) total time=  11.0s\n",
            "[CV 1/5] END alpha=0.01; FAR: (train=-0.044, test=-0.044) auc: (train=0.997, test=0.997) f1: (train=0.913, test=0.912) total time=   5.5s\n",
            "[CV 2/5] END alpha=0.01; FAR: (train=-0.044, test=-0.044) auc: (train=0.997, test=0.997) f1: (train=0.913, test=0.912) total time=   6.3s\n",
            "[CV 3/5] END alpha=0.01; FAR: (train=-0.044, test=-0.044) auc: (train=0.997, test=0.997) f1: (train=0.912, test=0.913) total time=   5.3s\n",
            "[CV 4/5] END alpha=0.01; FAR: (train=-0.044, test=-0.044) auc: (train=0.997, test=0.997) f1: (train=0.912, test=0.913) total time=   5.5s\n",
            "[CV 5/5] END alpha=0.01; FAR: (train=-0.044, test=-0.043) auc: (train=0.997, test=0.997) f1: (train=0.912, test=0.913) total time=   6.2s\n",
            "[CV 1/5] END alpha=0.09999999999999999; FAR: (train=-0.044, test=-0.044) auc: (train=0.971, test=0.972) f1: (train=0.905, test=0.904) total time=   5.7s\n",
            "[CV 2/5] END alpha=0.09999999999999999; FAR: (train=-0.044, test=-0.044) auc: (train=0.971, test=0.971) f1: (train=0.905, test=0.904) total time=   6.2s\n",
            "[CV 3/5] END alpha=0.09999999999999999; FAR: (train=-0.044, test=-0.044) auc: (train=0.972, test=0.972) f1: (train=0.906, test=0.907) total time=   6.1s\n",
            "[CV 4/5] END alpha=0.09999999999999999; FAR: (train=-0.044, test=-0.044) auc: (train=0.972, test=0.972) f1: (train=0.906, test=0.906) total time=   5.3s\n",
            "[CV 5/5] END alpha=0.09999999999999999; FAR: (train=-0.044, test=-0.044) auc: (train=0.971, test=0.971) f1: (train=0.905, test=0.904) total time=   5.5s\n",
            "[CV 1/5] END alpha=1.0; FAR: (train=-0.500, test=-0.500) auc: (train=0.500, test=0.500) f1: (train=0.000, test=0.000) total time=   6.2s\n",
            "[CV 2/5] END alpha=1.0; FAR: (train=-0.500, test=-0.500) auc: (train=0.500, test=0.500) f1: (train=0.000, test=0.000) total time=   6.1s\n",
            "[CV 3/5] END alpha=1.0; FAR: (train=-0.500, test=-0.500) auc: (train=0.500, test=0.500) f1: (train=0.000, test=0.000) total time=   6.1s\n",
            "[CV 4/5] END alpha=1.0; FAR: (train=-0.500, test=-0.500) auc: (train=0.500, test=0.500) f1: (train=0.000, test=0.000) total time=   5.9s\n",
            "[CV 5/5] END alpha=1.0; FAR: (train=-0.500, test=-0.500) auc: (train=0.500, test=0.500) f1: (train=0.000, test=0.000) total time=   6.3s\n",
            "[CV 1/5] END alpha=10.0; FAR: (train=-0.500, test=-0.500) auc: (train=0.500, test=0.500) f1: (train=0.000, test=0.000) total time=   5.5s\n",
            "[CV 2/5] END alpha=10.0; FAR: (train=-0.500, test=-0.500) auc: (train=0.500, test=0.500) f1: (train=0.000, test=0.000) total time=   5.5s\n",
            "[CV 3/5] END alpha=10.0; FAR: (train=-0.500, test=-0.500) auc: (train=0.500, test=0.500) f1: (train=0.000, test=0.000) total time=   5.1s\n",
            "[CV 4/5] END alpha=10.0; FAR: (train=-0.500, test=-0.500) auc: (train=0.500, test=0.500) f1: (train=0.000, test=0.000) total time=   5.3s\n",
            "[CV 5/5] END alpha=10.0; FAR: (train=-0.500, test=-0.500) auc: (train=0.500, test=0.500) f1: (train=0.000, test=0.000) total time=   5.3s\n"
          ]
        }
      ]
    },
    {
      "cell_type": "code",
      "source": [
        "result_visualization(lr_clf, param, 'alpha')"
      ],
      "metadata": {
        "colab": {
          "base_uri": "https://localhost:8080/",
          "height": 500
        },
        "id": "gRoUCzyfm5Bh",
        "outputId": "267ebb94-e7b4-4b4b-949c-49f6b9a84179"
      },
      "execution_count": 216,
      "outputs": [
        {
          "output_type": "stream",
          "name": "stdout",
          "text": [
            "Best Score: 0.999217421383036\n",
            "Best Parameters: {'alpha': 1e-06}\n"
          ]
        },
        {
          "output_type": "display_data",
          "data": {
            "text/plain": [
              "<Figure size 1000x500 with 1 Axes>"
            ],
            "image/png": "[encoded data removed]"
          },
          "metadata": {}
        }
      ]
    },
    {
      "cell_type": "code",
      "source": [
        "# Get the common columns between x_train and x_test\n",
        "common_cols = x_train_cols.intersection(x_test.columns)\n",
        "\n",
        "# Select the common columns from both DataFrames\n",
        "x_train = x_train[common_cols]\n",
        "x_test = x_test[common_cols]\n",
        "\n",
        "# Impute missing values (replace NaNs with 0)\n",
        "x_train = x_train.fillna(0)\n",
        "x_test = x_test.fillna(0)\n",
        "\n",
        "# Now you can proceed with fitting and prediction\n",
        "lr_bst_clf = SGDClassifier(penalty='l1', alpha=1e-6)\n",
        "lr_clf, lr_auc, lr_f1, lr_far = evaluate_result(lr_bst_clf, x_train, y_train, x_test, y_test, 'LR')"
      ],
      "metadata": {
        "colab": {
          "base_uri": "https://localhost:8080/",
          "height": 936
        },
        "id": "2Io7LBH8m40K",
        "outputId": "27dd618d-509a-4ac3-fc81-3a8534c55b27"
      },
      "execution_count": 220,
      "outputs": [
        {
          "output_type": "stream",
          "name": "stdout",
          "text": [
            "+---------+-------+---------------------+--------------------+----------------------+\n",
            "| Dataset | Model |         AUC         |      F1-score      |   False Alarm Rate   |\n",
            "+---------+-------+---------------------+--------------------+----------------------+\n",
            "|  Train  |   LR  |  0.9720927425169893 | 0.9383388182987163 | 0.027907257483010713 |\n",
            "|   Test  |   LR  | 0.49951794529629573 | 0.2237653492232867 |  0.5004820547037042  |\n",
            "+---------+-------+---------------------+--------------------+----------------------+\n"
          ]
        },
        {
          "output_type": "display_data",
          "data": {
            "text/plain": [
              "<Figure size 640x480 with 1 Axes>"
            ],
            "image/png": "[encoded data removed]"
          },
          "metadata": {}
        },
        {
          "output_type": "display_data",
          "data": {
            "text/plain": [
              "<Figure size 1600x500 with 4 Axes>"
            ],
            "image/png": "[encoded data removed]"
          },
          "metadata": {}
        }
      ]
    },
    {
      "cell_type": "code",
      "source": [],
      "metadata": {
        "id": "CSmP0wxonAPc"
      },
      "execution_count": 224,
      "outputs": []
    },
    {
      "cell_type": "code",
      "source": [
        "result_dict = {\"name\":[], \"auc\":[], \"f1\":[], \"far\":[]}\n",
        "\n",
        "result_dict['name'].append(\"LR\")\n",
        "result_dict['auc'].append(lr_auc)\n",
        "result_dict['f1'].append(lr_f1)\n",
        "result_dict['far'].append(lr_far)"
      ],
      "metadata": {
        "id": "ujGB0Nlzn-cJ"
      },
      "execution_count": 223,
      "outputs": []
    },
    {
      "cell_type": "code",
      "source": [
        "result_dict"
      ],
      "metadata": {
        "colab": {
          "base_uri": "https://localhost:8080/"
        },
        "id": "30aVIoNfoX72",
        "outputId": "7563eb66-1fcc-45a4-dfb0-c3ede3ec0b47"
      },
      "execution_count": 224,
      "outputs": [
        {
          "output_type": "execute_result",
          "data": {
            "text/plain": [
              "{'name': ['LR'],\n",
              " 'auc': [0.49951794529629573],\n",
              " 'f1': [0.2237653492232867],\n",
              " 'far': [0.5004820547037042]}"
            ]
          },
          "metadata": {},
          "execution_count": 224
        }
      ]
    },
    {
      "cell_type": "code",
      "source": [],
      "metadata": {
        "id": "g9r575hCobd9"
      },
      "execution_count": null,
      "outputs": []
    }
  ],
  "metadata": {
    "colab": {
      "provenance": [],
      "gpuType": "V28",
      "mount_file_id": "1uKHXWpb9vqApbNOzkGaMQJtl9fO0uGas",
      "authorship_tag": "ABX9TyN9Pt9QqDPnPR6YprGSYvS7",
      "include_colab_link": true
    },
    "kernelspec": {
      "display_name": "Python 3",
      "name": "python3"
    },
    "language_info": {
      "name": "python"
    },
    "accelerator": "TPU"
  },
  "nbformat": 4,
  "nbformat_minor": 0
}