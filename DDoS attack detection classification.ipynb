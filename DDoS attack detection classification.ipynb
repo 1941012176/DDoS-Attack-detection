{
 "cells": [
  {
   "cell_type": "code",
   "execution_count": 6,
   "id": "ca0fe379",
   "metadata": {},
   "outputs": [],
   "source": [
    "import numpy as np\n",
    "import pandas as pd"
   ]
  },
  {
   "cell_type": "code",
   "execution_count": 8,
   "id": "10fb5455",
   "metadata": {},
   "outputs": [],
   "source": [
    "import matplotlib.pyplot as plt\n",
    "from matplotlib.pyplot import figure\n",
    "import seaborn as sns"
   ]
  },
  {
   "cell_type": "code",
   "execution_count": 9,
   "id": "1c21eecc",
   "metadata": {},
   "outputs": [],
   "source": [
    "from sklearn.metrics import confusion_matrix\n",
    "from sklearn.metrics import accuracy_score\n",
    "from sklearn.metrics import classification_report\n",
    "from sklearn.model_selection import train_test_split\n",
    "from sklearn import metrics\n",
    "from sklearn.model_selection import cross_val_score\n",
    "from sklearn import preprocessing"
   ]
  },
  {
   "cell_type": "code",
   "execution_count": 10,
   "id": "c71c70ee",
   "metadata": {},
   "outputs": [],
   "source": [
    "from sklearn.model_selection import cross_val_predict\n",
    "from sklearn.model_selection import GridSearchCV\n",
    "import time"
   ]
  },
  {
   "cell_type": "code",
   "execution_count": 11,
   "id": "ed14aea9",
   "metadata": {},
   "outputs": [],
   "source": [
    "from sklearn.tree import DecisionTreeClassifier\n",
    "from sklearn.linear_model import LogisticRegression\n",
    "from sklearn import svm\n",
    "from sklearn.neighbors import KNeighborsClassifier\n",
    "from sklearn.ensemble import RandomForestClassifier\n",
    "\n",
    "from sklearn import metrics"
   ]
  },
  {
   "cell_type": "code",
   "execution_count": 12,
   "id": "3e0abf31",
   "metadata": {},
   "outputs": [],
   "source": [
    "data = pd.read_csv(r\"D:\\Metch 1st year\\MTech Project\\Research papers for literature Survey\\DDoS SDN dataset\\dataset_sdn.csv\")"
   ]
  },
  {
   "cell_type": "code",
   "execution_count": 13,
   "id": "06945a47",
   "metadata": {
    "scrolled": true
   },
   "outputs": [
    {
     "data": {
      "text/html": [
       "<div>\n",
       "<style scoped>\n",
       "    .dataframe tbody tr th:only-of-type {\n",
       "        vertical-align: middle;\n",
       "    }\n",
       "\n",
       "    .dataframe tbody tr th {\n",
       "        vertical-align: top;\n",
       "    }\n",
       "\n",
       "    .dataframe thead th {\n",
       "        text-align: right;\n",
       "    }\n",
       "</style>\n",
       "<table border=\"1\" class=\"dataframe\">\n",
       "  <thead>\n",
       "    <tr style=\"text-align: right;\">\n",
       "      <th></th>\n",
       "      <th>dt</th>\n",
       "      <th>switch</th>\n",
       "      <th>src</th>\n",
       "      <th>dst</th>\n",
       "      <th>pktcount</th>\n",
       "      <th>bytecount</th>\n",
       "      <th>dur</th>\n",
       "      <th>dur_nsec</th>\n",
       "      <th>tot_dur</th>\n",
       "      <th>flows</th>\n",
       "      <th>...</th>\n",
       "      <th>pktrate</th>\n",
       "      <th>Pairflow</th>\n",
       "      <th>Protocol</th>\n",
       "      <th>port_no</th>\n",
       "      <th>tx_bytes</th>\n",
       "      <th>rx_bytes</th>\n",
       "      <th>tx_kbps</th>\n",
       "      <th>rx_kbps</th>\n",
       "      <th>tot_kbps</th>\n",
       "      <th>label</th>\n",
       "    </tr>\n",
       "  </thead>\n",
       "  <tbody>\n",
       "    <tr>\n",
       "      <th>0</th>\n",
       "      <td>11425</td>\n",
       "      <td>1</td>\n",
       "      <td>10.0.0.1</td>\n",
       "      <td>10.0.0.8</td>\n",
       "      <td>45304</td>\n",
       "      <td>48294064</td>\n",
       "      <td>100</td>\n",
       "      <td>716000000</td>\n",
       "      <td>1.010000e+11</td>\n",
       "      <td>3</td>\n",
       "      <td>...</td>\n",
       "      <td>451</td>\n",
       "      <td>0</td>\n",
       "      <td>UDP</td>\n",
       "      <td>3</td>\n",
       "      <td>143928631</td>\n",
       "      <td>3917</td>\n",
       "      <td>0</td>\n",
       "      <td>0.0</td>\n",
       "      <td>0.0</td>\n",
       "      <td>0</td>\n",
       "    </tr>\n",
       "    <tr>\n",
       "      <th>1</th>\n",
       "      <td>11605</td>\n",
       "      <td>1</td>\n",
       "      <td>10.0.0.1</td>\n",
       "      <td>10.0.0.8</td>\n",
       "      <td>126395</td>\n",
       "      <td>134737070</td>\n",
       "      <td>280</td>\n",
       "      <td>734000000</td>\n",
       "      <td>2.810000e+11</td>\n",
       "      <td>2</td>\n",
       "      <td>...</td>\n",
       "      <td>451</td>\n",
       "      <td>0</td>\n",
       "      <td>UDP</td>\n",
       "      <td>4</td>\n",
       "      <td>3842</td>\n",
       "      <td>3520</td>\n",
       "      <td>0</td>\n",
       "      <td>0.0</td>\n",
       "      <td>0.0</td>\n",
       "      <td>0</td>\n",
       "    </tr>\n",
       "    <tr>\n",
       "      <th>2</th>\n",
       "      <td>11425</td>\n",
       "      <td>1</td>\n",
       "      <td>10.0.0.2</td>\n",
       "      <td>10.0.0.8</td>\n",
       "      <td>90333</td>\n",
       "      <td>96294978</td>\n",
       "      <td>200</td>\n",
       "      <td>744000000</td>\n",
       "      <td>2.010000e+11</td>\n",
       "      <td>3</td>\n",
       "      <td>...</td>\n",
       "      <td>451</td>\n",
       "      <td>0</td>\n",
       "      <td>UDP</td>\n",
       "      <td>1</td>\n",
       "      <td>3795</td>\n",
       "      <td>1242</td>\n",
       "      <td>0</td>\n",
       "      <td>0.0</td>\n",
       "      <td>0.0</td>\n",
       "      <td>0</td>\n",
       "    </tr>\n",
       "    <tr>\n",
       "      <th>3</th>\n",
       "      <td>11425</td>\n",
       "      <td>1</td>\n",
       "      <td>10.0.0.2</td>\n",
       "      <td>10.0.0.8</td>\n",
       "      <td>90333</td>\n",
       "      <td>96294978</td>\n",
       "      <td>200</td>\n",
       "      <td>744000000</td>\n",
       "      <td>2.010000e+11</td>\n",
       "      <td>3</td>\n",
       "      <td>...</td>\n",
       "      <td>451</td>\n",
       "      <td>0</td>\n",
       "      <td>UDP</td>\n",
       "      <td>2</td>\n",
       "      <td>3688</td>\n",
       "      <td>1492</td>\n",
       "      <td>0</td>\n",
       "      <td>0.0</td>\n",
       "      <td>0.0</td>\n",
       "      <td>0</td>\n",
       "    </tr>\n",
       "    <tr>\n",
       "      <th>4</th>\n",
       "      <td>11425</td>\n",
       "      <td>1</td>\n",
       "      <td>10.0.0.2</td>\n",
       "      <td>10.0.0.8</td>\n",
       "      <td>90333</td>\n",
       "      <td>96294978</td>\n",
       "      <td>200</td>\n",
       "      <td>744000000</td>\n",
       "      <td>2.010000e+11</td>\n",
       "      <td>3</td>\n",
       "      <td>...</td>\n",
       "      <td>451</td>\n",
       "      <td>0</td>\n",
       "      <td>UDP</td>\n",
       "      <td>3</td>\n",
       "      <td>3413</td>\n",
       "      <td>3665</td>\n",
       "      <td>0</td>\n",
       "      <td>0.0</td>\n",
       "      <td>0.0</td>\n",
       "      <td>0</td>\n",
       "    </tr>\n",
       "  </tbody>\n",
       "</table>\n",
       "<p>5 rows × 23 columns</p>\n",
       "</div>"
      ],
      "text/plain": [
       "      dt  switch       src       dst  pktcount  bytecount  dur   dur_nsec  \\\n",
       "0  11425       1  10.0.0.1  10.0.0.8     45304   48294064  100  716000000   \n",
       "1  11605       1  10.0.0.1  10.0.0.8    126395  134737070  280  734000000   \n",
       "2  11425       1  10.0.0.2  10.0.0.8     90333   96294978  200  744000000   \n",
       "3  11425       1  10.0.0.2  10.0.0.8     90333   96294978  200  744000000   \n",
       "4  11425       1  10.0.0.2  10.0.0.8     90333   96294978  200  744000000   \n",
       "\n",
       "        tot_dur  flows  ...  pktrate  Pairflow  Protocol  port_no   tx_bytes  \\\n",
       "0  1.010000e+11      3  ...      451         0       UDP        3  143928631   \n",
       "1  2.810000e+11      2  ...      451         0       UDP        4       3842   \n",
       "2  2.010000e+11      3  ...      451         0       UDP        1       3795   \n",
       "3  2.010000e+11      3  ...      451         0       UDP        2       3688   \n",
       "4  2.010000e+11      3  ...      451         0       UDP        3       3413   \n",
       "\n",
       "  rx_bytes  tx_kbps  rx_kbps  tot_kbps  label  \n",
       "0     3917        0      0.0       0.0      0  \n",
       "1     3520        0      0.0       0.0      0  \n",
       "2     1242        0      0.0       0.0      0  \n",
       "3     1492        0      0.0       0.0      0  \n",
       "4     3665        0      0.0       0.0      0  \n",
       "\n",
       "[5 rows x 23 columns]"
      ]
     },
     "execution_count": 13,
     "metadata": {},
     "output_type": "execute_result"
    }
   ],
   "source": [
    "data.head()"
   ]
  },
  {
   "cell_type": "code",
   "execution_count": 14,
   "id": "a5febedf",
   "metadata": {},
   "outputs": [
    {
     "data": {
      "text/plain": [
       "(104345, 23)"
      ]
     },
     "execution_count": 14,
     "metadata": {},
     "output_type": "execute_result"
    }
   ],
   "source": [
    "data.shape"
   ]
  },
  {
   "cell_type": "code",
   "execution_count": 15,
   "id": "35d0a863",
   "metadata": {
    "scrolled": true
   },
   "outputs": [
    {
     "name": "stdout",
     "output_type": "stream",
     "text": [
      "<class 'pandas.core.frame.DataFrame'>\n",
      "RangeIndex: 104345 entries, 0 to 104344\n",
      "Data columns (total 23 columns):\n",
      " #   Column       Non-Null Count   Dtype  \n",
      "---  ------       --------------   -----  \n",
      " 0   dt           104345 non-null  int64  \n",
      " 1   switch       104345 non-null  int64  \n",
      " 2   src          104345 non-null  object \n",
      " 3   dst          104345 non-null  object \n",
      " 4   pktcount     104345 non-null  int64  \n",
      " 5   bytecount    104345 non-null  int64  \n",
      " 6   dur          104345 non-null  int64  \n",
      " 7   dur_nsec     104345 non-null  int64  \n",
      " 8   tot_dur      104345 non-null  float64\n",
      " 9   flows        104345 non-null  int64  \n",
      " 10  packetins    104345 non-null  int64  \n",
      " 11  pktperflow   104345 non-null  int64  \n",
      " 12  byteperflow  104345 non-null  int64  \n",
      " 13  pktrate      104345 non-null  int64  \n",
      " 14  Pairflow     104345 non-null  int64  \n",
      " 15  Protocol     104345 non-null  object \n",
      " 16  port_no      104345 non-null  int64  \n",
      " 17  tx_bytes     104345 non-null  int64  \n",
      " 18  rx_bytes     104345 non-null  int64  \n",
      " 19  tx_kbps      104345 non-null  int64  \n",
      " 20  rx_kbps      103839 non-null  float64\n",
      " 21  tot_kbps     103839 non-null  float64\n",
      " 22  label        104345 non-null  int64  \n",
      "dtypes: float64(3), int64(17), object(3)\n",
      "memory usage: 18.3+ MB\n"
     ]
    }
   ],
   "source": [
    "data.info()"
   ]
  },
  {
   "cell_type": "code",
   "execution_count": 16,
   "id": "089c9c35",
   "metadata": {},
   "outputs": [
    {
     "data": {
      "text/plain": [
       "array([0, 1], dtype=int64)"
      ]
     },
     "execution_count": 16,
     "metadata": {},
     "output_type": "execute_result"
    }
   ],
   "source": [
    "data.label.unique()"
   ]
  },
  {
   "cell_type": "code",
   "execution_count": 17,
   "id": "19bb158f",
   "metadata": {},
   "outputs": [
    {
     "data": {
      "text/plain": [
       "label\n",
       "0    63561\n",
       "1    40784\n",
       "Name: count, dtype: int64"
      ]
     },
     "execution_count": 17,
     "metadata": {},
     "output_type": "execute_result"
    }
   ],
   "source": [
    "data.label.value_counts()"
   ]
  },
  {
   "cell_type": "code",
   "execution_count": null,
   "id": "cbf4bfbc",
   "metadata": {},
   "outputs": [
    {
     "ename": "KeyboardInterrupt",
     "evalue": "",
     "output_type": "error",
     "traceback": [
      "\u001b[1;31m---------------------------------------------------------------------------\u001b[0m",
      "\u001b[1;31mKeyboardInterrupt\u001b[0m                         Traceback (most recent call last)",
      "Cell \u001b[1;32mIn[18], line 2\u001b[0m\n\u001b[0;32m      1\u001b[0m label_dict \u001b[38;5;241m=\u001b[39m [\u001b[38;5;28mdict\u001b[39m(data\u001b[38;5;241m.\u001b[39mlabel\u001b[38;5;241m.\u001b[39mvalue_counts())[\u001b[38;5;241m0\u001b[39m], \u001b[38;5;28mdict\u001b[39m(data\u001b[38;5;241m.\u001b[39mlabel\u001b[38;5;241m.\u001b[39mvalue_counts())[\u001b[38;5;241m1\u001b[39m]]\n\u001b[1;32m----> 2\u001b[0m sns\u001b[38;5;241m.\u001b[39mcountplot(data\u001b[38;5;241m.\u001b[39mlabel)\n",
      "File \u001b[1;32m~\\anaconda files\\Lib\\site-packages\\seaborn\\categorical.py:2675\u001b[0m, in \u001b[0;36mcountplot\u001b[1;34m(data, x, y, hue, order, hue_order, orient, color, palette, saturation, fill, hue_norm, stat, width, dodge, gap, log_scale, native_scale, formatter, legend, ax, **kwargs)\u001b[0m\n\u001b[0;32m   2671\u001b[0m     p\u001b[38;5;241m.\u001b[39mplot_data[count_axis] \u001b[38;5;241m/\u001b[39m\u001b[38;5;241m=\u001b[39m \u001b[38;5;28mlen\u001b[39m(p\u001b[38;5;241m.\u001b[39mplot_data) \u001b[38;5;241m/\u001b[39m denom\n\u001b[0;32m   2673\u001b[0m aggregator \u001b[38;5;241m=\u001b[39m EstimateAggregator(\u001b[38;5;124m\"\u001b[39m\u001b[38;5;124msum\u001b[39m\u001b[38;5;124m\"\u001b[39m, errorbar\u001b[38;5;241m=\u001b[39m\u001b[38;5;28;01mNone\u001b[39;00m)\n\u001b[1;32m-> 2675\u001b[0m p\u001b[38;5;241m.\u001b[39mplot_bars(\n\u001b[0;32m   2676\u001b[0m     aggregator\u001b[38;5;241m=\u001b[39maggregator,\n\u001b[0;32m   2677\u001b[0m     dodge\u001b[38;5;241m=\u001b[39mdodge,\n\u001b[0;32m   2678\u001b[0m     width\u001b[38;5;241m=\u001b[39mwidth,\n\u001b[0;32m   2679\u001b[0m     gap\u001b[38;5;241m=\u001b[39mgap,\n\u001b[0;32m   2680\u001b[0m     color\u001b[38;5;241m=\u001b[39mcolor,\n\u001b[0;32m   2681\u001b[0m     fill\u001b[38;5;241m=\u001b[39mfill,\n\u001b[0;32m   2682\u001b[0m     capsize\u001b[38;5;241m=\u001b[39m\u001b[38;5;241m0\u001b[39m,\n\u001b[0;32m   2683\u001b[0m     err_kws\u001b[38;5;241m=\u001b[39m{},\n\u001b[0;32m   2684\u001b[0m     plot_kws\u001b[38;5;241m=\u001b[39mkwargs,\n\u001b[0;32m   2685\u001b[0m )\n\u001b[0;32m   2687\u001b[0m p\u001b[38;5;241m.\u001b[39m_add_axis_labels(ax)\n\u001b[0;32m   2688\u001b[0m p\u001b[38;5;241m.\u001b[39m_adjust_cat_axis(ax, axis\u001b[38;5;241m=\u001b[39mp\u001b[38;5;241m.\u001b[39morient)\n",
      "File \u001b[1;32m~\\anaconda files\\Lib\\site-packages\\seaborn\\categorical.py:1315\u001b[0m, in \u001b[0;36m_CategoricalPlotter.plot_bars\u001b[1;34m(self, aggregator, dodge, gap, width, fill, color, capsize, err_kws, plot_kws)\u001b[0m\n\u001b[0;32m   1312\u001b[0m \u001b[38;5;28;01melse\u001b[39;00m:\n\u001b[0;32m   1313\u001b[0m     kws\u001b[38;5;241m.\u001b[39mupdate(color\u001b[38;5;241m=\u001b[39mmain_color, edgecolor\u001b[38;5;241m=\u001b[39mmain_color, facecolor\u001b[38;5;241m=\u001b[39m\u001b[38;5;124m\"\u001b[39m\u001b[38;5;124mnone\u001b[39m\u001b[38;5;124m\"\u001b[39m)\n\u001b[1;32m-> 1315\u001b[0m bar_func(\u001b[38;5;241m*\u001b[39m\u001b[38;5;241m*\u001b[39m{\u001b[38;5;241m*\u001b[39m\u001b[38;5;241m*\u001b[39mkws, \u001b[38;5;241m*\u001b[39m\u001b[38;5;241m*\u001b[39mplot_kws})\n\u001b[0;32m   1317\u001b[0m \u001b[38;5;28;01mif\u001b[39;00m aggregator\u001b[38;5;241m.\u001b[39merror_method \u001b[38;5;129;01mis\u001b[39;00m \u001b[38;5;129;01mnot\u001b[39;00m \u001b[38;5;28;01mNone\u001b[39;00m:\n\u001b[0;32m   1318\u001b[0m     \u001b[38;5;28mself\u001b[39m\u001b[38;5;241m.\u001b[39mplot_errorbars(\n\u001b[0;32m   1319\u001b[0m         ax, agg_data, capsize,\n\u001b[0;32m   1320\u001b[0m         {\u001b[38;5;124m\"\u001b[39m\u001b[38;5;124mcolor\u001b[39m\u001b[38;5;124m\"\u001b[39m: \u001b[38;5;124m\"\u001b[39m\u001b[38;5;124m.26\u001b[39m\u001b[38;5;124m\"\u001b[39m \u001b[38;5;28;01mif\u001b[39;00m fill \u001b[38;5;28;01melse\u001b[39;00m main_color, \u001b[38;5;241m*\u001b[39m\u001b[38;5;241m*\u001b[39merr_kws}\n\u001b[0;32m   1321\u001b[0m     )\n",
      "File \u001b[1;32m~\\anaconda files\\Lib\\site-packages\\matplotlib\\__init__.py:1465\u001b[0m, in \u001b[0;36m_preprocess_data.<locals>.inner\u001b[1;34m(ax, data, *args, **kwargs)\u001b[0m\n\u001b[0;32m   1462\u001b[0m \u001b[38;5;129m@functools\u001b[39m\u001b[38;5;241m.\u001b[39mwraps(func)\n\u001b[0;32m   1463\u001b[0m \u001b[38;5;28;01mdef\u001b[39;00m \u001b[38;5;21minner\u001b[39m(ax, \u001b[38;5;241m*\u001b[39margs, data\u001b[38;5;241m=\u001b[39m\u001b[38;5;28;01mNone\u001b[39;00m, \u001b[38;5;241m*\u001b[39m\u001b[38;5;241m*\u001b[39mkwargs):\n\u001b[0;32m   1464\u001b[0m     \u001b[38;5;28;01mif\u001b[39;00m data \u001b[38;5;129;01mis\u001b[39;00m \u001b[38;5;28;01mNone\u001b[39;00m:\n\u001b[1;32m-> 1465\u001b[0m         \u001b[38;5;28;01mreturn\u001b[39;00m func(ax, \u001b[38;5;241m*\u001b[39m\u001b[38;5;28mmap\u001b[39m(sanitize_sequence, args), \u001b[38;5;241m*\u001b[39m\u001b[38;5;241m*\u001b[39mkwargs)\n\u001b[0;32m   1467\u001b[0m     bound \u001b[38;5;241m=\u001b[39m new_sig\u001b[38;5;241m.\u001b[39mbind(ax, \u001b[38;5;241m*\u001b[39margs, \u001b[38;5;241m*\u001b[39m\u001b[38;5;241m*\u001b[39mkwargs)\n\u001b[0;32m   1468\u001b[0m     auto_label \u001b[38;5;241m=\u001b[39m (bound\u001b[38;5;241m.\u001b[39marguments\u001b[38;5;241m.\u001b[39mget(label_namer)\n\u001b[0;32m   1469\u001b[0m                   \u001b[38;5;129;01mor\u001b[39;00m bound\u001b[38;5;241m.\u001b[39mkwargs\u001b[38;5;241m.\u001b[39mget(label_namer))\n",
      "File \u001b[1;32m~\\anaconda files\\Lib\\site-packages\\matplotlib\\axes\\_axes.py:2538\u001b[0m, in \u001b[0;36mAxes.bar\u001b[1;34m(self, x, height, width, bottom, align, **kwargs)\u001b[0m\n\u001b[0;32m   2536\u001b[0m     \u001b[38;5;28;01melse\u001b[39;00m:  \u001b[38;5;66;03m# horizontal\u001b[39;00m\n\u001b[0;32m   2537\u001b[0m         r\u001b[38;5;241m.\u001b[39msticky_edges\u001b[38;5;241m.\u001b[39mx\u001b[38;5;241m.\u001b[39mappend(l)\n\u001b[1;32m-> 2538\u001b[0m     \u001b[38;5;28mself\u001b[39m\u001b[38;5;241m.\u001b[39madd_patch(r)\n\u001b[0;32m   2539\u001b[0m     patches\u001b[38;5;241m.\u001b[39mappend(r)\n\u001b[0;32m   2541\u001b[0m \u001b[38;5;28;01mif\u001b[39;00m xerr \u001b[38;5;129;01mis\u001b[39;00m \u001b[38;5;129;01mnot\u001b[39;00m \u001b[38;5;28;01mNone\u001b[39;00m \u001b[38;5;129;01mor\u001b[39;00m yerr \u001b[38;5;129;01mis\u001b[39;00m \u001b[38;5;129;01mnot\u001b[39;00m \u001b[38;5;28;01mNone\u001b[39;00m:\n",
      "File \u001b[1;32m~\\anaconda files\\Lib\\site-packages\\matplotlib\\axes\\_base.py:2384\u001b[0m, in \u001b[0;36m_AxesBase.add_patch\u001b[1;34m(self, p)\u001b[0m\n\u001b[0;32m   2382\u001b[0m \u001b[38;5;28;01mif\u001b[39;00m p\u001b[38;5;241m.\u001b[39mget_clip_path() \u001b[38;5;129;01mis\u001b[39;00m \u001b[38;5;28;01mNone\u001b[39;00m:\n\u001b[0;32m   2383\u001b[0m     p\u001b[38;5;241m.\u001b[39mset_clip_path(\u001b[38;5;28mself\u001b[39m\u001b[38;5;241m.\u001b[39mpatch)\n\u001b[1;32m-> 2384\u001b[0m \u001b[38;5;28mself\u001b[39m\u001b[38;5;241m.\u001b[39m_update_patch_limits(p)\n\u001b[0;32m   2385\u001b[0m \u001b[38;5;28mself\u001b[39m\u001b[38;5;241m.\u001b[39m_children\u001b[38;5;241m.\u001b[39mappend(p)\n\u001b[0;32m   2386\u001b[0m p\u001b[38;5;241m.\u001b[39m_remove_method \u001b[38;5;241m=\u001b[39m \u001b[38;5;28mself\u001b[39m\u001b[38;5;241m.\u001b[39m_children\u001b[38;5;241m.\u001b[39mremove\n",
      "File \u001b[1;32m~\\anaconda files\\Lib\\site-packages\\matplotlib\\axes\\_base.py:2416\u001b[0m, in \u001b[0;36m_AxesBase._update_patch_limits\u001b[1;34m(self, patch)\u001b[0m\n\u001b[0;32m   2413\u001b[0m     vertices \u001b[38;5;241m=\u001b[39m np\u001b[38;5;241m.\u001b[39mvstack(vertices)\n\u001b[0;32m   2415\u001b[0m patch_trf \u001b[38;5;241m=\u001b[39m patch\u001b[38;5;241m.\u001b[39mget_transform()\n\u001b[1;32m-> 2416\u001b[0m updatex, updatey \u001b[38;5;241m=\u001b[39m patch_trf\u001b[38;5;241m.\u001b[39mcontains_branch_seperately(\u001b[38;5;28mself\u001b[39m\u001b[38;5;241m.\u001b[39mtransData)\n\u001b[0;32m   2417\u001b[0m \u001b[38;5;28;01mif\u001b[39;00m \u001b[38;5;129;01mnot\u001b[39;00m (updatex \u001b[38;5;129;01mor\u001b[39;00m updatey):\n\u001b[0;32m   2418\u001b[0m     \u001b[38;5;28;01mreturn\u001b[39;00m\n",
      "File \u001b[1;32m~\\anaconda files\\Lib\\site-packages\\matplotlib\\transforms.py:1416\u001b[0m, in \u001b[0;36mTransform.contains_branch_seperately\u001b[1;34m(self, other_transform)\u001b[0m\n\u001b[0;32m   1412\u001b[0m     \u001b[38;5;28;01mraise\u001b[39;00m \u001b[38;5;167;01mValueError\u001b[39;00m(\u001b[38;5;124m'\u001b[39m\u001b[38;5;124mcontains_branch_seperately only supports \u001b[39m\u001b[38;5;124m'\u001b[39m\n\u001b[0;32m   1413\u001b[0m                      \u001b[38;5;124m'\u001b[39m\u001b[38;5;124mtransforms with 2 output dimensions\u001b[39m\u001b[38;5;124m'\u001b[39m)\n\u001b[0;32m   1414\u001b[0m \u001b[38;5;66;03m# for a non-blended transform each separate dimension is the same, so\u001b[39;00m\n\u001b[0;32m   1415\u001b[0m \u001b[38;5;66;03m# just return the appropriate shape.\u001b[39;00m\n\u001b[1;32m-> 1416\u001b[0m \u001b[38;5;28;01mreturn\u001b[39;00m [\u001b[38;5;28mself\u001b[39m\u001b[38;5;241m.\u001b[39mcontains_branch(other_transform)] \u001b[38;5;241m*\u001b[39m \u001b[38;5;241m2\u001b[39m\n",
      "File \u001b[1;32m~\\anaconda files\\Lib\\site-packages\\matplotlib\\transforms.py:1395\u001b[0m, in \u001b[0;36mTransform.contains_branch\u001b[1;34m(self, other)\u001b[0m\n\u001b[0;32m   1392\u001b[0m     \u001b[38;5;28;01mreturn\u001b[39;00m \u001b[38;5;28;01mFalse\u001b[39;00m\n\u001b[0;32m   1394\u001b[0m \u001b[38;5;66;03m# check that a subtree is equal to other (starting from self)\u001b[39;00m\n\u001b[1;32m-> 1395\u001b[0m \u001b[38;5;28;01mfor\u001b[39;00m _, sub_tree \u001b[38;5;129;01min\u001b[39;00m \u001b[38;5;28mself\u001b[39m\u001b[38;5;241m.\u001b[39m_iter_break_from_left_to_right():\n\u001b[0;32m   1396\u001b[0m     \u001b[38;5;28;01mif\u001b[39;00m sub_tree \u001b[38;5;241m==\u001b[39m other:\n\u001b[0;32m   1397\u001b[0m         \u001b[38;5;28;01mreturn\u001b[39;00m \u001b[38;5;28;01mTrue\u001b[39;00m\n",
      "File \u001b[1;32m~\\anaconda files\\Lib\\site-packages\\matplotlib\\transforms.py:2393\u001b[0m, in \u001b[0;36mCompositeGenericTransform._iter_break_from_left_to_right\u001b[1;34m(self)\u001b[0m\n\u001b[0;32m   2391\u001b[0m \u001b[38;5;28;01mdef\u001b[39;00m \u001b[38;5;21m_iter_break_from_left_to_right\u001b[39m(\u001b[38;5;28mself\u001b[39m):\n\u001b[0;32m   2392\u001b[0m     \u001b[38;5;28;01mfor\u001b[39;00m left, right \u001b[38;5;129;01min\u001b[39;00m \u001b[38;5;28mself\u001b[39m\u001b[38;5;241m.\u001b[39m_a\u001b[38;5;241m.\u001b[39m_iter_break_from_left_to_right():\n\u001b[1;32m-> 2393\u001b[0m         \u001b[38;5;28;01myield\u001b[39;00m left, right \u001b[38;5;241m+\u001b[39m \u001b[38;5;28mself\u001b[39m\u001b[38;5;241m.\u001b[39m_b\n\u001b[0;32m   2394\u001b[0m     \u001b[38;5;28;01mfor\u001b[39;00m left, right \u001b[38;5;129;01min\u001b[39;00m \u001b[38;5;28mself\u001b[39m\u001b[38;5;241m.\u001b[39m_b\u001b[38;5;241m.\u001b[39m_iter_break_from_left_to_right():\n\u001b[0;32m   2395\u001b[0m         \u001b[38;5;28;01myield\u001b[39;00m \u001b[38;5;28mself\u001b[39m\u001b[38;5;241m.\u001b[39m_a \u001b[38;5;241m+\u001b[39m left, right\n",
      "File \u001b[1;32m~\\anaconda files\\Lib\\site-packages\\matplotlib\\transforms.py:1347\u001b[0m, in \u001b[0;36mTransform.__add__\u001b[1;34m(self, other)\u001b[0m\n\u001b[0;32m   1340\u001b[0m \u001b[38;5;28;01mdef\u001b[39;00m \u001b[38;5;21m__add__\u001b[39m(\u001b[38;5;28mself\u001b[39m, other):\n\u001b[0;32m   1341\u001b[0m \u001b[38;5;250m    \u001b[39m\u001b[38;5;124;03m\"\"\"\u001b[39;00m\n\u001b[0;32m   1342\u001b[0m \u001b[38;5;124;03m    Compose two transforms together so that *self* is followed by *other*.\u001b[39;00m\n\u001b[0;32m   1343\u001b[0m \n\u001b[0;32m   1344\u001b[0m \u001b[38;5;124;03m    ``A + B`` returns a transform ``C`` so that\u001b[39;00m\n\u001b[0;32m   1345\u001b[0m \u001b[38;5;124;03m    ``C.transform(x) == B.transform(A.transform(x))``.\u001b[39;00m\n\u001b[0;32m   1346\u001b[0m \u001b[38;5;124;03m    \"\"\"\u001b[39;00m\n\u001b[1;32m-> 1347\u001b[0m     \u001b[38;5;28;01mreturn\u001b[39;00m (composite_transform_factory(\u001b[38;5;28mself\u001b[39m, other)\n\u001b[0;32m   1348\u001b[0m             \u001b[38;5;28;01mif\u001b[39;00m \u001b[38;5;28misinstance\u001b[39m(other, Transform) \u001b[38;5;28;01melse\u001b[39;00m\n\u001b[0;32m   1349\u001b[0m             \u001b[38;5;28mNotImplemented\u001b[39m)\n",
      "File \u001b[1;32m~\\anaconda files\\Lib\\site-packages\\matplotlib\\transforms.py:2522\u001b[0m, in \u001b[0;36mcomposite_transform_factory\u001b[1;34m(a, b)\u001b[0m\n\u001b[0;32m   2520\u001b[0m \u001b[38;5;28;01melif\u001b[39;00m \u001b[38;5;28misinstance\u001b[39m(a, Affine2D) \u001b[38;5;129;01mand\u001b[39;00m \u001b[38;5;28misinstance\u001b[39m(b, Affine2D):\n\u001b[0;32m   2521\u001b[0m     \u001b[38;5;28;01mreturn\u001b[39;00m CompositeAffine2D(a, b)\n\u001b[1;32m-> 2522\u001b[0m \u001b[38;5;28;01mreturn\u001b[39;00m CompositeGenericTransform(a, b)\n",
      "File \u001b[1;32m~\\anaconda files\\Lib\\site-packages\\matplotlib\\transforms.py:2366\u001b[0m, in \u001b[0;36mCompositeGenericTransform.__init__\u001b[1;34m(self, a, b, **kwargs)\u001b[0m\n\u001b[0;32m   2364\u001b[0m \u001b[38;5;28mself\u001b[39m\u001b[38;5;241m.\u001b[39m_a \u001b[38;5;241m=\u001b[39m a\n\u001b[0;32m   2365\u001b[0m \u001b[38;5;28mself\u001b[39m\u001b[38;5;241m.\u001b[39m_b \u001b[38;5;241m=\u001b[39m b\n\u001b[1;32m-> 2366\u001b[0m \u001b[38;5;28mself\u001b[39m\u001b[38;5;241m.\u001b[39mset_children(a, b)\n",
      "File \u001b[1;32m~\\anaconda files\\Lib\\site-packages\\matplotlib\\transforms.py:199\u001b[0m, in \u001b[0;36mTransformNode.set_children\u001b[1;34m(self, *children)\u001b[0m\n\u001b[0;32m    193\u001b[0m \u001b[38;5;28;01mfor\u001b[39;00m child \u001b[38;5;129;01min\u001b[39;00m children:\n\u001b[0;32m    194\u001b[0m     \u001b[38;5;66;03m# Use weak references so this dictionary won't keep obsolete nodes\u001b[39;00m\n\u001b[0;32m    195\u001b[0m     \u001b[38;5;66;03m# alive; the callback deletes the dictionary entry. This is a\u001b[39;00m\n\u001b[0;32m    196\u001b[0m     \u001b[38;5;66;03m# performance improvement over using WeakValueDictionary.\u001b[39;00m\n\u001b[0;32m    197\u001b[0m     ref \u001b[38;5;241m=\u001b[39m weakref\u001b[38;5;241m.\u001b[39mref(\n\u001b[0;32m    198\u001b[0m         \u001b[38;5;28mself\u001b[39m, \u001b[38;5;28;01mlambda\u001b[39;00m _, pop\u001b[38;5;241m=\u001b[39mchild\u001b[38;5;241m.\u001b[39m_parents\u001b[38;5;241m.\u001b[39mpop, k\u001b[38;5;241m=\u001b[39mid_self: pop(k))\n\u001b[1;32m--> 199\u001b[0m     child\u001b[38;5;241m.\u001b[39m_parents[id_self] \u001b[38;5;241m=\u001b[39m ref\n",
      "\u001b[1;31mKeyboardInterrupt\u001b[0m: "
     ]
    }
   ],
   "source": [
    "label_dict = [dict(data.label.value_counts())[0], dict(data.label.value_counts())[1]]\n",
    "sns.countplot(data.label)"
   ]
  },
  {
   "cell_type": "code",
   "execution_count": null,
   "id": "50c8c8ca",
   "metadata": {
    "scrolled": true
   },
   "outputs": [],
   "source": [
    "labels = [\"Maliciuous\", 'Benign']\n",
    "sizes = [dict(data.label.value_counts())[0], dict(data.label.value_counts())[1]]\n",
    "plt.figure(figsize = (13, 8))\n",
    "plt.pie(sizes, labels=labels, autopct='%1.1f%%', shadow= True, startangle=90)\n",
    "plt.legend([\"Malicious\", \"Benign\"])\n",
    "plt.title('The percentage of Benign and Malicious Requests in dataset')\n",
    "plt.show()"
   ]
  },
  {
   "cell_type": "code",
   "execution_count": null,
   "id": "2a0d9830",
   "metadata": {
    "scrolled": true
   },
   "outputs": [],
   "source": [
    "data.describe()"
   ]
  },
  {
   "cell_type": "code",
   "execution_count": null,
   "id": "1ba11e8b",
   "metadata": {
    "scrolled": true
   },
   "outputs": [],
   "source": [
    "figure(figsize=(9, 5), dpi=80)\n",
    "data[data.columns[data.isna().sum()>=0]].isna().sum().sort_values().plot.bar()\n",
    "plt.title(\"Features which has NuLL values\")\n"
   ]
  },
  {
   "cell_type": "code",
   "execution_count": null,
   "id": "f10b8180",
   "metadata": {
    "scrolled": true
   },
   "outputs": [],
   "source": [
    "data.isnull().sum()"
   ]
  },
  {
   "cell_type": "code",
   "execution_count": null,
   "id": "01ab8cb1",
   "metadata": {},
   "outputs": [],
   "source": [
    "numeric_df=data.select_dtypes(include=['int64', 'float64'])\n",
    "object_df=data.select_dtypes(include=['object'])\n",
    "numeric_cols = numeric_df.columns\n",
    "object_cols = object_df.columns\n",
    "\n",
    "print('Numeric Columns: ')\n",
    "print(numeric_cols, '\\n')\n",
    "print('Object Columns: ')\n",
    "print(object_cols, '\\n')\n",
    "print('Number of Numeric Features: ', len(numeric_cols))\n",
    "print('Number of Object Features: ', len(object_cols))"
   ]
  },
  {
   "cell_type": "code",
   "execution_count": null,
   "id": "5ab86366",
   "metadata": {},
   "outputs": [],
   "source": [
    "object_df.head()"
   ]
  },
  {
   "cell_type": "code",
   "execution_count": null,
   "id": "332143d7",
   "metadata": {
    "scrolled": true
   },
   "outputs": [],
   "source": [
    "figure(figsize=(12, 7), dpi=80)\n",
    "plt.barh(list(dict(data.src.value_counts()).keys()), dict(data.src.value_counts()).values(), color='lawngreen')\n",
    "\n",
    "for idx, val in enumerate(dict(data.src.value_counts()).values()):\n",
    "    plt.text(x = val, y = idx-0.2, s = str(val), color='r', size = 13)\n",
    "\n",
    "plt.xlabel('Number of Requests')\n",
    "plt.ylabel('IP addres of sender')\n",
    "plt.title('Number of all reqests')"
   ]
  },
  {
   "cell_type": "code",
   "execution_count": null,
   "id": "86ced974",
   "metadata": {},
   "outputs": [],
   "source": [
    "figure(figsize=(12, 7), dpi=80)\n",
    "plt.barh(list(dict(data[data.label == 1].src.value_counts()).keys()), dict(data[data.label == 1].src.value_counts()).values(), color='blue')\n",
    "\n",
    "for idx, val in enumerate(dict(data[data.label == 1].src.value_counts()).values()):\n",
    "    plt.text(x = val, y = idx-0.2, s = str(val), color='r', size = 13)\n",
    "\n",
    "plt.xlabel('Number of Requests')\n",
    "plt.ylabel('IP addres of sender')\n",
    "plt.title('Number of Attack requests')"
   ]
  },
  {
   "cell_type": "code",
   "execution_count": null,
   "id": "4408cd50",
   "metadata": {},
   "outputs": [],
   "source": [
    "figure(figsize=(12, 7), dpi=80)\n",
    "plt.barh(list(dict(data.src.value_counts()).keys()), dict(data.src.value_counts()).values(), color='lawngreen')\n",
    "plt.barh(list(dict(data[data.label == 1].src.value_counts()).keys()), dict(data[data.label == 1].src.value_counts()).values(), color='blue')\n",
    "\n",
    "for idx, val in enumerate(dict(data.src.value_counts()).values()):\n",
    "    plt.text(x = val, y = idx-0.2, s = str(val), color='r', size = 13)\n",
    "\n",
    "for idx, val in enumerate(dict(data[data.label == 1].src.value_counts()).values()):\n",
    "    plt.text(x = val, y = idx-0.2, s = str(val), color='w', size = 13)\n",
    "\n",
    "\n",
    "plt.xlabel('Number of Requests')\n",
    "plt.ylabel('IP addres of sender')\n",
    "plt.legend(['All','malicious'])\n",
    "plt.title('Number of requests from different IP adress')"
   ]
  },
  {
   "cell_type": "code",
   "execution_count": null,
   "id": "fcb793ed",
   "metadata": {},
   "outputs": [],
   "source": [
    "figure(figsize=(10, 6), dpi=80)\n",
    "plt.bar(list(dict(data.Protocol.value_counts()).keys()), dict(data.Protocol.value_counts()).values(), color='r')\n",
    "plt.bar(list(dict(data[data.label == 1].Protocol.value_counts()).keys()), dict(data[data.label == 1].Protocol.value_counts()).values(), color='b')\n",
    "\n",
    "plt.text(x = 0 - 0.15, y = 41321 + 200, s = str(41321), color='black', size=17)\n",
    "plt.text(x = 1 - 0.15, y = 33588 + 200, s = str(33588), color='black', size=17)\n",
    "plt.text(x = 2 - 0.15, y = 29436 + 200, s = str(29436), color='black', size=17)\n",
    "\n",
    "plt.text(x = 0 - 0.15, y = 9419 + 200, s = str(9419), color='w', size=17)\n",
    "plt.text(x = 1 - 0.15, y = 17499 + 200, s = str(17499), color='w', size=17)\n",
    "plt.text(x = 2 - 0.15, y = 13866 + 200, s = str(13866), color='w', size=17)\n",
    "\n",
    "plt.xlabel('Protocol')\n",
    "plt.ylabel('Count')\n",
    "plt.legend(['All', 'malicious'])\n",
    "plt.title('The number of requests from different protocols')"
   ]
  },
  {
   "cell_type": "code",
   "execution_count": null,
   "id": "008fd68b",
   "metadata": {},
   "outputs": [],
   "source": [
    "df = data.copy()\n"
   ]
  },
  {
   "cell_type": "code",
   "execution_count": null,
   "id": "230743a5",
   "metadata": {},
   "outputs": [],
   "source": [
    "figure(figsize=(8, 4), dpi=80)\n",
    "plt.hist(df.dur, bins=20, color='b')\n",
    "plt.title('Duration')\n",
    "plt.show()"
   ]
  },
  {
   "cell_type": "code",
   "execution_count": null,
   "id": "9359468e",
   "metadata": {},
   "outputs": [],
   "source": [
    "figure(figsize=(8, 4), dpi=80)\n",
    "plt.hist(df.tx_bytes, bins=20, color='r')\n",
    "plt.title('TX_BYTES - Transmitted Bytes')\n",
    "plt.show()"
   ]
  },
  {
   "cell_type": "code",
   "execution_count": null,
   "id": "08a3002d",
   "metadata": {},
   "outputs": [],
   "source": [
    "figure(figsize=(8, 4), dpi=80)\n",
    "plt.hist(df.tx_kbps, bins=10, color='g')\n",
    "plt.title('TX_KBPC')\n",
    "plt.show()"
   ]
  },
  {
   "cell_type": "code",
   "execution_count": null,
   "id": "63d7b11c",
   "metadata": {},
   "outputs": [],
   "source": [
    "plt.hist(df.switch, bins=20, color='r')\n",
    "plt.title('SWITCH')\n",
    "plt.xlabel('SWITCH')\n",
    "plt.show()"
   ]
  },
  {
   "cell_type": "code",
   "execution_count": null,
   "id": "7e003e1d",
   "metadata": {},
   "outputs": [],
   "source": [
    "plt.hist(df[df['label'] == 1].switch, bins=20, color='r')\n",
    "plt.title('SWITCH')\n",
    "plt.xlabel('SWITCH')\n",
    "plt.show()"
   ]
  },
  {
   "cell_type": "code",
   "execution_count": null,
   "id": "e9dbe3ab",
   "metadata": {},
   "outputs": [],
   "source": [
    "class Model:\n",
    "    global y\n",
    "    def __init__(self, data):\n",
    "        self.data = data\n",
    "        X = preprocessing.StandardScaler().fit(self.data).transform(self.data)\n",
    "        self.X_train, self.X_test, self.y_train, self.y_test = train_test_split(X, y, random_state=42, test_size=0.3)  \n",
    "    \n",
    "    def LogisticRegression(self):\n",
    "        solvers = ['newton-cg', 'lbfgs', 'liblinear', 'sag', 'saga']\n",
    "\n",
    "        start_time = time.time()\n",
    "        results_lr = []\n",
    "        accuracy_list = []\n",
    "        for solver in solvers:\n",
    "            LR = LogisticRegression(C=0.03, solver=solver).fit(self.X_train, self.y_train)\n",
    "            predicted_lr = LR.predict(self.X_test)\n",
    "            accuracy_lr = accuracy_score(self.y_test, predicted_lr)\n",
    "        results_lr.append({'solver' : solver, 'accuracy': str(round(accuracy_lr * 100, 2)) + \"%\", \n",
    "                                  'Coefficients': {'W' : LR.coef_, 'b': LR.intercept_}})\n",
    "            \n",
    "        accuracy_list.append(accuracy_lr)\n",
    "       \n",
    "        solver_name = solvers[accuracy_list.index(max(accuracy_list))]\n",
    "        LR = LogisticRegression(C=0.03, solver=solver_name).fit(self.X_train,self.y_train)\n",
    "        predicted_lr = LR.predict(self.X_test)\n",
    "        accuracy_lr = accuracy_score(self.y_test, predicted_lr)\n",
    "        print(\"Accuracy: %.2f%%\" % (accuracy_lr * 100.0), '\\n')\n",
    "        print(\"########################################################################\")\n",
    "        print('Best solver is : ', solver_name)\n",
    "        print(\"########################################################################\")\n",
    "        print(classification_report(predicted_lr, self.y_test), '\\n')\n",
    "        print(\"########################################################################\")\n",
    "        print(\"--- %s seconds --- time for LogisticRegression\" % (time.time() - start_time))\n",
    "        \n",
    "        "
   ]
  },
  {
   "cell_type": "code",
   "execution_count": null,
   "id": "77d51037",
   "metadata": {},
   "outputs": [],
   "source": [
    "def SupportVectorMachine(self):\n",
    "        start_time = time.time()\n",
    "        accuracy_list = []\n",
    "        result_svm = []\n",
    "        kernels = ['linear', 'poly','rbf', 'sigmoid']\n",
    "        #kernels = ['rbf']\n",
    "        for kernel in kernels:\n",
    "            SVM = svm.SVC(kernel=kernel).fit(self.X_train, self.y_train)\n",
    "            predicted_svm = SVM.predict(self.X_test)\n",
    "            accuracy_svm = accuracy_score(self.y_test, predicted_svm)\n",
    "            result_svm.append({\"kernel\" : kernel, \"accuracy\": f\"{round(accuracy_svm*100,2)}%\"})\n",
    "            print(\"Accuracy: %.2f%%\" % round((accuracy_svm * 100.0),2))\n",
    "            print('######################################################################')\n",
    "            accuracy_list.append(accuracy_svm)\n",
    "        \n",
    "        kernel_name = kernels[accuracy_list.index(max(accuracy_list))]\n",
    "        SVM = svm.SVC(kernel=kernel_name).fit(self.X_train, self.y_train)\n",
    "        predicted_svm = SVM.predict(self.X_test)\n",
    "        accuracy_svm = accuracy_score(self.y_test, predicted_svm)\n",
    "        print(f\"Accuracy of SVM model {round(accuracy_svm,2)*100}%\", '\\n')\n",
    "        print(\"########################################################################\")\n",
    "        print('best kernel is : ', kernel_name)\n",
    "        print(\"########################################################################\")\n",
    "        print(classification_report(predicted_svm, self.y_test))\n",
    "        print(\"########################################################################\")\n",
    "        print(\"--- %s seconds ---\" % (time.time() - start_time))"
   ]
  },
  {
   "cell_type": "code",
   "execution_count": null,
   "id": "f3c0767e",
   "metadata": {},
   "outputs": [],
   "source": [
    "def KNearetsNeighbor(self):\n",
    "        start_time = time.time()\n",
    "        Ks = 12\n",
    "        accuracy_knn = np.zeros((Ks-1))\n",
    "        std_acc = np.zeros((Ks-1))\n",
    "        #print(accuracy_knn)\n",
    "        for n in range(1,Ks):\n",
    "\n",
    "            #Train Model and Predict  \n",
    "            neigh = KNeighborsClassifier(n_neighbors = n).fit(self.X_train,self.y_train)\n",
    "            yhat=neigh.predict(self.X_test)\n",
    "            accuracy_knn[n-1] = metrics.accuracy_score(self.y_test, yhat)\n",
    "\n",
    "\n",
    "            std_acc[n-1]=np.std(yhat==self.y_test)/np.sqrt(yhat.shape[0])\n",
    "            \n",
    "        plt.figure(figsize=(10,6))\n",
    "        plt.plot(range(1,Ks),accuracy_knn,'g')\n",
    "        plt.fill_between(range(1,Ks),accuracy_knn - 1 * std_acc,accuracy_knn + 1 * std_acc, alpha=0.10)\n",
    "        plt.fill_between(range(1,Ks),accuracy_knn - 3 * std_acc,accuracy_knn + 3 * std_acc, alpha=0.10,color=\"green\")\n",
    "        plt.legend(('Accuracy ', '+/- 1xstd','+/- 3xstd'))\n",
    "        plt.ylabel('Accuracy ')\n",
    "        plt.xlabel('Number of Neighbors (K)')\n",
    "        plt.tight_layout()\n",
    "        plt.show()\n",
    "        \n",
    "        \n",
    "        knnc = KNeighborsClassifier()\n",
    "        knnc_search = GridSearchCV(knnc, param_grid={'n_neighbors': [3, 5, 10],\n",
    "                                             'weights': ['uniform', 'distance'],\n",
    "                                             'metric': ['euclidean', 'manhattan']},\n",
    "                           n_jobs=-1, cv=3, scoring='accuracy', verbose=2)\n",
    "        \n",
    "        knnc_search.fit(self.X_train, self.y_train)\n",
    "        n_neighbors = knnc_search.best_params_['n_neighbors']\n",
    "        weights = knnc_search.best_params_['weights']\n",
    "        metric = knnc_search.best_params_['metric']\n",
    "        KNN = KNeighborsClassifier(n_neighbors=n_neighbors, metric=metric, weights=weights).fit(self.X_train,self.y_train)\n",
    "        \n",
    "        predicted_knn = KNN.predict(self.X_test)\n",
    "        accuracy_knn = metrics.accuracy_score(self.y_test, predicted_knn)\n",
    "        print(f\"Accuracy of KNN model {round(accuracy_knn,2)*100}%\", '\\n')\n",
    "        print(\"########################################################################\")\n",
    "        print(classification_report(predicted_knn, self.y_test))\n",
    "        print(\"########################################################################\")\n",
    "        print(\"--- %s seconds ---\" % (time.time() - start_time))\n"
   ]
  },
  {
   "cell_type": "code",
   "execution_count": null,
   "id": "85aa315f",
   "metadata": {},
   "outputs": [],
   "source": [
    " def DecisionTree(self):\n",
    "        start_time = time.time()\n",
    "        tree = DecisionTreeClassifier()\n",
    "        dt_search = GridSearchCV(tree, param_grid={'criterion' : ['gini', 'entropy'],\n",
    "                                           'max_depth' : [2,3,4,5,6,7,8, 9, 10],\n",
    "                                           'max_leaf_nodes' : [2,3,4,5,6,7,8,9,10, 11]},\n",
    "                           n_jobs=-1, cv=5, scoring='accuracy', verbose=2)\n",
    "        \n",
    "        dt_search.fit(self.X_train, self.y_train)\n",
    "        \n",
    "        criterion = dt_search.best_params_['criterion']\n",
    "        max_depth = dt_search.best_params_['max_depth']\n",
    "        max_leaf_nodes = dt_search.best_params_['max_leaf_nodes']\n",
    "        \n",
    "        dtree = DecisionTreeClassifier(criterion=criterion, \n",
    "                                       max_depth=max_depth, \n",
    "                                       max_leaf_nodes=max_leaf_nodes).fit(self.X_train, self.y_train)\n",
    "        predicted_dt = dtree.predict(self.X_test)\n",
    "        accuracy_dt = metrics.accuracy_score(self.y_test, predicted_dt)\n",
    "        print(f\"criterion: {criterion}, max depth: {max_depth}, max_leaf: {max_leaf_nodes}\")\n",
    "        print(f\"The Accuracy is : {round(accuracy_dt * 100,2)}%\")\n",
    "        print(\"########################################################################\")\n",
    "        print(classification_report(predicted_dt, self.y_test))\n",
    "        print(\"########################################################################\")\n",
    "        \n",
    "        print(\"--- %s seconds ---\" % (time.time() - start_time))"
   ]
  },
  {
   "cell_type": "code",
   "execution_count": null,
   "id": "0eaeeaba",
   "metadata": {},
   "outputs": [],
   "source": [
    "def RandomForest(self):\n",
    "        start_time = time.time()\n",
    "        RF = RandomForestClassifier(criterion='gini', \n",
    "                                     n_estimators=500,\n",
    "                                     min_samples_split=10,\n",
    "                                     #min_samples_leaf=1,\n",
    "                                     max_features='auto',\n",
    "                                     oob_score=True,\n",
    "                                     random_state=1,\n",
    "                                     n_jobs=-1).fit(self.X_train, self.y_train)\n",
    "        \n",
    "        predicted_rf = RF.predict(self.X_test)\n",
    "        svm_accuracy = accuracy_score(self.y_test, predicted_rf)\n",
    "        print(f\"Accuracy of RF is : {round(svm_accuracy*100,2)}%\", '\\n')\n",
    "        print(\"########################################################################\")\n",
    "        print(classification_report(predicted_rf, self.y_test))\n",
    "        print(\"########################################################################\")\n",
    "        \n",
    "        print(\"--- %s seconds ---\" % (time.time() - start_time))"
   ]
  },
  {
   "cell_type": "code",
   "execution_count": null,
   "id": "94c66e52",
   "metadata": {},
   "outputs": [],
   "source": [
    "\"\"\"\n",
    "Decision Tree works Well\n",
    "Suppert Vector Machine works well\n",
    "Logistic Regression works well\n",
    "KNN works well\n",
    "Random Forest works well\n",
    "\"\"\""
   ]
  },
  {
   "cell_type": "code",
   "execution_count": null,
   "id": "518dbd77",
   "metadata": {},
   "outputs": [],
   "source": [
    "df = data.copy()\n",
    "df = df.dropna()"
   ]
  },
  {
   "cell_type": "code",
   "execution_count": null,
   "id": "b985d6cf",
   "metadata": {},
   "outputs": [],
   "source": [
    "X = df.drop(['dt','src','dst','label'], axis=1)\n",
    "y = df.label"
   ]
  },
  {
   "cell_type": "code",
   "execution_count": null,
   "id": "9d719bcd",
   "metadata": {},
   "outputs": [],
   "source": [
    "X = pd.get_dummies(X)"
   ]
  },
  {
   "cell_type": "code",
   "execution_count": null,
   "id": "81117864",
   "metadata": {},
   "outputs": [],
   "source": [
    "M = Model(X)"
   ]
  },
  {
   "cell_type": "code",
   "execution_count": null,
   "id": "6b537117",
   "metadata": {},
   "outputs": [],
   "source": [
    "M.LogisticRegression()"
   ]
  },
  {
   "cell_type": "code",
   "execution_count": null,
   "id": "c4e51a93",
   "metadata": {},
   "outputs": [],
   "source": [
    "%pip install SupportVectorMachine\n",
    "M.SupportVectorMachine()"
   ]
  },
  {
   "cell_type": "code",
   "execution_count": null,
   "id": "8755dbf5",
   "metadata": {},
   "outputs": [],
   "source": [
    "M.DecisionTree()"
   ]
  },
  {
   "cell_type": "code",
   "execution_count": null,
   "id": "4630db4a",
   "metadata": {},
   "outputs": [],
   "source": [
    "M.RandomForest()"
   ]
  },
  {
   "cell_type": "code",
   "execution_count": null,
   "id": "ee68f1cf",
   "metadata": {},
   "outputs": [],
   "source": []
  }
 ],
 "metadata": {
  "kernelspec": {
   "display_name": "Python 3 (ipykernel)",
   "language": "python",
   "name": "python3"
  },
  "language_info": {
   "codemirror_mode": {
    "name": "ipython",
    "version": 3
   },
   "file_extension": ".py",
   "mimetype": "text/x-python",
   "name": "python",
   "nbconvert_exporter": "python",
   "pygments_lexer": "ipython3",
   "version": "3.12.4"
  }
 },
 "nbformat": 4,
 "nbformat_minor": 5
}
